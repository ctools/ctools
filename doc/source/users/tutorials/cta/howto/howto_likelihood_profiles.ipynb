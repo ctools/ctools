{
 "cells": [
  {
   "cell_type": "markdown",
   "metadata": {},
   "source": [
    "# How to generate likelihood profiles for a fitted spectrum?"
   ]
  },
  {
   "cell_type": "raw",
   "metadata": {},
   "source": [
    "<div align=\"right\"><a href=\"../../../_downloads/howto_likelihood_profiles.ipynb\" download=\"howto_likelihood_profiles.ipynb\"><img src=\"../../../_static/download-notebook.jpg\" alt=\"Download Notebook\" height=\"40\"></a></div>"
   ]
  },
  {
   "cell_type": "markdown",
   "metadata": {},
   "source": [
    "In this tutorial we will learn how to generate likelihood profiles for a spectrum using `csspec`. This is done by running `csspec` with non-zero values for the `dll_sigstep` and `dll_sigmax` parameters. As we'll see, the results can then be plotted using the `show_spectrum.py` example script."
   ]
  },
  {
   "cell_type": "markdown",
   "metadata": {},
   "source": [
    "## The preliminary data/fit\n",
    "Before we can demonstrate how to generate the likelihood profiles, we need to first simulate some data to work with. For this example we will simulate four hours on a simple Crab source. Once we have the simulated Crab data we will fit the model back to the data. This fitted model will be used to generate the SED and likelihood profile in the next section."
   ]
  },
  {
   "cell_type": "code",
   "execution_count": 1,
   "metadata": {},
   "outputs": [],
   "source": [
    "# Load the modules\n",
    "import gammalib\n",
    "import ctools\n",
    "import cscripts\n",
    "\n",
    "# Define the ctools install directory\n",
    "import os\n",
    "ct_dir = os.environ['CTOOLS']\n",
    "os.environ['CALDB'] = ct_dir + '/share/caldb/'"
   ]
  },
  {
   "cell_type": "code",
   "execution_count": 2,
   "metadata": {},
   "outputs": [],
   "source": [
    "# Configure some preliminary variables\n",
    "inmodel = ct_dir + '/share/models/crab.xml'\n",
    "caldb   = 'prod2'\n",
    "irf     = 'North_5h'\n",
    "emin    = 0.1\n",
    "emax    = 100"
   ]
  },
  {
   "cell_type": "code",
   "execution_count": 3,
   "metadata": {},
   "outputs": [],
   "source": [
    "# Simulate some data\n",
    "sim = ctools.ctobssim()\n",
    "sim['inmodel'] = inmodel\n",
    "sim['caldb']   = caldb\n",
    "sim['irf']     = irf\n",
    "sim['edisp']   = False\n",
    "sim['outevents'] = 'outfile.fits'\n",
    "sim['prefix']  = 'sim_events_'\n",
    "sim['ra']      = 83.63\n",
    "sim['dec']     = 22.151\n",
    "sim['rad']     = 5\n",
    "sim['tmin']    = 0\n",
    "sim['tmax']    = 7200\n",
    "sim['emin']    = emin\n",
    "sim['emax']    = emax\n",
    "sim['deadc']   = 0.98\n",
    "\n",
    "# Run the simulation (prevents writing to disk)\n",
    "sim.run()"
   ]
  },
  {
   "cell_type": "code",
   "execution_count": 4,
   "metadata": {},
   "outputs": [],
   "source": [
    "# Fit the data\n",
    "fitter = ctools.ctlike(sim.obs())\n",
    "fitter['edisp'] = False\n",
    "fitter.run()"
   ]
  },
  {
   "cell_type": "markdown",
   "metadata": {},
   "source": [
    "## Generate the likelhood profiles\n",
    "Now that we have a fitted source model and observations we can generate the sample of likelihood profiles."
   ]
  },
  {
   "cell_type": "code",
   "execution_count": 5,
   "metadata": {},
   "outputs": [],
   "source": [
    "# Configure csspec\n",
    "sed = cscripts.csspec(fitter.obs())\n",
    "sed['outfile']  = 'sed_likelihood_profile.fits'\n",
    "sed['caldb']    = caldb\n",
    "sed['irf']      = irf\n",
    "sed['srcname']  = 'Crab'\n",
    "sed['emin']     = emin\n",
    "sed['emax']     = emax\n",
    "sed['enumbins'] = 10\n",
    "sed['debug']    = True\n",
    "\n",
    "# Parameters that control the likelihood profile generation\n",
    "sed['dll_sigstep'] = 1\n",
    "sed['dll_sigmax']  = 5\n",
    "\n",
    "# Execute csspec & save results to file\n",
    "sed.execute()"
   ]
  },
  {
   "cell_type": "markdown",
   "metadata": {},
   "source": [
    "Now that we have a fitted SED, we can generate a plot from the results. A simple way to accomplish this is by using the `show_spectrum.py` example script. "
   ]
  },
  {
   "cell_type": "code",
   "execution_count": 6,
   "metadata": {},
   "outputs": [
    {
     "data": {
      "image/png": "[encoded data removed]",
      "text/plain": [
       "<matplotlib.figure.Figure at 0x11196da50>"
      ]
     },
     "metadata": {},
     "output_type": "display_data"
    }
   ],
   "source": [
    "# Add the examples script directory to the path\n",
    "import sys\n",
    "sys.path.append(ct_dir + '/share/examples/python/')\n",
    "\n",
    "# Plot the SED and likelihood profile\n",
    "import show_spectrum as show_spectrum\n",
    "show_spectrum.plot_spectrum(sed['outfile'].filename(), '')"
   ]
  },
  {
   "cell_type": "markdown",
   "metadata": {},
   "source": [
    "In the above image we can see the spectral points that are produced by `csspec`. Additionally, behind the spectral points we can see the profiled likelihood values. These are plotted as the change in log-likelihood as a function of differential flux."
   ]
  }
 ],
 "metadata": {
  "kernelspec": {
   "display_name": "Python 2",
   "language": "python",
   "name": "python2"
  },
  "language_info": {
   "codemirror_mode": {
    "name": "ipython",
    "version": 2
   },
   "file_extension": ".py",
   "mimetype": "text/x-python",
   "name": "python",
   "nbconvert_exporter": "python",
   "pygments_lexer": "ipython2",
   "version": "2.7.11"
  }
 },
 "nbformat": 4,
 "nbformat_minor": 2
}
