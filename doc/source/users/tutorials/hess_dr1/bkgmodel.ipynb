{
 "cells": [
  {
   "cell_type": "markdown",
   "metadata": {},
   "source": [
    "# Generating a background model from the data"
   ]
  },
  {
   "cell_type": "raw",
   "metadata": {},
   "source": [
    "<div align=\"right\"><a href=\"../../../_downloads/bkgmodel.ipynb\" download=\"bkgmodel.ipynb\"><img src=\"../../../_static/download-notebook.jpg\" alt=\"Download Notebook\" height=\"40\"></a></div>"
   ]
  },
  {
   "cell_type": "markdown",
   "metadata": {},
   "source": [
    "**In this tutorial you will learn to generate a background model from the data**\n",
    "\n",
    "The public H.E.S.S. data do not contain a model for the instrumental background. We can generate one from the data using the csbkgmodel script.\n",
    "\n",
    "We start with the usual imports."
   ]
  },
  {
   "cell_type": "code",
   "execution_count": 15,
   "metadata": {},
   "outputs": [],
   "source": [
    "import gammalib\n",
    "import ctools\n",
    "import cscripts"
   ]
  },
  {
   "cell_type": "markdown",
   "metadata": {},
   "source": [
    "We will use the same events selected in a previous tutorial. For the spatial part we will model the background as a radial Gaussian modified by a bi-linear gradient. For the spectral part we will use a piece-wise power law with 8 nodes between 0.7 TeV and 30 TeV. Note that for a reasonable background fit the nodes should be within the energy range covered by the observations and where there are enough photon counts to constrain the model, hence the upper energy bound at 30 TeV."
   ]
  },
  {
   "cell_type": "code",
   "execution_count": 16,
   "metadata": {},
   "outputs": [],
   "source": [
    "obsfile = \"obs_crab_selected.xml\"\n",
    "outmodel = 'bkgmodel.xml'\n",
    "\n",
    "bkgmodel = cscripts.csbkgmodel()\n",
    "bkgmodel['inobs'] = obsfile\n",
    "bkgmodel['outmodel'] = outmodel\n",
    "bkgmodel['instrument'] = 'HESS'\n",
    "bkgmodel['spatial'] = 'GAUSS'\n",
    "bkgmodel['gradient'] = True\n",
    "bkgmodel['ebinalg'] = 'LOG'\n",
    "bkgmodel['emin'] = 0.7\n",
    "bkgmodel['emax'] = 30.\n",
    "bkgmodel['enumbins'] = 8\n",
    "bkgmodel['runwise'] = True\n",
    "\n",
    "bkgmodel.execute()"
   ]
  },
  {
   "cell_type": "markdown",
   "metadata": {},
   "source": [
    "Let's look at the resulting background model."
   ]
  },
  {
   "cell_type": "code",
   "execution_count": 17,
   "metadata": {},
   "outputs": [
    {
     "name": "stdout",
     "output_type": "stream",
     "text": [
      "=== GModels ===\n",
      " Number of models ..........: 4\n",
      " Number of parameters ......: 80\n",
      "=== GCTAModelBackground ===\n",
      " Name ......................: Background_023523\n",
      " Instruments ...............: HESS\n",
      " Instrument scale factors ..: unity\n",
      " Observation identifiers ...: 023523\n",
      " Model type ................: CTABackground\n",
      " Model components ..........: \"Multiplicative\" * \"NodeFunction\" * \"Constant\"\n",
      " Number of parameters ......: 20\n",
      " Number of spatial par's ...: 3\n",
      "  1:Sigma ..................: 3.19679118852325 +/- 0.148784221714502 [7.71728e-08,infty[ deg2 (free,scale=1,gradient)\n",
      "  2:Grad_DETX ..............: 0.0882131070561384 +/- 0.0223563997131535 deg^-1 (free,scale=1,gradient)\n",
      "  2:Grad_DETY ..............: -0.000692481271743188 +/- 0.0227254581791992 deg^-1 (free,scale=1,gradient)\n",
      " Number of spectral par's ..: 16\n",
      "  Energy0 ..................: 700000 [7e-05,infty[ MeV (fixed,scale=700000)\n",
      "  Intensity0 ...............: 0.00149714476600658 +/- 0.000185798282794166 [9.46696076103918e-14,infty[ ph/cm2/s/MeV (free,scale=0.000946696076103918,gradient)\n",
      "  Energy1 ..................: 1197413.67463685 [0.000119741367463685,infty[ MeV (fixed,scale=1197413.67463685)\n",
      "  Intensity1 ...............: 0.000275025454049597 +/- 1.50407490107521e-05 [3.11144874586726e-14,infty[ ph/cm2/s/MeV (free,scale=0.000311144874586726,gradient)\n",
      "  Energy2 ..................: 2048285.01172474 [0.000204828501172474,infty[ MeV (fixed,scale=2048285.01172474)\n",
      "  Intensity2 ...............: 9.68931866899334e-05 +/- 5.86314382972939e-06 [1.02262104412654e-14,infty[ ph/cm2/s/MeV (free,scale=0.000102262104412654,gradient)\n",
      "  Energy3 ..................: 3503777.83227556 [0.000350377783227556,infty[ MeV (fixed,scale=3503777.83227556)\n",
      "  Intensity3 ...............: 3.42414862721453e-05 +/- 2.61283857499118e-06 [3.36098674702412e-15,infty[ ph/cm2/s/MeV (free,scale=3.36098674702412e-05,gradient)\n",
      "  Energy4 ..................: 5993530.69893743 [0.000599353069893743,infty[ MeV (fixed,scale=5993530.69893743)\n",
      "  Intensity4 ...............: 1.2134598847599e-05 +/- 1.19969987797427e-06 [1.10463518999066e-15,infty[ ph/cm2/s/MeV (free,scale=1.10463518999066e-05,gradient)\n",
      "  Energy5 ..................: 10252479.454662 [0.0010252479454662,infty[ MeV (fixed,scale=10252479.454662)\n",
      "  Intensity5 ...............: 4.80035386464156e-06 +/- 6.14208278785316e-07 [3.63053768077518e-16,infty[ ph/cm2/s/MeV (free,scale=3.63053768077518e-06,gradient)\n",
      "  Energy6 ..................: 17537798.7113509 [0.00175377987113509,infty[ MeV (fixed,scale=17537798.7113509)\n",
      "  Intensity6 ...............: 8.5455367005893e-07 +/- 1.75301261074233e-07 [1.19322686539072e-16,infty[ ph/cm2/s/MeV (free,scale=1.19322686539072e-06,gradient)\n",
      "  Energy7 ..................: 30000000 [0.003,infty[ MeV (fixed,scale=30000000)\n",
      "  Intensity7 ...............: 2.8110106615004e-07 +/- 1.02501352381156e-07 [3.92170658310361e-17,infty[ ph/cm2/s/MeV (free,scale=3.92170658310361e-07,gradient)\n",
      " Number of temporal par's ..: 1\n",
      "  Normalization ............: 1 (relative value) (fixed,scale=1,gradient)\n",
      "=== GCTAModelBackground ===\n",
      " Name ......................: Background_023526\n",
      " Instruments ...............: HESS\n",
      " Instrument scale factors ..: unity\n",
      " Observation identifiers ...: 023526\n",
      " Model type ................: CTABackground\n",
      " Model components ..........: \"Multiplicative\" * \"NodeFunction\" * \"Constant\"\n",
      " Number of parameters ......: 20\n",
      " Number of spatial par's ...: 3\n",
      "  1:Sigma ..................: 3.30082205953218 +/- 0.156912956620767 [7.71728e-08,infty[ deg2 (free,scale=1,gradient)\n",
      "  2:Grad_DETX ..............: 0.0153115422362867 +/- 0.0215680816698383 deg^-1 (free,scale=1,gradient)\n",
      "  2:Grad_DETY ..............: -0.00906905077562078 +/- 0.0213184759257543 deg^-1 (free,scale=1,gradient)\n",
      " Number of spectral par's ..: 16\n",
      "  Energy0 ..................: 700000 [7e-05,infty[ MeV (fixed,scale=700000)\n",
      "  Intensity0 ...............: 0.00115207913907334 +/- 6.11872558313686e-05 [8.950257713407e-14,infty[ ph/cm2/s/MeV (free,scale=0.0008950257713407,gradient)\n",
      "  Energy1 ..................: 1197413.67463685 [0.000119741367463685,infty[ MeV (fixed,scale=1197413.67463685)\n",
      "  Intensity1 ...............: 0.000216074985117796 +/- 1.14346974881101e-05 [2.82228203274059e-14,infty[ ph/cm2/s/MeV (free,scale=0.000282228203274059,gradient)\n",
      "  Energy2 ..................: 2048285.01172474 [0.000204828501172474,infty[ MeV (fixed,scale=2048285.01172474)\n",
      "  Intensity2 ...............: 9.80980717622882e-05 +/- 6.14243331439364e-06 [8.8994933189452e-15,infty[ ph/cm2/s/MeV (free,scale=8.8994933189452e-05,gradient)\n",
      "  Energy3 ..................: 3503777.83227556 [0.000350377783227556,infty[ MeV (fixed,scale=3503777.83227556)\n",
      "  Intensity3 ...............: 2.64302082334315e-05 +/- 2.27978082923659e-06 [2.80627451173057e-15,infty[ ph/cm2/s/MeV (free,scale=2.80627451173057e-05,gradient)\n",
      "  Energy4 ..................: 5993530.69893743 [0.000599353069893743,infty[ MeV (fixed,scale=5993530.69893743)\n",
      "  Intensity4 ...............: 1.03353701064884e-05 +/- 1.13230244143927e-06 [8.84901685180661e-16,infty[ ph/cm2/s/MeV (free,scale=8.84901685180661e-06,gradient)\n",
      "  Energy5 ..................: 10252479.454662 [0.0010252479454662,infty[ MeV (fixed,scale=10252479.454662)\n",
      "  Intensity5 ...............: 3.57899467682822e-06 +/- 5.03727665165389e-07 [2.79035778275547e-16,infty[ ph/cm2/s/MeV (free,scale=2.79035778275547e-06,gradient)\n",
      "  Energy6 ..................: 17537798.7113509 [0.00175377987113509,infty[ MeV (fixed,scale=17537798.7113509)\n",
      "  Intensity6 ...............: 5.95101204005172e-07 +/- 1.41251129058325e-07 [8.79882667891458e-17,infty[ ph/cm2/s/MeV (free,scale=8.79882667891458e-07,gradient)\n",
      "  Energy7 ..................: 30000000 [0.003,infty[ MeV (fixed,scale=30000000)\n",
      "  Intensity7 ...............: 2.81714577113613e-07 +/- 1.0384120888285e-07 [2.77453133085778e-17,infty[ ph/cm2/s/MeV (free,scale=2.77453133085778e-07,gradient)\n",
      " Number of temporal par's ..: 1\n",
      "  Normalization ............: 1 (relative value) (fixed,scale=1,gradient)\n",
      "=== GCTAModelBackground ===\n",
      " Name ......................: Background_023559\n",
      " Instruments ...............: HESS\n",
      " Instrument scale factors ..: unity\n",
      " Observation identifiers ...: 023559\n",
      " Model type ................: CTABackground\n",
      " Model components ..........: \"Multiplicative\" * \"NodeFunction\" * \"Constant\"\n",
      " Number of parameters ......: 20\n",
      " Number of spatial par's ...: 3\n",
      "  1:Sigma ..................: 4.32704862685447 +/- 0.368685355107103 [7.71728e-08,infty[ deg2 (free,scale=1,gradient)\n",
      "  2:Grad_DETX ..............: 0.018772378083067 +/- 0.0217106872366865 deg^-1 (free,scale=1,gradient)\n",
      "  2:Grad_DETY ..............: -0.126627961668458 +/- 0.0204738085196433 deg^-1 (free,scale=1,gradient)\n",
      " Number of spectral par's ..: 16\n",
      "  Energy0 ..................: 700000 [7e-05,infty[ MeV (fixed,scale=700000)\n",
      "  Intensity0 ...............: 0.000915773345685034 +/- 4.89989530347851e-05 [7.43957604504927e-14,infty[ ph/cm2/s/MeV (free,scale=0.000743957604504927,gradient)\n",
      "  Energy1 ..................: 1197413.67463685 [0.000119741367463685,infty[ MeV (fixed,scale=1197413.67463685)\n",
      "  Intensity1 ...............: 0.000197398656687683 +/- 1.07759903733823e-05 [2.35277778278335e-14,infty[ ph/cm2/s/MeV (free,scale=0.000235277778278335,gradient)\n",
      "  Energy2 ..................: 2048285.01172474 [0.000204828501172474,infty[ MeV (fixed,scale=2048285.01172474)\n",
      "  Intensity2 ...............: 6.93704083542102e-05 +/- 4.77505196699795e-06 [7.44069724086306e-15,infty[ ph/cm2/s/MeV (free,scale=7.44069724086306e-05,gradient)\n",
      "  Energy3 ..................: 3503777.83227556 [0.000350377783227556,infty[ MeV (fixed,scale=3503777.83227556)\n",
      "  Intensity3 ...............: 2.57663537500693e-05 +/- 2.20136814658691e-06 [2.35313236274662e-15,infty[ ph/cm2/s/MeV (free,scale=2.35313236274662e-05,gradient)\n",
      "  Energy4 ..................: 5993530.69893743 [0.000599353069893743,infty[ MeV (fixed,scale=5993530.69893743)\n",
      "  Intensity4 ...............: 6.82483279973139e-06 +/- 7.86680350899204e-07 [7.44181860564889e-16,infty[ ph/cm2/s/MeV (free,scale=7.44181860564889e-06,gradient)\n",
      "  Energy5 ..................: 10252479.454662 [0.0010252479454662,infty[ MeV (fixed,scale=10252479.454662)\n",
      "  Intensity5 ...............: 3.3292540797357e-06 +/- 4.68826132796518e-07 [2.35348699614757e-16,infty[ ph/cm2/s/MeV (free,scale=2.35348699614757e-06,gradient)\n",
      "  Energy6 ..................: 17537798.7113509 [0.00175377987113509,infty[ MeV (fixed,scale=17537798.7113509)\n",
      "  Intensity6 ...............: 8.19437245391855e-07 +/- 1.82363529352901e-07 [7.44294013943215e-17,infty[ ph/cm2/s/MeV (free,scale=7.44294013943215e-07,gradient)\n",
      "  Energy7 ..................: 30000000 [0.003,infty[ MeV (fixed,scale=30000000)\n",
      "  Intensity7 ...............: 1.44457348642334e-07 +/- 7.0968299684809e-08 [2.35384168299424e-17,infty[ ph/cm2/s/MeV (free,scale=2.35384168299424e-07,gradient)\n",
      " Number of temporal par's ..: 1\n",
      "  Normalization ............: 1 (relative value) (fixed,scale=1,gradient)\n",
      "=== GCTAModelBackground ===\n",
      " Name ......................: Background_023592\n",
      " Instruments ...............: HESS\n",
      " Instrument scale factors ..: unity\n",
      " Observation identifiers ...: 023592\n",
      " Model type ................: CTABackground\n",
      " Model components ..........: \"Multiplicative\" * \"NodeFunction\" * \"Constant\"\n",
      " Number of parameters ......: 20\n",
      " Number of spatial par's ...: 3\n",
      "  1:Sigma ..................: 3.6479543205698 +/- 0.238749563358304 [7.71728e-08,infty[ deg2 (free,scale=1,gradient)\n",
      "  2:Grad_DETX ..............: 0.0290086310507671 +/- 0.0231654281693484 deg^-1 (free,scale=1,gradient)\n",
      "  2:Grad_DETY ..............: 0.165462911909218 +/- 0.0212932684624286 deg^-1 (free,scale=1,gradient)\n",
      " Number of spectral par's ..: 16\n",
      "  Energy0 ..................: 700000 [7e-05,infty[ MeV (fixed,scale=700000)\n",
      "  Intensity0 ...............: 0.00147439433272687 +/- 0.000191693450881709 [8.6655214667889e-14,infty[ ph/cm2/s/MeV (free,scale=0.00086655214667889,gradient)\n",
      "  Energy1 ..................: 1197413.67463685 [0.000119741367463685,infty[ MeV (fixed,scale=1197413.67463685)\n",
      "  Intensity1 ...............: 0.000235250773930648 +/- 1.37598369145017e-05 [2.81551973223247e-14,infty[ ph/cm2/s/MeV (free,scale=0.000281551973223247,gradient)\n",
      "  Energy2 ..................: 2048285.01172474 [0.000204828501172474,infty[ MeV (fixed,scale=2048285.01172474)\n",
      "  Intensity2 ...............: 9.20623251759662e-05 +/- 5.75965738880592e-06 [9.1479219028787e-15,infty[ ph/cm2/s/MeV (free,scale=9.1479219028787e-05,gradient)\n",
      "  Energy3 ..................: 3503777.83227556 [0.000350377783227556,infty[ MeV (fixed,scale=3503777.83227556)\n",
      "  Intensity3 ...............: 3.22022945215284e-05 +/- 2.53414761162924e-06 [2.97225674475431e-15,infty[ ph/cm2/s/MeV (free,scale=2.97225674475431e-05,gradient)\n",
      "  Energy4 ..................: 5993530.69893743 [0.000599353069893743,infty[ MeV (fixed,scale=5993530.69893743)\n",
      "  Intensity4 ...............: 1.00701723302328e-05 +/- 1.04797408736245e-06 [9.65717706221071e-16,infty[ ph/cm2/s/MeV (free,scale=9.65717706221071e-06,gradient)\n",
      "  Energy5 ..................: 10252479.454662 [0.0010252479454662,infty[ MeV (fixed,scale=10252479.454662)\n",
      "  Intensity5 ...............: 3.29354066928594e-06 +/- 4.58158358563221e-07 [3.1377191413724e-16,infty[ ph/cm2/s/MeV (free,scale=3.1377191413724e-06,gradient)\n",
      "  Energy6 ..................: 17537798.7113509 [0.00175377987113509,infty[ MeV (fixed,scale=17537798.7113509)\n",
      "  Intensity6 ...............: 8.71669675678694e-07 +/- 1.76346292129154e-07 [1.01947819188903e-16,infty[ ph/cm2/s/MeV (free,scale=1.01947819188903e-06,gradient)\n",
      "  Energy7 ..................: 30000000 [0.003,infty[ MeV (fixed,scale=30000000)\n",
      "  Intensity7 ...............: 3.12067435753287e-07 +/- 1.11366909796179e-07 [3.31239265501224e-17,infty[ ph/cm2/s/MeV (free,scale=3.31239265501224e-07,gradient)\n",
      " Number of temporal par's ..: 1\n",
      "  Normalization ............: 1 (relative value) (fixed,scale=1,gradient)\n"
     ]
    }
   ],
   "source": [
    "print(gammalib.GModels(outmodel))"
   ]
  }
 ],
 "metadata": {
  "kernelspec": {
   "display_name": "Python 3",
   "language": "python",
   "name": "python3"
  },
  "language_info": {
   "codemirror_mode": {
    "name": "ipython",
    "version": 3
   },
   "file_extension": ".py",
   "mimetype": "text/x-python",
   "name": "python",
   "nbconvert_exporter": "python",
   "pygments_lexer": "ipython3",
   "version": "3.5.4"
  }
 },
 "nbformat": 4,
 "nbformat_minor": 2
}
