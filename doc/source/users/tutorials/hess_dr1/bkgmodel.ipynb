{
 "cells": [
  {
   "cell_type": "markdown",
   "metadata": {},
   "source": [
    "# Generating a background model from the data"
   ]
  },
  {
   "cell_type": "raw",
   "metadata": {},
   "source": [
    "<div align=\"right\"><a href=\"../../../_downloads/bkgmodel.ipynb\" download=\"bkgmodel.ipynb\"><img src=\"../../../_static/download-notebook.jpg\" alt=\"Download Notebook\" height=\"40\"></a></div>"
   ]
  },
  {
   "cell_type": "markdown",
   "metadata": {},
   "source": [
    "**In this tutorial you will learn to generate a background model from the data**\n",
    "\n",
    "The public H.E.S.S. data do not contain a model for the instrumental background. We can generate one from the data using the csbkgmodel script.\n",
    "\n",
    "We start with the usual imports."
   ]
  },
  {
   "cell_type": "code",
   "execution_count": 1,
   "metadata": {},
   "outputs": [],
   "source": [
    "import gammalib\n",
    "import ctools\n",
    "import cscripts"
   ]
  },
  {
   "cell_type": "markdown",
   "metadata": {},
   "source": [
    "We will use the same events selected in a previous tutorial. For the spatial part we will model the background as a radial Gaussian modified by a bi-linear gradient. For the spectral part we will use a piece-wise power law with 5 nodes between 0.66 TeV and 30 TeV."
   ]
  },
  {
   "cell_type": "code",
   "execution_count": 6,
   "metadata": {},
   "outputs": [],
   "source": [
    "obsfile = \"obs_crab_selected.xml\"\n",
    "outmodel = 'bkgmodel.xml'\n",
    "\n",
    "bkgmodel = cscripts.csbkgmodel()\n",
    "bkgmodel['inobs'] = obsfile\n",
    "bkgmodel['outmodel'] = outmodel\n",
    "bkgmodel['instrument'] = 'HESS'\n",
    "bkgmodel['spatial'] = 'GAUSS'\n",
    "bkgmodel['gradient'] = True\n",
    "bkgmodel['ebinalg'] = 'LOG'\n",
    "bkgmodel['emin'] = 0.66\n",
    "bkgmodel['emax'] = 100.\n",
    "bkgmodel['enumbins'] = 5\n",
    "bkgmodel['runwise'] = True\n",
    "\n",
    "bkgmodel.execute()"
   ]
  },
  {
   "cell_type": "markdown",
   "metadata": {},
   "source": [
    "Let's look at the resulting background model."
   ]
  },
  {
   "cell_type": "code",
   "execution_count": 7,
   "metadata": {},
   "outputs": [
    {
     "name": "stdout",
     "output_type": "stream",
     "text": [
      "=== GModels ===\n",
      " Number of models ..........: 4\n",
      " Number of parameters ......: 56\n",
      "=== GCTAModelBackground ===\n",
      " Name ......................: Background_023523\n",
      " Instruments ...............: HESS\n",
      " Instrument scale factors ..: unity\n",
      " Observation identifiers ...: 023523\n",
      " Model type ................: CTABackground\n",
      " Model components ..........: \"Multiplicative\" * \"NodeFunction\" * \"Constant\"\n",
      " Number of parameters ......: 14\n",
      " Number of spatial par's ...: 3\n",
      "  1:Sigma ..................: 3.26878807049586 +/- 0.15847997360609 [7.71728e-08,infty[ deg2 (free,scale=1,gradient)\n",
      "  2:Grad_DETX ..............: 0.0857071265618041 +/- 0.0221677473101252 deg^-1 (free,scale=1,gradient)\n",
      "  2:Grad_DETY ..............: -0.00607068474865203 +/- 0.0226192706856858 deg^-1 (free,scale=1,gradient)\n",
      " Number of spectral par's ..: 10\n",
      "  Energy0 ..................: 660000 [6.6e-05,infty[ MeV (fixed,scale=660000)\n",
      "  Intensity0 ...............: 0.00120511562832278 +/- 7.50865098937109e-05 [1.09667860543297e-13,infty[ ph/cm2/s/MeV (free,scale=0.00109667860543297,gradient)\n",
      "  Energy1 ..................: 2315570.19912153 [0.000231557019912153,infty[ MeV (fixed,scale=2315570.19912153)\n",
      "  Intensity1 ...............: 6.91198639204324e-05 +/- 3.36331369205903e-06 [7.7687785279365e-15,infty[ ph/cm2/s/MeV (free,scale=7.7687785279365e-05,gradient)\n",
      "  Energy2 ..................: 8124038.40463597 [0.000812403840463597,infty[ MeV (fixed,scale=8124038.40463597)\n",
      "  Intensity2 ...............: 7.54651983237799e-06 +/- 5.51011034774985e-07 [5.50333703211976e-16,infty[ ph/cm2/s/MeV (free,scale=5.50333703211976e-06,gradient)\n",
      "  Energy3 ..................: 28502698.827718 [0.0028502698827718,infty[ MeV (fixed,scale=28502698.827718)\n",
      "  Intensity3 ...............: 2.60064424456545e-07 +/- 4.65443463861623e-08 [3.89851742847218e-17,infty[ ph/cm2/s/MeV (free,scale=3.89851742847218e-07,gradient)\n",
      "  Energy4 ..................: 100000000 [0.01,infty[ MeV (fixed,scale=100000000)\n",
      "  Intensity4 ...............: 1.31734231266907e-08 +/- 6.86706607726945e-09 [2.7616767883553e-18,infty[ ph/cm2/s/MeV (free,scale=2.7616767883553e-08,gradient)\n",
      " Number of temporal par's ..: 1\n",
      "  Normalization ............: 1 (relative value) (fixed,scale=1,gradient)\n",
      "=== GCTAModelBackground ===\n",
      " Name ......................: Background_023526\n",
      " Instruments ...............: HESS\n",
      " Instrument scale factors ..: unity\n",
      " Observation identifiers ...: 023526\n",
      " Model type ................: CTABackground\n",
      " Model components ..........: \"Multiplicative\" * \"NodeFunction\" * \"Constant\"\n",
      " Number of parameters ......: 14\n",
      " Number of spatial par's ...: 3\n",
      "  1:Sigma ..................: 3.31076434183523 +/- 0.157908577215008 [7.71728e-08,infty[ deg2 (free,scale=1,gradient)\n",
      "  2:Grad_DETX ..............: 0.0132916894065539 +/- 0.0214563010705284 deg^-1 (free,scale=1,gradient)\n",
      "  2:Grad_DETY ..............: -0.00816588056554705 +/- 0.0212484164725678 deg^-1 (free,scale=1,gradient)\n",
      " Number of spectral par's ..: 10\n",
      "  Energy0 ..................: 660000 [6.6e-05,infty[ MeV (fixed,scale=660000)\n",
      "  Intensity0 ...............: 0.00108301399508964 +/- 4.75696375163971e-05 [1.03320134655498e-13,infty[ ph/cm2/s/MeV (free,scale=0.00103320134655498,gradient)\n",
      "  Energy1 ..................: 2315570.19912153 [0.000231557019912153,infty[ MeV (fixed,scale=2315570.19912153)\n",
      "  Intensity1 ...............: 6.13272621958679e-05 +/- 2.88934463282452e-06 [6.7117720021382e-15,infty[ ph/cm2/s/MeV (free,scale=6.7117720021382e-05,gradient)\n",
      "  Energy2 ..................: 8124038.40463597 [0.000812403840463597,infty[ MeV (fixed,scale=8124038.40463597)\n",
      "  Intensity2 ...............: 5.7267577782818e-06 +/- 4.67555734548067e-07 [4.36002949075607e-16,infty[ ph/cm2/s/MeV (free,scale=4.36002949075607e-06,gradient)\n",
      "  Energy3 ..................: 28502698.827718 [0.0028502698827718,infty[ MeV (fixed,scale=28502698.827718)\n",
      "  Intensity3 ...............: 2.17691076914487e-07 +/- 4.27164243902682e-08 [2.8323156916246e-17,infty[ ph/cm2/s/MeV (free,scale=2.8323156916246e-07,gradient)\n",
      "  Energy4 ..................: 100000000 [0.01,infty[ MeV (fixed,scale=100000000)\n",
      "  Intensity4 ...............: 1.83989860482156e-08 +/- 2.61834270118817e-08 [1.83989860482156e-18,infty[ ph/cm2/s/MeV (free,scale=1.83989860482156e-08,gradient)\n",
      " Number of temporal par's ..: 1\n",
      "  Normalization ............: 1 (relative value) (fixed,scale=1,gradient)\n",
      "=== GCTAModelBackground ===\n",
      " Name ......................: Background_023559\n",
      " Instruments ...............: HESS\n",
      " Instrument scale factors ..: unity\n",
      " Observation identifiers ...: 023559\n",
      " Model type ................: CTABackground\n",
      " Model components ..........: \"Multiplicative\" * \"NodeFunction\" * \"Constant\"\n",
      " Number of parameters ......: 14\n",
      " Number of spatial par's ...: 3\n",
      "  1:Sigma ..................: 4.48835977811116 +/- 0.38646436347665 [7.71728e-08,infty[ deg2 (free,scale=1,gradient)\n",
      "  2:Grad_DETX ..............: 0.0462167840496964 +/- 0.0205608032167291 deg^-1 (free,scale=1,gradient)\n",
      "  2:Grad_DETY ..............: -0.117680885343908 +/- 0.0194224394001421 deg^-1 (free,scale=1,gradient)\n",
      " Number of spectral par's ..: 10\n",
      "  Energy0 ..................: 660000 [6.6e-05,infty[ MeV (fixed,scale=660000)\n",
      "  Intensity0 ...............: 0.00100733632332024 +/- 4.01345047471118e-05 [9.18592582377325e-14,infty[ ph/cm2/s/MeV (free,scale=0.000918592582377325,gradient)\n",
      "  Energy1 ..................: 2315570.19912153 [0.000231557019912153,infty[ MeV (fixed,scale=2315570.19912153)\n",
      "  Intensity1 ...............: 4.66613568135642e-05 +/- 2.30740603144795e-06 [5.63752437723601e-15,infty[ ph/cm2/s/MeV (free,scale=5.63752437723601e-05,gradient)\n",
      "  Energy2 ..................: 8124038.40463597 [0.000812403840463597,infty[ MeV (fixed,scale=8124038.40463597)\n",
      "  Intensity2 ...............: 4.82348682030375e-06 +/- 4.18574352545468e-07 [3.45982339871272e-16,infty[ ph/cm2/s/MeV (free,scale=3.45982339871272e-06,gradient)\n",
      "  Energy3 ..................: 28502698.827718 [0.0028502698827718,infty[ MeV (fixed,scale=28502698.827718)\n",
      "  Intensity3 ...............: 2.21746844623676e-07 +/- 4.52576028834672e-08 [2.12333945705242e-17,infty[ ph/cm2/s/MeV (free,scale=2.12333945705242e-07,gradient)\n",
      "  Energy4 ..................: 100000000 [0.01,infty[ MeV (fixed,scale=100000000)\n",
      "  Intensity4 ...............: 1.48996513406119e-09 +/- 1.22549526054859e-09 [1.30312155572829e-18,infty[ ph/cm2/s/MeV (free,scale=1.30312155572829e-08,gradient)\n",
      " Number of temporal par's ..: 1\n",
      "  Normalization ............: 1 (relative value) (fixed,scale=1,gradient)\n",
      "=== GCTAModelBackground ===\n",
      " Name ......................: Background_023592\n",
      " Instruments ...............: HESS\n",
      " Instrument scale factors ..: unity\n",
      " Observation identifiers ...: 023592\n",
      " Model type ................: CTABackground\n",
      " Model components ..........: \"Multiplicative\" * \"NodeFunction\" * \"Constant\"\n",
      " Number of parameters ......: 14\n",
      " Number of spatial par's ...: 3\n",
      "  1:Sigma ..................: 3.76091719524285 +/- 0.260268737042013 [7.71728e-08,infty[ deg2 (free,scale=1,gradient)\n",
      "  2:Grad_DETX ..............: 0.0300484534074188 +/- 0.0229374147297004 deg^-1 (free,scale=1,gradient)\n",
      "  2:Grad_DETY ..............: 0.165958782988426 +/- 0.0211510364771966 deg^-1 (free,scale=1,gradient)\n",
      " Number of spectral par's ..: 10\n",
      "  Energy0 ..................: 660000 [6.6e-05,infty[ MeV (fixed,scale=660000)\n",
      "  Intensity0 ...............: 0.00101304553095839 +/- 6.54953577820255e-05 [1.00244071203173e-13,infty[ ph/cm2/s/MeV (free,scale=0.00100244071203173,gradient)\n",
      "  Energy1 ..................: 2315570.19912153 [0.000231557019912153,infty[ MeV (fixed,scale=2315570.19912153)\n",
      "  Intensity1 ...............: 6.70137543458279e-05 +/- 3.36989084107831e-06 [6.93071058012664e-15,infty[ ph/cm2/s/MeV (free,scale=6.93071058012664e-05,gradient)\n",
      "  Energy2 ..................: 8124038.40463597 [0.000812403840463597,infty[ MeV (fixed,scale=8124038.40463597)\n",
      "  Intensity2 ...............: 5.57526149880861e-06 +/- 4.47040322200973e-07 [4.79177956052115e-16,infty[ ph/cm2/s/MeV (free,scale=4.79177956052115e-06,gradient)\n",
      "  Energy3 ..................: 28502698.827718 [0.0028502698827718,infty[ MeV (fixed,scale=28502698.827718)\n",
      "  Intensity3 ...............: 3.23737790663683e-07 +/- 5.5777558696667e-08 [3.31295775392324e-17,infty[ ph/cm2/s/MeV (free,scale=3.31295775392324e-07,gradient)\n",
      "  Energy4 ..................: 100000000 [0.01,infty[ MeV (fixed,scale=100000000)\n",
      "  Intensity4 ...............: 3.76159492895326e-09 +/- 3.0359168031094e-09 [2.29052462465247e-18,infty[ ph/cm2/s/MeV (free,scale=2.29052462465247e-08,gradient)\n",
      " Number of temporal par's ..: 1\n",
      "  Normalization ............: 1 (relative value) (fixed,scale=1,gradient)\n"
     ]
    }
   ],
   "source": [
    "print(gammalib.GModels(outmodel))"
   ]
  }
 ],
 "metadata": {
  "kernelspec": {
   "display_name": "Python 3",
   "language": "python",
   "name": "python3"
  },
  "language_info": {
   "codemirror_mode": {
    "name": "ipython",
    "version": 3
   },
   "file_extension": ".py",
   "mimetype": "text/x-python",
   "name": "python",
   "nbconvert_exporter": "python",
   "pygments_lexer": "ipython3",
   "version": "3.5.4"
  }
 },
 "nbformat": 4,
 "nbformat_minor": 2
}
