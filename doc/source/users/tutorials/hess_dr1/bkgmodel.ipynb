{
 "cells": [
  {
   "cell_type": "markdown",
   "metadata": {},
   "source": [
    "# Generating a background model from the data"
   ]
  },
  {
   "cell_type": "raw",
   "metadata": {},
   "source": [
    "<div align=\"right\"><a href=\"../../../_downloads/bkgmodel.ipynb\" download=\"bkgmodel.ipynb\"><img src=\"../../../_static/download-notebook.jpg\" alt=\"Download Notebook\" height=\"40\"></a></div>"
   ]
  },
  {
   "cell_type": "markdown",
   "metadata": {},
   "source": [
    "**In this tutorial you will learn to generate a background model from the data**\n",
    "\n",
    "The public H.E.S.S. data do not contain a model for the instrumental background. We can generate one from the data using the csbkgmodel script.\n",
    "\n",
    "We start with the usual imports."
   ]
  },
  {
   "cell_type": "code",
   "execution_count": 1,
   "metadata": {},
   "outputs": [],
   "source": [
    "import gammalib\n",
    "import ctools\n",
    "import cscripts"
   ]
  },
  {
   "cell_type": "markdown",
   "metadata": {},
   "source": [
    "We will use the same events selected in a previous tutorial. For the spatial part we will model the background as a radial Gaussian modified by a bi-linear gradient. For the spectral part we will use a piece-wise power law with 8 nodes between 0.7 TeV and 30 TeV. Note that for a reasonable background fit the nodes should be within the energy range covered by the observations and where there are enough photon counts to constrain the model, hence the upper energy bound at 30 TeV."
   ]
  },
  {
   "cell_type": "code",
   "execution_count": 2,
   "metadata": {},
   "outputs": [],
   "source": [
    "obsfile = \"obs_crab_selected.xml\"\n",
    "outmodel = 'bkgmodel.xml'\n",
    "\n",
    "bkgmodel = cscripts.csbkgmodel()\n",
    "bkgmodel['inobs'] = obsfile\n",
    "bkgmodel['outmodel'] = outmodel\n",
    "bkgmodel['instrument'] = 'HESS'\n",
    "bkgmodel['spatial'] = 'GAUSS'\n",
    "bkgmodel['gradient'] = True\n",
    "bkgmodel['spectral'] = 'NODES'\n",
    "bkgmodel['ebinalg'] = 'LOG'\n",
    "bkgmodel['emin'] = 0.7\n",
    "bkgmodel['emax'] = 30.\n",
    "bkgmodel['enumbins'] = 8\n",
    "bkgmodel['runwise'] = True\n",
    "\n",
    "bkgmodel.execute()"
   ]
  },
  {
   "cell_type": "markdown",
   "metadata": {},
   "source": [
    "Let's look at the resulting background model."
   ]
  },
  {
   "cell_type": "code",
   "execution_count": 3,
   "metadata": {},
   "outputs": [
    {
     "name": "stdout",
     "output_type": "stream",
     "text": [
      "=== GModels ===\n",
      " Number of models ..........: 4\n",
      " Number of parameters ......: 80\n",
      "=== GCTAModelBackground ===\n",
      " Name ......................: Background_023523\n",
      " Instruments ...............: HESS\n",
      " Instrument scale factors ..: unity\n",
      " Observation identifiers ...: 023523\n",
      " Model type ................: CTABackground\n",
      " Model components ..........: \"Multiplicative\" * \"NodeFunction\" * \"Constant\"\n",
      " Number of parameters ......: 20\n",
      " Number of spatial par's ...: 3\n",
      "  1:Sigma ..................: 3.19679080604377 +/- 0.148784168613255 [7.71728e-08,infty[ deg2 (free,scale=1,gradient)\n",
      "  2:Grad_DETX ..............: 0.0882131417987659 +/- 0.0223563994341903 deg^-1 (free,scale=1,gradient)\n",
      "  2:Grad_DETY ..............: -0.000692474001567828 +/- 0.0227254580377688 deg^-1 (free,scale=1,gradient)\n",
      " Number of spectral par's ..: 16\n",
      "  Energy0 ..................: 700000 [7e-05,infty[ MeV (fixed,scale=700000)\n",
      "  Intensity0 ...............: 0.00140372802004064 +/- 0.000174205101284546 [8.87696769787525e-14,infty[ ph/cm2/s/MeV (free,scale=0.000887696769787525,gradient)\n",
      "  Energy1 ..................: 1197413.67463685 [0.000119741367463685,infty[ MeV (fixed,scale=1197413.67463685)\n",
      "  Intensity1 ...............: 0.000257864797984792 +/- 1.41022572545599e-05 [2.91749105398033e-14,infty[ ph/cm2/s/MeV (free,scale=0.000291749105398033,gradient)\n",
      "  Energy2 ..................: 2048285.01172474 [0.000204828501172474,infty[ MeV (fixed,scale=2048285.01172474)\n",
      "  Intensity2 ...............: 9.08473780602549e-05 +/- 5.49730339459174e-06 [9.58858288072014e-15,infty[ ph/cm2/s/MeV (free,scale=9.58858288072014e-05,gradient)\n",
      "  Energy3 ..................: 3503777.83227556 [0.000350377783227556,infty[ MeV (fixed,scale=3503777.83227556)\n",
      "  Intensity3 ...............: 3.21049333853292e-05 +/- 2.44980628805133e-06 [3.15136944584645e-15,infty[ ph/cm2/s/MeV (free,scale=3.15136944584645e-05,gradient)\n",
      "  Energy4 ..................: 5993530.69893743 [0.000599353069893743,infty[ MeV (fixed,scale=5993530.69893743)\n",
      "  Intensity4 ...............: 1.13774407454204e-05 +/- 1.12484264580111e-06 [1.03572441389469e-15,infty[ ph/cm2/s/MeV (free,scale=1.03572441389469e-05,gradient)\n",
      "  Energy5 ..................: 10252479.454662 [0.0010252479454662,infty[ MeV (fixed,scale=10252479.454662)\n",
      "  Intensity5 ...............: 4.50082783670747e-06 +/- 5.75883736185608e-07 [3.40399651634425e-16,infty[ ph/cm2/s/MeV (free,scale=3.40399651634425e-06,gradient)\n",
      "  Energy6 ..................: 17537798.7113509 [0.00175377987113509,infty[ MeV (fixed,scale=17537798.7113509)\n",
      "  Intensity6 ...............: 8.01232298563249e-07 +/- 1.64363032163644e-07 [1.11875245266372e-16,infty[ ph/cm2/s/MeV (free,scale=1.11875245266372e-06,gradient)\n",
      "  Energy7 ..................: 30000000 [0.003,infty[ MeV (fixed,scale=30000000)\n",
      "  Intensity7 ...............: 2.63561241594543e-07 +/- 9.61055896032478e-08 [3.67687523865408e-17,infty[ ph/cm2/s/MeV (free,scale=3.67687523865408e-07,gradient)\n",
      " Number of temporal par's ..: 1\n",
      "  Normalization ............: 1 (relative value) (fixed,scale=1,gradient)\n",
      "=== GCTAModelBackground ===\n",
      " Name ......................: Background_023526\n",
      " Instruments ...............: HESS\n",
      " Instrument scale factors ..: unity\n",
      " Observation identifiers ...: 023526\n",
      " Model type ................: CTABackground\n",
      " Model components ..........: \"Multiplicative\" * \"NodeFunction\" * \"Constant\"\n",
      " Number of parameters ......: 20\n",
      " Number of spatial par's ...: 3\n",
      "  1:Sigma ..................: 3.30082209234815 +/- 0.156912961568416 [7.71728e-08,infty[ deg2 (free,scale=1,gradient)\n",
      "  2:Grad_DETX ..............: 0.0153115021206004 +/- 0.0215680817043072 deg^-1 (free,scale=1,gradient)\n",
      "  2:Grad_DETY ..............: -0.00906905504246978 +/- 0.0213184758960865 deg^-1 (free,scale=1,gradient)\n",
      " Number of spectral par's ..: 16\n",
      "  Energy0 ..................: 700000 [7e-05,infty[ MeV (fixed,scale=700000)\n",
      "  Intensity0 ...............: 0.00107656542145505 +/- 5.71767004891641e-05 [8.36211165467046e-14,infty[ ph/cm2/s/MeV (free,scale=0.000836211165467046,gradient)\n",
      "  Energy1 ..................: 1197413.67463685 [0.000119741367463685,infty[ MeV (fixed,scale=1197413.67463685)\n",
      "  Intensity1 ...............: 0.00020191222774409 +/- 1.06852037575173e-05 [2.63699934530969e-14,infty[ ph/cm2/s/MeV (free,scale=0.000263699934530969,gradient)\n",
      "  Energy2 ..................: 2048285.01172474 [0.000204828501172474,infty[ MeV (fixed,scale=2048285.01172474)\n",
      "  Intensity2 ...............: 9.16681754173992e-05 +/- 5.73982387509952e-06 [8.31580088180217e-15,infty[ ph/cm2/s/MeV (free,scale=8.31580088180217e-05,gradient)\n",
      "  Energy3 ..................: 3503777.83227556 [0.000350377783227556,infty[ MeV (fixed,scale=3503777.83227556)\n",
      "  Intensity3 ...............: 2.4697825754506e-05 +/- 2.13035134581624e-06 [2.62239520190935e-15,infty[ ph/cm2/s/MeV (free,scale=2.62239520190935e-05,gradient)\n",
      "  Energy4 ..................: 5993530.69893743 [0.000599353069893743,infty[ MeV (fixed,scale=5993530.69893743)\n",
      "  Intensity4 ...............: 9.65793108295259e-06 +/- 1.0580848901101e-06 [8.26974658573933e-16,infty[ ph/cm2/s/MeV (free,scale=8.26974658573933e-06,gradient)\n",
      "  Energy5 ..................: 10252479.454662 [0.0010252479454662,infty[ MeV (fixed,scale=10252479.454662)\n",
      "  Intensity5 ...............: 3.34440698323729e-06 +/- 4.70710485211692e-07 [2.60787193869763e-16,infty[ ph/cm2/s/MeV (free,scale=2.60787193869763e-06,gradient)\n",
      "  Energy6 ..................: 17537798.7113509 [0.00175377987113509,infty[ MeV (fixed,scale=17537798.7113509)\n",
      "  Intensity6 ...............: 5.56094646218329e-07 +/- 1.31992669655457e-07 [8.22394734607041e-17,infty[ ph/cm2/s/MeV (free,scale=8.22394734607041e-07,gradient)\n",
      "  Energy7 ..................: 30000000 [0.003,infty[ MeV (fixed,scale=30000000)\n",
      "  Intensity7 ...............: 2.63249520342286e-07 +/- 9.70349092695409e-08 [2.59342910774655e-17,infty[ ph/cm2/s/MeV (free,scale=2.59342910774655e-07,gradient)\n",
      " Number of temporal par's ..: 1\n",
      "  Normalization ............: 1 (relative value) (fixed,scale=1,gradient)\n",
      "=== GCTAModelBackground ===\n",
      " Name ......................: Background_023559\n",
      " Instruments ...............: HESS\n",
      " Instrument scale factors ..: unity\n",
      " Observation identifiers ...: 023559\n",
      " Model type ................: CTABackground\n",
      " Model components ..........: \"Multiplicative\" * \"NodeFunction\" * \"Constant\"\n",
      " Number of parameters ......: 20\n",
      " Number of spatial par's ...: 3\n",
      "  1:Sigma ..................: 4.32704664084324 +/- 0.368684845846136 [7.71728e-08,infty[ deg2 (free,scale=1,gradient)\n",
      "  2:Grad_DETX ..............: 0.0187722831939023 +/- 0.0217106880517745 deg^-1 (free,scale=1,gradient)\n",
      "  2:Grad_DETY ..............: -0.126627824474372 +/- 0.0204738099128812 deg^-1 (free,scale=1,gradient)\n",
      " Number of spectral par's ..: 16\n",
      "  Energy0 ..................: 700000 [7e-05,infty[ MeV (fixed,scale=700000)\n",
      "  Intensity0 ...............: 0.000857178811233776 +/- 4.58638205127566e-05 [6.96233895968756e-14,infty[ ph/cm2/s/MeV (free,scale=0.000696233895968756,gradient)\n",
      "  Energy1 ..................: 1197413.67463685 [0.000119741367463685,infty[ MeV (fixed,scale=1197413.67463685)\n",
      "  Intensity1 ...............: 0.000184768403022439 +/- 1.008650496985e-05 [2.20204639078551e-14,infty[ ph/cm2/s/MeV (free,scale=0.000220204639078551,gradient)\n",
      "  Energy2 ..................: 2048285.01172474 [0.000204828501172474,infty[ MeV (fixed,scale=2048285.01172474)\n",
      "  Intensity2 ...............: 6.49318372405173e-05 +/- 4.46952677363829e-06 [6.96462544447719e-15,infty[ ph/cm2/s/MeV (free,scale=6.96462544447719e-05,gradient)\n",
      "  Energy3 ..................: 3503777.83227556 [0.000350377783227556,infty[ MeV (fixed,scale=3503777.83227556)\n",
      "  Intensity3 ...............: 2.41177375305046e-05 +/- 2.06051735828825e-06 [2.20276955948036e-15,infty[ ph/cm2/s/MeV (free,scale=2.20276955948036e-05,gradient)\n",
      "  Energy4 ..................: 5993530.69893743 [0.000599353069893743,infty[ MeV (fixed,scale=5993530.69893743)\n",
      "  Intensity4 ...............: 6.388150904145e-06 +/- 7.36345188624795e-07 [6.96691268016576e-16,infty[ ph/cm2/s/MeV (free,scale=6.96691268016576e-06,gradient)\n",
      "  Energy5 ..................: 10252479.454662 [0.0010252479454662,infty[ MeV (fixed,scale=10252479.454662)\n",
      "  Intensity5 ...............: 3.11624385438516e-06 +/- 4.38829996211514e-07 [2.20349296566929e-16,infty[ ph/cm2/s/MeV (free,scale=2.20349296566929e-06,gradient)\n",
      "  Energy6 ..................: 17537798.7113509 [0.00175377987113509,infty[ MeV (fixed,scale=17537798.7113509)\n",
      "  Intensity6 ...............: 7.66998023710854e-07 +/- 1.70693323247103e-07 [6.9692006669998e-17,infty[ ph/cm2/s/MeV (free,scale=6.9692006669998e-07,gradient)\n",
      "  Energy7 ..................: 30000000 [0.003,infty[ MeV (fixed,scale=30000000)\n",
      "  Intensity7 ...............: 1.35218346687107e-07 +/- 6.64294080047906e-08 [2.20421660943029e-17,infty[ ph/cm2/s/MeV (free,scale=2.20421660943029e-07,gradient)\n",
      " Number of temporal par's ..: 1\n",
      "  Normalization ............: 1 (relative value) (fixed,scale=1,gradient)\n",
      "=== GCTAModelBackground ===\n",
      " Name ......................: Background_023592\n",
      " Instruments ...............: HESS\n",
      " Instrument scale factors ..: unity\n",
      " Observation identifiers ...: 023592\n",
      " Model type ................: CTABackground\n",
      " Model components ..........: \"Multiplicative\" * \"NodeFunction\" * \"Constant\"\n",
      " Number of parameters ......: 20\n",
      " Number of spatial par's ...: 3\n",
      "  1:Sigma ..................: 3.64795431824073 +/- 0.238749562945919 [7.71728e-08,infty[ deg2 (free,scale=1,gradient)\n",
      "  2:Grad_DETX ..............: 0.0290086296998991 +/- 0.0231654281500121 deg^-1 (free,scale=1,gradient)\n",
      "  2:Grad_DETY ..............: 0.165462915333049 +/- 0.021293268413236 deg^-1 (free,scale=1,gradient)\n",
      " Number of spectral par's ..: 16\n",
      "  Energy0 ..................: 700000 [7e-05,infty[ MeV (fixed,scale=700000)\n",
      "  Intensity0 ...............: 0.00138280405680456 +/- 0.000179785336701836 [8.127607193775e-14,infty[ ph/cm2/s/MeV (free,scale=0.0008127607193775,gradient)\n",
      "  Energy1 ..................: 1197413.67463685 [0.000119741367463685,infty[ MeV (fixed,scale=1197413.67463685)\n",
      "  Intensity1 ...............: 0.000220636852715846 +/- 1.29050674731524e-05 [2.64069813465664e-14,infty[ ph/cm2/s/MeV (free,scale=0.000264069813465664,gradient)\n",
      "  Energy2 ..................: 2048285.01172474 [0.000204828501172474,infty[ MeV (fixed,scale=2048285.01172474)\n",
      "  Intensity2 ...............: 8.63433571877371e-05 +/- 5.40186394640027e-06 [8.57975351431837e-15,infty[ ph/cm2/s/MeV (free,scale=8.57975351431837e-05,gradient)\n",
      "  Energy3 ..................: 3503777.83227556 [0.000350377783227556,infty[ MeV (fixed,scale=3503777.83227556)\n",
      "  Intensity3 ...............: 3.02018682595367e-05 +/- 2.37672480959384e-06 [2.78760261918503e-15,infty[ ph/cm2/s/MeV (free,scale=2.78760261918503e-05,gradient)\n",
      "  Energy4 ..................: 5993530.69893743 [0.000599353069893743,infty[ MeV (fixed,scale=5993530.69893743)\n",
      "  Intensity4 ...............: 9.44460701196062e-06 +/- 9.82873290475423e-07 [9.05705315370543e-16,infty[ ph/cm2/s/MeV (free,scale=9.05705315370543e-06,gradient)\n",
      "  Energy5 ..................: 10252479.454662 [0.0010252479454662,infty[ MeV (fixed,scale=10252479.454662)\n",
      "  Intensity5 ...............: 3.08894388117525e-06 +/- 4.2969727730712e-07 [2.94267953633316e-16,infty[ ph/cm2/s/MeV (free,scale=2.94267953633316e-06,gradient)\n",
      "  Energy6 ..................: 17537798.7113509 [0.00175377987113509,infty[ MeV (fixed,scale=17537798.7113509)\n",
      "  Intensity6 ...............: 8.17521009765721e-07 +/- 1.65391550069682e-07 [9.5609054143745e-17,infty[ ph/cm2/s/MeV (free,scale=9.5609054143745e-07,gradient)\n",
      "  Energy7 ..................: 30000000 [0.003,infty[ MeV (fixed,scale=30000000)\n",
      "  Intensity7 ...............: 2.92681614932954e-07 +/- 1.0444872894399e-07 [3.10638352610158e-17,infty[ ph/cm2/s/MeV (free,scale=3.10638352610158e-07,gradient)\n",
      " Number of temporal par's ..: 1\n",
      "  Normalization ............: 1 (relative value) (fixed,scale=1,gradient)\n"
     ]
    }
   ],
   "source": [
    "print(gammalib.GModels(outmodel))"
   ]
  }
 ],
 "metadata": {
  "kernelspec": {
   "display_name": "Python 3",
   "language": "python",
   "name": "python3"
  },
  "language_info": {
   "codemirror_mode": {
    "name": "ipython",
    "version": 3
   },
   "file_extension": ".py",
   "mimetype": "text/x-python",
   "name": "python",
   "nbconvert_exporter": "python",
   "pygments_lexer": "ipython3",
   "version": "3.5.4"
  }
 },
 "nbformat": 4,
 "nbformat_minor": 2
}
