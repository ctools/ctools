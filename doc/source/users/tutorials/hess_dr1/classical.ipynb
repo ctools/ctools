{
 "cells": [
  {
   "cell_type": "markdown",
   "metadata": {},
   "source": [
    "# Performing a classical On/Off analysis"
   ]
  },
  {
   "cell_type": "raw",
   "metadata": {},
   "source": [
    "<div align=\"right\"><a href=\"../../../_downloads/classical.ipynb\" download=\"classical.ipynb\"><img src=\"../../../_static/download-notebook.jpg\" alt=\"Download Notebook\" height=\"40\"></a></div>"
   ]
  },
  {
   "cell_type": "markdown",
   "metadata": {},
   "source": [
    "**In this tutorial you will learn to perform a classical On/Off analysis of the data.**\n",
    "\n",
    "We start by importing the gammalib, ctools, and cscripts Python modules."
   ]
  },
  {
   "cell_type": "code",
   "execution_count": 1,
   "metadata": {},
   "outputs": [],
   "source": [
    "import gammalib\n",
    "import ctools\n",
    "import cscripts"
   ]
  },
  {
   "cell_type": "markdown",
   "metadata": {},
   "source": [
    "We will also use matplotlib to display the results."
   ]
  },
  {
   "cell_type": "code",
   "execution_count": 2,
   "metadata": {},
   "outputs": [],
   "source": [
    "%matplotlib inline\n",
    "import matplotlib.pyplot as plt"
   ]
  },
  {
   "cell_type": "markdown",
   "metadata": {},
   "source": [
    "And finally we add to our path the directory containing the example plotting scripts provided with the ctools installation."
   ]
  },
  {
   "cell_type": "code",
   "execution_count": 3,
   "metadata": {},
   "outputs": [],
   "source": [
    "import sys\n",
    "import os\n",
    "sys.path.append(os.environ['CTOOLS']+'/share/examples/python/')"
   ]
  },
  {
   "cell_type": "markdown",
   "metadata": {},
   "source": [
    "## Classical analysis without background model\n",
    "\n",
    "### Preparation of the On/Off binned data\n",
    "\n",
    "The first step for a classical analysis is to bin the events in bins of energy for an On (signal) region, and one or several Off (background regions).\n",
    "\n",
    "We will use the event selection performed in the previous tutorial."
   ]
  },
  {
   "cell_type": "code",
   "execution_count": 4,
   "metadata": {},
   "outputs": [],
   "source": [
    "obsfile = \"obs_crab_selected.xml\"\n",
    "\n",
    "phagen = cscripts.csphagen()\n",
    "phagen['inobs'] = obsfile\n",
    "phagen['inmodel'] = 'NONE' # assume that the source is pointlike\n",
    "phagen['ebinalg'] = 'LOG'\n",
    "phagen['emin'] = 0.66\n",
    "phagen['emax'] = 30.\n",
    "phagen['enumbins'] = 20\n",
    "phagen['coordsys'] = 'CEL'\n",
    "phagen['ra'] = 83.63\n",
    "phagen['dec'] = 22.01\n",
    "phagen['rad'] = 0.2\n",
    "phagen['bkgmethod'] = 'REFLECTED'\n",
    "phagen['use_model_bkg'] = False\n",
    "phagen['maxoffset'] = 2.0\n",
    "phagen['stack'] = True\n",
    "phagen['outobs'] = 'obs_crab_onoff.xml'\n",
    "phagen['outmodel'] = 'onoff_model.xml'\n",
    "\n",
    "phagen.execute()"
   ]
  },
  {
   "cell_type": "markdown",
   "metadata": {},
   "source": [
    "Note that we have used the hidden parameter `use_model_bkg` to specify that no background model should be used in the computation of the background normalisation factor, which is simply assumed to be the ratio of the solid angles of On/Off regions.\n",
    "\n",
    "Let us peek at the resulting set of On/Off observations."
   ]
  },
  {
   "cell_type": "code",
   "execution_count": 5,
   "metadata": {},
   "outputs": [
    {
     "name": "stdout",
     "output_type": "stream",
     "text": [
      "=== GCTAOnOffObservation ===\n",
      " Name ......................: \n",
      " Identifier ................: \n",
      " Instrument ................: HESSOnOff\n",
      " Statistic .................: wstat\n",
      " Ontime ....................: 6313.8117676 s\n",
      " Livetime ..................: 6313.8117676 s\n",
      " Deadtime correction .......: 1\n",
      "=== GPha ===\n",
      " Exposure ..................: 6313.8117676 s\n",
      " Number of bins ............: 20\n",
      " Energy range ..............: 660 GeV - 30 TeV\n",
      " Observation energy range ..: 660.693448007596 GeV - 100 TeV\n",
      " Total number of counts ....: 576\n",
      " Underflow counts ..........: 0\n",
      " Overflow counts ...........: 1\n",
      " Outflow counts ............: 0\n",
      "=== GPha ===\n",
      " Exposure ..................: 6313.8117676 s\n",
      " Number of bins ............: 20\n",
      " Energy range ..............: 660 GeV - 30 TeV\n",
      " Observation energy range ..: 660.693448007596 GeV - 100 TeV\n",
      " Total number of counts ....: 772\n",
      " Underflow counts ..........: 0\n",
      " Overflow counts ...........: 4\n",
      " Outflow counts ............: 0\n",
      "=== GArf ===\n",
      " Number of bins ............: 61\n",
      " Energy range ..............: 330 GeV - 36.000002048 TeV\n",
      "=== GRmf ===\n",
      " Number of true energy bins : 61\n",
      " Number of measured bins ...: 20\n",
      " True energy range .........: 330 GeV - 36.000002048 TeV\n",
      " Measured energy range .....: 660 GeV - 30 TeV\n"
     ]
    }
   ],
   "source": [
    "print(phagen.obs()[0])"
   ]
  },
  {
   "cell_type": "markdown",
   "metadata": {},
   "source": [
    "Note that the instrument is now `HESSOnOff`, to signify that we are dealing with On/Off observations. Since we have no background model the statistic has been set to `WSTAT`. The script has also created a model for the On region."
   ]
  },
  {
   "cell_type": "code",
   "execution_count": 6,
   "metadata": {},
   "outputs": [
    {
     "name": "stdout",
     "output_type": "stream",
     "text": [
      "=== GModels ===\n",
      " Number of models ..........: 1\n",
      " Number of parameters ......: 6\n",
      "=== GModelSky ===\n",
      " Name ......................: Dummy\n",
      " Instruments ...............: all\n",
      " Instrument scale factors ..: unity\n",
      " Observation identifiers ...: all\n",
      " Model type ................: PointSource\n",
      " Model components ..........: \"PointSource\" * \"PowerLaw\" * \"Constant\"\n",
      " Number of parameters ......: 6\n",
      " Number of spatial par's ...: 2\n",
      "  RA .......................: 83.63 deg (fixed,scale=1)\n",
      "  DEC ......................: 22.01 deg (fixed,scale=1)\n",
      " Number of spectral par's ..: 3\n",
      "  Prefactor ................: 1e-18 +/- 0 [0,infty[ ph/cm2/s/MeV (free,scale=1e-18,gradient)\n",
      "  Index ....................: -2 +/- 0 [10,-10]  (free,scale=-2,gradient)\n",
      "  PivotEnergy ..............: 1000000 MeV (fixed,scale=1000000,gradient)\n",
      " Number of temporal par's ..: 1\n",
      "  Normalization ............: 1 (relative value) (fixed,scale=1,gradient)\n"
     ]
    }
   ],
   "source": [
    "print(phagen.obs().models())"
   ]
  },
  {
   "cell_type": "markdown",
   "metadata": {},
   "source": [
    "Since we do not have specified any input model the script has placed a point source named `Dummy`, at the center of the On region with a power law spectrum. We will rename this source as Crab. At this point you can also modify the spectral model, e.g., to use more appropriate parameter values or a different spectral shape."
   ]
  },
  {
   "cell_type": "code",
   "execution_count": 7,
   "metadata": {},
   "outputs": [],
   "source": [
    "phagen.obs().models()['Dummy'].name('Crab')"
   ]
  },
  {
   "cell_type": "markdown",
   "metadata": {},
   "source": [
    "### Likelihood fit and residuals\n",
    "\n",
    "We can now fit this model to the data."
   ]
  },
  {
   "cell_type": "code",
   "execution_count": 8,
   "metadata": {},
   "outputs": [],
   "source": [
    "like = ctools.ctlike(phagen.obs())\n",
    "\n",
    "like.run()"
   ]
  },
  {
   "cell_type": "markdown",
   "metadata": {},
   "source": [
    "Let's look at the results from the optimisation and the fitted model."
   ]
  },
  {
   "cell_type": "code",
   "execution_count": 9,
   "metadata": {},
   "outputs": [
    {
     "name": "stdout",
     "output_type": "stream",
     "text": [
      "=== GOptimizerLM ===\n",
      " Optimized function value ..: 15.746\n",
      " Absolute precision ........: 0.005\n",
      " Acceptable value decrease .: 2\n",
      " Optimization status .......: converged\n",
      " Number of parameters ......: 6\n",
      " Number of free parameters .: 2\n",
      " Number of iterations ......: 11\n",
      " Lambda ....................: 0.0001\n",
      "=== GModels ===\n",
      " Number of models ..........: 1\n",
      " Number of parameters ......: 6\n",
      "=== GModelSky ===\n",
      " Name ......................: Crab\n",
      " Instruments ...............: all\n",
      " Instrument scale factors ..: unity\n",
      " Observation identifiers ...: all\n",
      " Model type ................: PointSource\n",
      " Model components ..........: \"PointSource\" * \"PowerLaw\" * \"Constant\"\n",
      " Number of parameters ......: 6\n",
      " Number of spatial par's ...: 2\n",
      "  RA .......................: 83.63 deg (fixed,scale=1)\n",
      "  DEC ......................: 22.01 deg (fixed,scale=1)\n",
      " Number of spectral par's ..: 3\n",
      "  Prefactor ................: 4.61852950191309e-17 +/- 2.97687577951453e-18 [0,infty[ ph/cm2/s/MeV (free,scale=1e-18,gradient)\n",
      "  Index ....................: -2.63298373450669 +/- 0.0795120102122515 [10,-10]  (free,scale=-2,gradient)\n",
      "  PivotEnergy ..............: 1000000 MeV (fixed,scale=1000000,gradient)\n",
      " Number of temporal par's ..: 1\n",
      "  Normalization ............: 1 (relative value) (fixed,scale=1,gradient)\n"
     ]
    }
   ],
   "source": [
    "print(like.opt())\n",
    "print(like.obs().models())"
   ]
  },
  {
   "cell_type": "markdown",
   "metadata": {},
   "source": [
    "The fit has properly converged and the results are consistent with those obtained with the unbinned analysis.\n",
    "\n",
    "We will also check the spectral residuals."
   ]
  },
  {
   "cell_type": "code",
   "execution_count": 10,
   "metadata": {},
   "outputs": [
    {
     "data": {
      "image/png": "[encoded data removed]",
      "text/plain": [
       "<matplotlib.figure.Figure at 0x110d248d0>"
      ]
     },
     "metadata": {},
     "output_type": "display_data"
    }
   ],
   "source": [
    "residuals = 'residuals_classical_nobkg.fits'\n",
    "res = cscripts.csresspec(like.obs())\n",
    "\n",
    "res['components'] = True\n",
    "res['algorithm'] = 'SIGNIFICANCE'\n",
    "res['outfile'] = residuals\n",
    "\n",
    "res.execute()\n",
    "\n",
    "from show_residuals import plot_residuals\n",
    "plot_residuals(residuals,'',0)"
   ]
  },
  {
   "cell_type": "markdown",
   "metadata": {},
   "source": [
    "## Classical analysis with a background model\n",
    "\n",
    "### Preparation of the On/Off binned data\n",
    "\n",
    "If a background model is available this can be used to compute the expected background rates for different observations as a function of energy and normalise the number of background counts between On and Off regions. Here we will use the background model derived using csbkgmodel."
   ]
  },
  {
   "cell_type": "code",
   "execution_count": 11,
   "metadata": {},
   "outputs": [],
   "source": [
    "srcmodel = os.environ['CTOOLS']+'/share/models/crab_nobkg.xml'\n",
    "bkgmodel = 'bkgmodel.xml'\n",
    "startmodel = 'model_classical_bkg.xml'\n",
    "\n",
    "merge = cscripts.csmodelmerge()\n",
    "merge['inmodels'] = srcmodel + ' ' + bkgmodel\n",
    "merge['outmodel'] = startmodel\n",
    "\n",
    "merge.execute()"
   ]
  },
  {
   "cell_type": "markdown",
   "metadata": {},
   "source": [
    "Now we can run csphagen using this model including the background in input. Note that since the background model is defined per observation we will not stack the observations together."
   ]
  },
  {
   "cell_type": "code",
   "execution_count": 12,
   "metadata": {},
   "outputs": [],
   "source": [
    "phagen = cscripts.csphagen()\n",
    "phagen['inobs'] = obsfile\n",
    "phagen['inmodel'] = startmodel\n",
    "phagen['ebinalg'] = 'LOG'\n",
    "phagen['emin'] = 0.66\n",
    "phagen['emax'] = 30.\n",
    "phagen['enumbins'] = 20\n",
    "phagen['coordsys'] = 'CEL'\n",
    "phagen['ra'] = 83.63\n",
    "phagen['dec'] = 22.01\n",
    "phagen['rad'] = 0.2\n",
    "phagen['bkgmethod'] = 'REFLECTED'\n",
    "phagen['use_model_bkg'] = True\n",
    "phagen['maxoffset'] = 2.0\n",
    "phagen['stack'] = False # treat observations separately in joint likelihood fit\n",
    "\n",
    "phagen.run()"
   ]
  },
  {
   "cell_type": "markdown",
   "metadata": {},
   "source": [
    "### Likelihood fit and residuals\n",
    "\n",
    "We will now fit the model to the data and look at the results."
   ]
  },
  {
   "cell_type": "code",
   "execution_count": 13,
   "metadata": {},
   "outputs": [
    {
     "name": "stdout",
     "output_type": "stream",
     "text": [
      "=== GOptimizerLM ===\n",
      " Optimized function value ..: -2417.569\n",
      " Absolute precision ........: 0.005\n",
      " Acceptable value decrease .: 2\n",
      " Optimization status .......: converged\n",
      " Number of parameters ......: 86\n",
      " Number of free parameters .: 46\n",
      " Number of iterations ......: 28\n",
      " Lambda ....................: 0.0001\n",
      "=== GModels ===\n",
      " Number of models ..........: 5\n",
      " Number of parameters ......: 86\n",
      "=== GModelSky ===\n",
      " Name ......................: Crab\n",
      " Instruments ...............: all\n",
      " Instrument scale factors ..: unity\n",
      " Observation identifiers ...: all\n",
      " Model type ................: PointSource\n",
      " Model components ..........: \"PointSource\" * \"PowerLaw\" * \"Constant\"\n",
      " Number of parameters ......: 6\n",
      " Number of spatial par's ...: 2\n",
      "  RA .......................: 83.6331 [-360,360] deg (fixed,scale=1)\n",
      "  DEC ......................: 22.0145 [-90,90] deg (fixed,scale=1)\n",
      " Number of spectral par's ..: 3\n",
      "  Prefactor ................: 4.44948779297595e-17 +/- 2.98607771115441e-18 [1e-24,1e-14] ph/cm2/s/MeV (free,scale=1e-17,gradient)\n",
      "  Index ....................: -2.64048429363838 +/- 0.084515805313649 [-0,-5]  (free,scale=-1,gradient)\n",
      "  PivotEnergy ..............: 1000000 [10000,1000000000] MeV (fixed,scale=1000000,gradient)\n",
      " Number of temporal par's ..: 1\n",
      "  Normalization ............: 1 (relative value) (fixed,scale=1,gradient)\n",
      "=== GCTAModelBackground ===\n",
      " Name ......................: Background_023523\n",
      " Instruments ...............: HESSOnOff\n",
      " Instrument scale factors ..: unity\n",
      " Observation identifiers ...: 023523\n",
      " Model type ................: CTABackground\n",
      " Model components ..........: \"Multiplicative\" * \"NodeFunction\" * \"Constant\"\n",
      " Number of parameters ......: 20\n",
      " Number of spatial par's ...: 3\n",
      "  1:Sigma ..................: 3.19679080604377 +/- 0 [7.71728e-08,infty[ deg2 (free,scale=1,gradient)\n",
      "  2:Grad_DETX ..............: 0.0882131417987659 +/- 0 deg^-1 (free,scale=1,gradient)\n",
      "  2:Grad_DETY ..............: -0.000692474001567828 +/- 0 deg^-1 (free,scale=1,gradient)\n",
      " Number of spectral par's ..: 16\n",
      "  Energy0 ..................: 700000 [7e-05,infty[ MeV (fixed,scale=700000)\n",
      "  Intensity0 ...............: 1.95087973878045 +/- 3.18389824156818 [8.87696769787525e-14,infty[ ph/cm2/s/MeV (free,scale=0.000887696769787525,gradient)\n",
      "  Energy1 ..................: 1197413.67463685 [0.000119741367463685,infty[ MeV (fixed,scale=1197413.67463685)\n",
      "  Intensity1 ...............: 0.786206855260844 +/- 0.278691033333991 [2.91749105398033e-14,infty[ ph/cm2/s/MeV (free,scale=0.000291749105398033,gradient)\n",
      "  Energy2 ..................: 2048285.01172474 [0.000204828501172474,infty[ MeV (fixed,scale=2048285.01172474)\n",
      "  Intensity2 ...............: 1.16378010214047 +/- 0.324828629342433 [9.58858288072014e-15,infty[ ph/cm2/s/MeV (free,scale=9.58858288072014e-05,gradient)\n",
      "  Energy3 ..................: 3503777.83227556 [0.000350377783227556,infty[ MeV (fixed,scale=3503777.83227556)\n",
      "  Intensity3 ...............: 1.41647574287537 +/- 0.410958373186227 [3.15136944584645e-15,infty[ ph/cm2/s/MeV (free,scale=3.15136944584645e-05,gradient)\n",
      "  Energy4 ..................: 5993530.69893743 [0.000599353069893743,infty[ MeV (fixed,scale=5993530.69893743)\n",
      "  Intensity4 ...............: 0.988046118826941 +/- 0.410766631433934 [1.03572441389469e-15,infty[ ph/cm2/s/MeV (free,scale=1.03572441389469e-05,gradient)\n",
      "  Energy5 ..................: 10252479.454662 [0.0010252479454662,infty[ MeV (fixed,scale=10252479.454662)\n",
      "  Intensity5 ...............: 0.767763395749799 +/- 0.431359851222795 [3.40399651634425e-16,infty[ ph/cm2/s/MeV (free,scale=3.40399651634425e-06,gradient)\n",
      "  Energy6 ..................: 17537798.7113509 [0.00175377987113509,infty[ MeV (fixed,scale=17537798.7113509)\n",
      "  Intensity6 ...............: 0.50642281781849 +/- 0.539376809186644 [1.11875245266372e-16,infty[ ph/cm2/s/MeV (free,scale=1.11875245266372e-06,gradient)\n",
      "  Energy7 ..................: 30000000 [0.003,infty[ MeV (fixed,scale=30000000)\n",
      "  Intensity7 ...............: 1.93817511343864 +/- 2.4495988155466 [3.67687523865408e-17,infty[ ph/cm2/s/MeV (free,scale=3.67687523865408e-07,gradient)\n",
      " Number of temporal par's ..: 1\n",
      "  Normalization ............: 1 (relative value) (fixed,scale=1,gradient)\n",
      "=== GCTAModelBackground ===\n",
      " Name ......................: Background_023526\n",
      " Instruments ...............: HESSOnOff\n",
      " Instrument scale factors ..: unity\n",
      " Observation identifiers ...: 023526\n",
      " Model type ................: CTABackground\n",
      " Model components ..........: \"Multiplicative\" * \"NodeFunction\" * \"Constant\"\n",
      " Number of parameters ......: 20\n",
      " Number of spatial par's ...: 3\n",
      "  1:Sigma ..................: 3.30082209234815 +/- 0 [7.71728e-08,infty[ deg2 (free,scale=1,gradient)\n",
      "  2:Grad_DETX ..............: 0.0153115021206004 +/- 0 deg^-1 (free,scale=1,gradient)\n",
      "  2:Grad_DETY ..............: -0.00906905504246978 +/- 0 deg^-1 (free,scale=1,gradient)\n",
      " Number of spectral par's ..: 16\n",
      "  Energy0 ..................: 700000 [7e-05,infty[ MeV (fixed,scale=700000)\n",
      "  Intensity0 ...............: 1.41145187416786 +/- 0.66650710147696 [8.36211165467046e-14,infty[ ph/cm2/s/MeV (free,scale=0.000836211165467046,gradient)\n",
      "  Energy1 ..................: 1197413.67463685 [0.000119741367463685,infty[ MeV (fixed,scale=1197413.67463685)\n",
      "  Intensity1 ...............: 0.596849678261568 +/- 0.19986170208393 [2.63699934530969e-14,infty[ ph/cm2/s/MeV (free,scale=0.000263699934530969,gradient)\n",
      "  Energy2 ..................: 2048285.01172474 [0.000204828501172474,infty[ MeV (fixed,scale=2048285.01172474)\n",
      "  Intensity2 ...............: 0.955852776423173 +/- 0.27239261436471 [8.31580088180217e-15,infty[ ph/cm2/s/MeV (free,scale=8.31580088180217e-05,gradient)\n",
      "  Energy3 ..................: 3503777.83227556 [0.000350377783227556,infty[ MeV (fixed,scale=3503777.83227556)\n",
      "  Intensity3 ...............: 1.96279835266255 +/- 0.605417301754042 [2.62239520190935e-15,infty[ ph/cm2/s/MeV (free,scale=2.62239520190935e-05,gradient)\n",
      "  Energy4 ..................: 5993530.69893743 [0.000599353069893743,infty[ MeV (fixed,scale=5993530.69893743)\n",
      "  Intensity4 ...............: 0.61189370200522 +/- 0.392560122455627 [8.26974658573933e-16,infty[ ph/cm2/s/MeV (free,scale=8.26974658573933e-06,gradient)\n",
      "  Energy5 ..................: 10252479.454662 [0.0010252479454662,infty[ MeV (fixed,scale=10252479.454662)\n",
      "  Intensity5 ...............: 0.670372977599336 +/- 0.49918330694888 [2.60787193869763e-16,infty[ ph/cm2/s/MeV (free,scale=2.60787193869763e-06,gradient)\n",
      "  Energy6 ..................: 17537798.7113509 [0.00175377987113509,infty[ MeV (fixed,scale=17537798.7113509)\n",
      "  Intensity6 ...............: 0.91835054322145 +/- 1.23832365407144 [8.22394734607041e-17,infty[ ph/cm2/s/MeV (free,scale=8.22394734607041e-07,gradient)\n",
      "  Energy7 ..................: 30000000 [0.003,infty[ MeV (fixed,scale=30000000)\n",
      "  Intensity7 ...............: 2.59342910774655e-17 +/- 9.80203792605831e-14 [2.59342910774655e-17,infty[ ph/cm2/s/MeV (free,scale=2.59342910774655e-07,gradient)\n",
      " Number of temporal par's ..: 1\n",
      "  Normalization ............: 1 (relative value) (fixed,scale=1,gradient)\n",
      "=== GCTAModelBackground ===\n",
      " Name ......................: Background_023559\n",
      " Instruments ...............: HESSOnOff\n",
      " Instrument scale factors ..: unity\n",
      " Observation identifiers ...: 023559\n",
      " Model type ................: CTABackground\n",
      " Model components ..........: \"Multiplicative\" * \"NodeFunction\" * \"Constant\"\n",
      " Number of parameters ......: 20\n",
      " Number of spatial par's ...: 3\n",
      "  1:Sigma ..................: 4.32704664084324 +/- 0 [7.71728e-08,infty[ deg2 (free,scale=1,gradient)\n",
      "  2:Grad_DETX ..............: 0.0187722831939023 +/- 0 deg^-1 (free,scale=1,gradient)\n",
      "  2:Grad_DETY ..............: -0.126627824474372 +/- 0 deg^-1 (free,scale=1,gradient)\n",
      " Number of spectral par's ..: 16\n",
      "  Energy0 ..................: 700000 [7e-05,infty[ MeV (fixed,scale=700000)\n",
      "  Intensity0 ...............: 0.808933010585171 +/- 0.200163172598279 [6.96233895968756e-14,infty[ ph/cm2/s/MeV (free,scale=0.000696233895968756,gradient)\n",
      "  Energy1 ..................: 1197413.67463685 [0.000119741367463685,infty[ MeV (fixed,scale=1197413.67463685)\n",
      "  Intensity1 ...............: 1.06066471644224 +/- 0.153500072375076 [2.20204639078551e-14,infty[ ph/cm2/s/MeV (free,scale=0.000220204639078551,gradient)\n",
      "  Energy2 ..................: 2048285.01172474 [0.000204828501172474,infty[ MeV (fixed,scale=2048285.01172474)\n",
      "  Intensity2 ...............: 0.710415433488969 +/- 0.137769419014371 [6.96462544447719e-15,infty[ ph/cm2/s/MeV (free,scale=6.96462544447719e-05,gradient)\n",
      "  Energy3 ..................: 3503777.83227556 [0.000350377783227556,infty[ MeV (fixed,scale=3503777.83227556)\n",
      "  Intensity3 ...............: 0.729027655898775 +/- 0.178799879249574 [2.20276955948036e-15,infty[ ph/cm2/s/MeV (free,scale=2.20276955948036e-05,gradient)\n",
      "  Energy4 ..................: 5993530.69893743 [0.000599353069893743,infty[ MeV (fixed,scale=5993530.69893743)\n",
      "  Intensity4 ...............: 0.803061536460788 +/- 0.258238882634414 [6.96691268016576e-16,infty[ ph/cm2/s/MeV (free,scale=6.96691268016576e-06,gradient)\n",
      "  Energy5 ..................: 10252479.454662 [0.0010252479454662,infty[ MeV (fixed,scale=10252479.454662)\n",
      "  Intensity5 ...............: 1.00423153683732 +/- 0.350723666167284 [2.20349296566929e-16,infty[ ph/cm2/s/MeV (free,scale=2.20349296566929e-06,gradient)\n",
      "  Energy6 ..................: 17537798.7113509 [0.00175377987113509,infty[ MeV (fixed,scale=17537798.7113509)\n",
      "  Intensity6 ...............: 0.568268794513719 +/- 0.367440704128657 [6.9692006669998e-17,infty[ ph/cm2/s/MeV (free,scale=6.9692006669998e-07,gradient)\n",
      "  Energy7 ..................: 30000000 [0.003,infty[ MeV (fixed,scale=30000000)\n",
      "  Intensity7 ...............: 2.20412624439493 +/- 2.17456371931644 [2.20421660943029e-17,infty[ ph/cm2/s/MeV (free,scale=2.20421660943029e-07,gradient)\n",
      " Number of temporal par's ..: 1\n",
      "  Normalization ............: 1 (relative value) (fixed,scale=1,gradient)\n",
      "=== GCTAModelBackground ===\n",
      " Name ......................: Background_023592\n",
      " Instruments ...............: HESSOnOff\n",
      " Instrument scale factors ..: unity\n",
      " Observation identifiers ...: 023592\n",
      " Model type ................: CTABackground\n",
      " Model components ..........: \"Multiplicative\" * \"NodeFunction\" * \"Constant\"\n",
      " Number of parameters ......: 20\n",
      " Number of spatial par's ...: 3\n",
      "  1:Sigma ..................: 3.64795431824073 +/- 0 [7.71728e-08,infty[ deg2 (free,scale=1,gradient)\n",
      "  2:Grad_DETX ..............: 0.0290086296998991 +/- 0 deg^-1 (free,scale=1,gradient)\n",
      "  2:Grad_DETY ..............: 0.165462915333049 +/- 0 deg^-1 (free,scale=1,gradient)\n",
      " Number of spectral par's ..: 16\n",
      "  Energy0 ..................: 700000 [7e-05,infty[ MeV (fixed,scale=700000)\n",
      "  Intensity0 ...............: 1.02971670368846 +/- 0.855827122441381 [8.127607193775e-14,infty[ ph/cm2/s/MeV (free,scale=0.0008127607193775,gradient)\n",
      "  Energy1 ..................: 1197413.67463685 [0.000119741367463685,infty[ MeV (fixed,scale=1197413.67463685)\n",
      "  Intensity1 ...............: 0.947987059426059 +/- 0.159618808634336 [2.64069813465664e-14,infty[ ph/cm2/s/MeV (free,scale=0.000264069813465664,gradient)\n",
      "  Energy2 ..................: 2048285.01172474 [0.000204828501172474,infty[ MeV (fixed,scale=2048285.01172474)\n",
      "  Intensity2 ...............: 0.930329629369328 +/- 0.147573728952743 [8.57975351431837e-15,infty[ ph/cm2/s/MeV (free,scale=8.57975351431837e-05,gradient)\n",
      "  Energy3 ..................: 3503777.83227556 [0.000350377783227556,infty[ MeV (fixed,scale=3503777.83227556)\n",
      "  Intensity3 ...............: 0.729974577227829 +/- 0.155604820302836 [2.78760261918503e-15,infty[ ph/cm2/s/MeV (free,scale=2.78760261918503e-05,gradient)\n",
      "  Energy4 ..................: 5993530.69893743 [0.000599353069893743,infty[ MeV (fixed,scale=5993530.69893743)\n",
      "  Intensity4 ...............: 0.726106308630469 +/- 0.203524547813456 [9.05705315370543e-16,infty[ ph/cm2/s/MeV (free,scale=9.05705315370543e-06,gradient)\n",
      "  Energy5 ..................: 10252479.454662 [0.0010252479454662,infty[ MeV (fixed,scale=10252479.454662)\n",
      "  Intensity5 ...............: 1.18037302547945 +/- 0.389214640445536 [2.94267953633316e-16,infty[ ph/cm2/s/MeV (free,scale=2.94267953633316e-06,gradient)\n",
      "  Energy6 ..................: 17537798.7113509 [0.00175377987113509,infty[ MeV (fixed,scale=17537798.7113509)\n",
      "  Intensity6 ...............: 1.55090547056218 +/- 0.642354234762239 [9.5609054143745e-17,infty[ ph/cm2/s/MeV (free,scale=9.5609054143745e-07,gradient)\n",
      "  Energy7 ..................: 30000000 [0.003,infty[ MeV (fixed,scale=30000000)\n",
      "  Intensity7 ...............: 1.38574572560495 +/- 1.01260914296946 [3.10638352610158e-17,infty[ ph/cm2/s/MeV (free,scale=3.10638352610158e-07,gradient)\n",
      " Number of temporal par's ..: 1\n",
      "  Normalization ............: 1 (relative value) (fixed,scale=1,gradient)\n"
     ]
    }
   ],
   "source": [
    "like = ctools.ctlike(phagen.obs())\n",
    "\n",
    "like.run()\n",
    "\n",
    "print(like.opt())\n",
    "print(like.obs().models())"
   ]
  },
  {
   "cell_type": "markdown",
   "metadata": {},
   "source": [
    "Results for the spectrum of the Crab nebula are once again consistent with those obtained before. Note how the spatial parameters of the background model, although formally free, have not been optimised (their errors are 0), since we are running a spectral analysis only.\n",
    "\n",
    "Since we have provided a background model to csphagen the statistic was set by default to `CSTAT`, i.e. the background model was also used in the fit. You may also specify as statistic in ctlike `WSTAT`. In this case the spectral model for the background would be derived from the data during the fit, and the impact of the model used above would extend only to the computation of the background normalisation factor between On and Off regions. Using an a-priori background model on the other hand can be advantageous to avoid intrinsic biases of WSTAT when the counting statistics are limited.\n",
    "\n",
    "Let's check the residuals for the first of the 4 observations."
   ]
  },
  {
   "cell_type": "code",
   "execution_count": 14,
   "metadata": {},
   "outputs": [
    {
     "data": {
      "image/png": "[encoded data removed]",
      "text/plain": [
       "<matplotlib.figure.Figure at 0x11132e5c0>"
      ]
     },
     "metadata": {},
     "output_type": "display_data"
    }
   ],
   "source": [
    "residuals = 'residuals_classical_bkgmod.fits'\n",
    "res = cscripts.csresspec(like.obs())\n",
    "\n",
    "res['components'] = True\n",
    "res['algorithm'] = 'SIGNIFICANCE'\n",
    "res['outfile'] = residuals\n",
    "res['stack'] = False\n",
    "\n",
    "res.execute()\n",
    "\n",
    "from show_residuals import plot_residuals\n",
    "plot_residuals(residuals,'',0)"
   ]
  },
  {
   "cell_type": "markdown",
   "metadata": {},
   "source": [
    "As expected the spectral residuals are not as good as in the first analysis in which the model was derived from the data during the fit itself, but the models still satisfactorily reproduce the data. Of course the total background coincides with the background model of the specific observation considered."
   ]
  }
 ],
 "metadata": {
  "kernelspec": {
   "display_name": "Python 3",
   "language": "python",
   "name": "python3"
  },
  "language_info": {
   "codemirror_mode": {
    "name": "ipython",
    "version": 3
   },
   "file_extension": ".py",
   "mimetype": "text/x-python",
   "name": "python",
   "nbconvert_exporter": "python",
   "pygments_lexer": "ipython3",
   "version": "3.5.4"
  }
 },
 "nbformat": 4,
 "nbformat_minor": 2
}
