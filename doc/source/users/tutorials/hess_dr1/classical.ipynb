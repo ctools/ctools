{
 "cells": [
  {
   "cell_type": "markdown",
   "metadata": {},
   "source": [
    "# Performing a classical On/Off analysis"
   ]
  },
  {
   "cell_type": "raw",
   "metadata": {},
   "source": [
    "<div align=\"right\"><a href=\"../../../_downloads/classical.ipynb\" download=\"classical.ipynb\"><img src=\"../../../_static/download-notebook.jpg\" alt=\"Download Notebook\" height=\"40\"></a></div>"
   ]
  },
  {
   "cell_type": "markdown",
   "metadata": {},
   "source": [
    "**In this tutorial you will learn to perform a classical On/Off analysis of the data.**\n",
    "\n",
    "We start by importing the gammalib, ctools, and cscripts Python modules."
   ]
  },
  {
   "cell_type": "code",
   "execution_count": 1,
   "metadata": {},
   "outputs": [],
   "source": [
    "import gammalib\n",
    "import ctools\n",
    "import cscripts"
   ]
  },
  {
   "cell_type": "markdown",
   "metadata": {},
   "source": [
    "We will also use matplotlib to display the results."
   ]
  },
  {
   "cell_type": "code",
   "execution_count": 2,
   "metadata": {},
   "outputs": [],
   "source": [
    "%matplotlib inline\n",
    "import matplotlib.pyplot as plt"
   ]
  },
  {
   "cell_type": "markdown",
   "metadata": {},
   "source": [
    "And finally we add to our path the directory containing the example plotting scripts provided with the ctools installation."
   ]
  },
  {
   "cell_type": "code",
   "execution_count": 3,
   "metadata": {},
   "outputs": [],
   "source": [
    "import sys\n",
    "import os\n",
    "sys.path.append(os.environ['CTOOLS']+'/share/examples/python/')"
   ]
  },
  {
   "cell_type": "markdown",
   "metadata": {},
   "source": [
    "## Classical analysis without background model\n",
    "\n",
    "### Preparation of the On/Off binned data\n",
    "\n",
    "The first step for a classical analysis is to bin the events in bins of energy for an On (signal) region, and one or several Off (background regions).\n",
    "\n",
    "We will use the event selection performed in the previous tutorial."
   ]
  },
  {
   "cell_type": "code",
   "execution_count": 4,
   "metadata": {},
   "outputs": [],
   "source": [
    "obsfile = \"obs_crab_selected.xml\"\n",
    "\n",
    "phagen = cscripts.csphagen()\n",
    "phagen['inobs'] = obsfile\n",
    "phagen['inmodel'] = 'NONE' # assume that the source is pointlike\n",
    "phagen['ebinalg'] = 'LOG'\n",
    "phagen['emin'] = 0.66\n",
    "phagen['emax'] = 30.\n",
    "phagen['enumbins'] = 20\n",
    "phagen['coordsys'] = 'CEL'\n",
    "phagen['ra'] = 83.63\n",
    "phagen['dec'] = 22.01\n",
    "phagen['rad'] = 0.2\n",
    "phagen['bkgmethod'] = 'REFLECTED'\n",
    "phagen['use_model_bkg'] = False\n",
    "phagen['maxoffset'] = 2.0\n",
    "phagen['stack'] = True\n",
    "phagen['outobs'] = 'obs_crab_onoff.xml'\n",
    "phagen['outmodel'] = 'onoff_model.xml'\n",
    "\n",
    "phagen.execute()"
   ]
  },
  {
   "cell_type": "markdown",
   "metadata": {},
   "source": [
    "Note that we have used the hidden parameter `use_model_bkg` to specify that no background model should be used in the computation of the background normalisation factor, which is simply assumed to be the ratio of the solid angles of On/Off regions.\n",
    "\n",
    "Let us peek at the resulting set of On/Off observations."
   ]
  },
  {
   "cell_type": "code",
   "execution_count": 5,
   "metadata": {},
   "outputs": [
    {
     "name": "stdout",
     "output_type": "stream",
     "text": [
      "=== GCTAOnOffObservation ===\n",
      " Name ......................: \n",
      " Identifier ................: \n",
      " Instrument ................: HESSOnOff\n",
      " Statistic .................: wstat\n",
      " Ontime ....................: 6313.8117676 s\n",
      " Livetime ..................: 6313.8117676 s\n",
      " Deadtime correction .......: 1\n",
      "=== GPha ===\n",
      " Exposure ..................: 6313.8117676 s\n",
      " Number of bins ............: 20\n",
      " Energy range ..............: 660 GeV - 30 TeV\n",
      " Observation energy range ..: 660.693448007596 GeV - 100 TeV\n",
      " Total number of counts ....: 576\n",
      " Underflow counts ..........: 0\n",
      " Overflow counts ...........: 1\n",
      " Outflow counts ............: 0\n",
      "=== GPha ===\n",
      " Exposure ..................: 6313.8117676 s\n",
      " Number of bins ............: 20\n",
      " Energy range ..............: 660 GeV - 30 TeV\n",
      " Observation energy range ..: 660.693448007596 GeV - 100 TeV\n",
      " Total number of counts ....: 772\n",
      " Underflow counts ..........: 0\n",
      " Overflow counts ...........: 4\n",
      " Outflow counts ............: 0\n",
      "=== GArf ===\n",
      " Number of bins ............: 61\n",
      " Energy range ..............: 330 GeV - 36.000002048 TeV\n",
      "=== GRmf ===\n",
      " Number of true energy bins : 61\n",
      " Number of measured bins ...: 20\n",
      " True energy range .........: 330 GeV - 36.000002048 TeV\n",
      " Measured energy range .....: 660 GeV - 30 TeV\n"
     ]
    }
   ],
   "source": [
    "print(phagen.obs()[0])"
   ]
  },
  {
   "cell_type": "markdown",
   "metadata": {},
   "source": [
    "Note that the instrument is now `HESSOnOff`, to signify that we are dealing with On/Off observations. Since we have no background model the statistic has been set to `WSTAT`. The script has also created a model for the On region."
   ]
  },
  {
   "cell_type": "code",
   "execution_count": 6,
   "metadata": {},
   "outputs": [
    {
     "name": "stdout",
     "output_type": "stream",
     "text": [
      "=== GModels ===\n",
      " Number of models ..........: 1\n",
      " Number of parameters ......: 6\n",
      "=== GModelSky ===\n",
      " Name ......................: Dummy\n",
      " Instruments ...............: all\n",
      " Instrument scale factors ..: unity\n",
      " Observation identifiers ...: all\n",
      " Model type ................: PointSource\n",
      " Model components ..........: \"PointSource\" * \"PowerLaw\" * \"Constant\"\n",
      " Number of parameters ......: 6\n",
      " Number of spatial par's ...: 2\n",
      "  RA .......................: 83.63 deg (fixed,scale=1)\n",
      "  DEC ......................: 22.01 deg (fixed,scale=1)\n",
      " Number of spectral par's ..: 3\n",
      "  Prefactor ................: 1e-18 +/- 0 [0,infty[ ph/cm2/s/MeV (free,scale=1e-18,gradient)\n",
      "  Index ....................: -2 +/- 0 [10,-10]  (free,scale=-2,gradient)\n",
      "  PivotEnergy ..............: 1000000 MeV (fixed,scale=1000000,gradient)\n",
      " Number of temporal par's ..: 1\n",
      "  Normalization ............: 1 (relative value) (fixed,scale=1,gradient)\n"
     ]
    }
   ],
   "source": [
    "print(phagen.obs().models())"
   ]
  },
  {
   "cell_type": "markdown",
   "metadata": {},
   "source": [
    "Since we do not have specified any input model the script has placed a point source named `Dummy`, at the center of the On region with a power law spectrum. We will rename this source as Crab. At this point you can also modify the spectral model, e.g., to use more appropriate parameter values or a different spectral shape."
   ]
  },
  {
   "cell_type": "code",
   "execution_count": 7,
   "metadata": {},
   "outputs": [],
   "source": [
    "phagen.obs().models()['Dummy'].name('Crab')"
   ]
  },
  {
   "cell_type": "markdown",
   "metadata": {},
   "source": [
    "### Likelihood fit and residuals\n",
    "\n",
    "We can now fit this model to the data."
   ]
  },
  {
   "cell_type": "code",
   "execution_count": 8,
   "metadata": {},
   "outputs": [],
   "source": [
    "like = ctools.ctlike(phagen.obs())\n",
    "\n",
    "like.run()"
   ]
  },
  {
   "cell_type": "markdown",
   "metadata": {},
   "source": [
    "Let's look at the results from the optimisation and the fitted model."
   ]
  },
  {
   "cell_type": "code",
   "execution_count": 9,
   "metadata": {},
   "outputs": [
    {
     "name": "stdout",
     "output_type": "stream",
     "text": [
      "=== GOptimizerLM ===\n",
      " Optimized function value ..: 15.746\n",
      " Absolute precision ........: 0.005\n",
      " Acceptable value decrease .: 2\n",
      " Optimization status .......: converged\n",
      " Number of parameters ......: 6\n",
      " Number of free parameters .: 2\n",
      " Number of iterations ......: 11\n",
      " Lambda ....................: 0.0001\n",
      "=== GModels ===\n",
      " Number of models ..........: 1\n",
      " Number of parameters ......: 6\n",
      "=== GModelSky ===\n",
      " Name ......................: Crab\n",
      " Instruments ...............: all\n",
      " Instrument scale factors ..: unity\n",
      " Observation identifiers ...: all\n",
      " Model type ................: PointSource\n",
      " Model components ..........: \"PointSource\" * \"PowerLaw\" * \"Constant\"\n",
      " Number of parameters ......: 6\n",
      " Number of spatial par's ...: 2\n",
      "  RA .......................: 83.63 deg (fixed,scale=1)\n",
      "  DEC ......................: 22.01 deg (fixed,scale=1)\n",
      " Number of spectral par's ..: 3\n",
      "  Prefactor ................: 4.61852950191309e-17 +/- 2.97687577951453e-18 [0,infty[ ph/cm2/s/MeV (free,scale=1e-18,gradient)\n",
      "  Index ....................: -2.63298373450669 +/- 0.0795120102122515 [10,-10]  (free,scale=-2,gradient)\n",
      "  PivotEnergy ..............: 1000000 MeV (fixed,scale=1000000,gradient)\n",
      " Number of temporal par's ..: 1\n",
      "  Normalization ............: 1 (relative value) (fixed,scale=1,gradient)\n"
     ]
    }
   ],
   "source": [
    "print(like.opt())\n",
    "print(like.obs().models())"
   ]
  },
  {
   "cell_type": "markdown",
   "metadata": {},
   "source": [
    "The fit has properly converged and the results are consistent with those obtained with the unbinned analysis.\n",
    "\n",
    "We will also check the spectral residuals."
   ]
  },
  {
   "cell_type": "code",
   "execution_count": 10,
   "metadata": {},
   "outputs": [
    {
     "data": {
      "image/png": "[encoded data removed]",
      "text/plain": [
       "<matplotlib.figure.Figure at 0x11d368ac8>"
      ]
     },
     "metadata": {},
     "output_type": "display_data"
    }
   ],
   "source": [
    "residuals = 'residuals_classical_nobkg.fits'\n",
    "res = cscripts.csresspec(like.obs())\n",
    "\n",
    "res['components'] = True\n",
    "res['algorithm'] = 'SIGNIFICANCE'\n",
    "res['outfile'] = residuals\n",
    "\n",
    "res.execute()\n",
    "\n",
    "from show_residuals import plot_residuals\n",
    "plot_residuals(residuals,'',0)"
   ]
  },
  {
   "cell_type": "markdown",
   "metadata": {},
   "source": [
    "## Classical analysis with a background model\n",
    "\n",
    "### Preparation of the On/Off binned data\n",
    "\n",
    "If a background model is available this can be used to compute the expected background rates for different observations as a function of energy and normalise the number of background counts between On and Off regions. Here we will use the background model derived using csbkgmodel."
   ]
  },
  {
   "cell_type": "code",
   "execution_count": 11,
   "metadata": {},
   "outputs": [],
   "source": [
    "srcmodel = os.environ['CTOOLS']+'/share/models/crab_nobkg.xml'\n",
    "bkgmodel = 'bkgmodel.xml'\n",
    "startmodel = 'model_classical_bkg.xml'\n",
    "\n",
    "merge = cscripts.csmodelmerge()\n",
    "merge['inmodels'] = srcmodel + ' ' + bkgmodel\n",
    "merge['outmodel'] = startmodel\n",
    "\n",
    "merge.execute()"
   ]
  },
  {
   "cell_type": "markdown",
   "metadata": {},
   "source": [
    "Now we can run csphagen using this model including the background in input. Note that since the background model is defined per observation we will not stack the observations together."
   ]
  },
  {
   "cell_type": "code",
   "execution_count": 12,
   "metadata": {},
   "outputs": [],
   "source": [
    "phagen = cscripts.csphagen()\n",
    "phagen['inobs'] = obsfile\n",
    "phagen['inmodel'] = startmodel\n",
    "phagen['ebinalg'] = 'LOG'\n",
    "phagen['emin'] = 0.66\n",
    "phagen['emax'] = 30.\n",
    "phagen['enumbins'] = 20\n",
    "phagen['coordsys'] = 'CEL'\n",
    "phagen['ra'] = 83.63\n",
    "phagen['dec'] = 22.01\n",
    "phagen['rad'] = 0.2\n",
    "phagen['bkgmethod'] = 'REFLECTED'\n",
    "phagen['use_model_bkg'] = True\n",
    "phagen['maxoffset'] = 2.0\n",
    "phagen['stack'] = False # treat observations separately in joint likelihood fit\n",
    "\n",
    "phagen.run()"
   ]
  },
  {
   "cell_type": "markdown",
   "metadata": {},
   "source": [
    "### Likelihood fit and residuals\n",
    "\n",
    "We will now fit the model to the data and look at the results."
   ]
  },
  {
   "cell_type": "code",
   "execution_count": 13,
   "metadata": {},
   "outputs": [
    {
     "name": "stdout",
     "output_type": "stream",
     "text": [
      "=== GOptimizerLM ===\n",
      " Optimized function value ..: -2417.569\n",
      " Absolute precision ........: 0.005\n",
      " Acceptable value decrease .: 2\n",
      " Optimization status .......: converged\n",
      " Number of parameters ......: 86\n",
      " Number of free parameters .: 46\n",
      " Number of iterations ......: 27\n",
      " Lambda ....................: 0.0001\n",
      "=== GModels ===\n",
      " Number of models ..........: 5\n",
      " Number of parameters ......: 86\n",
      "=== GModelSky ===\n",
      " Name ......................: Crab\n",
      " Instruments ...............: all\n",
      " Instrument scale factors ..: unity\n",
      " Observation identifiers ...: all\n",
      " Model type ................: PointSource\n",
      " Model components ..........: \"PointSource\" * \"PowerLaw\" * \"Constant\"\n",
      " Number of parameters ......: 6\n",
      " Number of spatial par's ...: 2\n",
      "  RA .......................: 83.6331 [-360,360] deg (fixed,scale=1)\n",
      "  DEC ......................: 22.0145 [-90,90] deg (fixed,scale=1)\n",
      " Number of spectral par's ..: 3\n",
      "  Prefactor ................: 4.44948855977292e-17 +/- 2.98608147595163e-18 [1e-24,1e-14] ph/cm2/s/MeV (free,scale=1e-17,gradient)\n",
      "  Index ....................: -2.64048564630574 +/- 0.0845162958882378 [-0,-5]  (free,scale=-1,gradient)\n",
      "  PivotEnergy ..............: 1000000 [10000,1000000000] MeV (fixed,scale=1000000,gradient)\n",
      " Number of temporal par's ..: 1\n",
      "  Normalization ............: 1 (relative value) (fixed,scale=1,gradient)\n",
      "=== GCTAModelBackground ===\n",
      " Name ......................: Background_023523\n",
      " Instruments ...............: HESSOnOff\n",
      " Instrument scale factors ..: unity\n",
      " Observation identifiers ...: 023523\n",
      " Model type ................: CTABackground\n",
      " Model components ..........: \"Multiplicative\" * \"NodeFunction\" * \"Constant\"\n",
      " Number of parameters ......: 20\n",
      " Number of spatial par's ...: 3\n",
      "  1:Sigma ..................: 3.19679118852325 +/- 0 [7.71728e-08,infty[ deg2 (free,scale=1,gradient)\n",
      "  2:Grad_DETX ..............: 0.0882131070561384 +/- 0 deg^-1 (free,scale=1,gradient)\n",
      "  2:Grad_DETY ..............: -0.000692481271743188 +/- 0 deg^-1 (free,scale=1,gradient)\n",
      " Number of spectral par's ..: 16\n",
      "  Energy0 ..................: 700000 [7e-05,infty[ MeV (fixed,scale=700000)\n",
      "  Intensity0 ...............: 1.82915277810716 +/- 2.98523592424625 [9.46696076103918e-14,infty[ ph/cm2/s/MeV (free,scale=0.000946696076103918,gradient)\n",
      "  Energy1 ..................: 1197413.67463685 [0.000119741367463685,infty[ MeV (fixed,scale=1197413.67463685)\n",
      "  Intensity1 ...............: 0.737150025293728 +/- 0.261301587637044 [3.11144874586726e-14,infty[ ph/cm2/s/MeV (free,scale=0.000311144874586726,gradient)\n",
      "  Energy2 ..................: 2048285.01172474 [0.000204828501172474,infty[ MeV (fixed,scale=2048285.01172474)\n",
      "  Intensity2 ...............: 1.09116643659428 +/- 0.304561039893255 [1.02262104412654e-14,infty[ ph/cm2/s/MeV (free,scale=0.000102262104412654,gradient)\n",
      "  Energy3 ..................: 3503777.83227556 [0.000350377783227556,infty[ MeV (fixed,scale=3503777.83227556)\n",
      "  Intensity3 ...............: 1.3280850414029 +/- 0.385313814509582 [3.36098674702412e-15,infty[ ph/cm2/s/MeV (free,scale=3.36098674702412e-05,gradient)\n",
      "  Energy4 ..................: 5993530.69893743 [0.000599353069893743,infty[ MeV (fixed,scale=5993530.69893743)\n",
      "  Intensity4 ...............: 0.926432945531744 +/- 0.385151735213996 [1.10463518999066e-15,infty[ ph/cm2/s/MeV (free,scale=1.10463518999066e-05,gradient)\n",
      "  Energy5 ..................: 10252479.454662 [0.0010252479454662,infty[ MeV (fixed,scale=10252479.454662)\n",
      "  Intensity5 ...............: 0.71969781854327 +/- 0.404354757148313 [3.63053768077518e-16,infty[ ph/cm2/s/MeV (free,scale=3.63053768077518e-06,gradient)\n",
      "  Energy6 ..................: 17537798.7113509 [0.00175377987113509,infty[ MeV (fixed,scale=17537798.7113509)\n",
      "  Intensity6 ...............: 0.475394547363214 +/- 0.506323753491188 [1.19322686539072e-16,infty[ ph/cm2/s/MeV (free,scale=1.19322686539072e-06,gradient)\n",
      "  Energy7 ..................: 30000000 [0.003,infty[ MeV (fixed,scale=30000000)\n",
      "  Intensity7 ...............: 1.81469499059109 +/- 2.29353523036857 [3.92170658310361e-17,infty[ ph/cm2/s/MeV (free,scale=3.92170658310361e-07,gradient)\n",
      " Number of temporal par's ..: 1\n",
      "  Normalization ............: 1 (relative value) (fixed,scale=1,gradient)\n",
      "=== GCTAModelBackground ===\n",
      " Name ......................: Background_023526\n",
      " Instruments ...............: HESSOnOff\n",
      " Instrument scale factors ..: unity\n",
      " Observation identifiers ...: 023526\n",
      " Model type ................: CTABackground\n",
      " Model components ..........: \"Multiplicative\" * \"NodeFunction\" * \"Constant\"\n",
      " Number of parameters ......: 20\n",
      " Number of spatial par's ...: 3\n",
      "  1:Sigma ..................: 3.30082205953218 +/- 0 [7.71728e-08,infty[ deg2 (free,scale=1,gradient)\n",
      "  2:Grad_DETX ..............: 0.0153115422362867 +/- 0 deg^-1 (free,scale=1,gradient)\n",
      "  2:Grad_DETY ..............: -0.00906905077562078 +/- 0 deg^-1 (free,scale=1,gradient)\n",
      " Number of spectral par's ..: 16\n",
      "  Energy0 ..................: 700000 [7e-05,infty[ MeV (fixed,scale=700000)\n",
      "  Intensity0 ...............: 1.31893783020118 +/- 0.622820694578051 [8.950257713407e-14,infty[ ph/cm2/s/MeV (free,scale=0.0008950257713407,gradient)\n",
      "  Energy1 ..................: 1197413.67463685 [0.000119741367463685,infty[ MeV (fixed,scale=1197413.67463685)\n",
      "  Intensity1 ...............: 0.557728626461438 +/- 0.186761587298395 [2.82228203274059e-14,infty[ ph/cm2/s/MeV (free,scale=0.000282228203274059,gradient)\n",
      "  Energy2 ..................: 2048285.01172474 [0.000204828501172474,infty[ MeV (fixed,scale=2048285.01172474)\n",
      "  Intensity2 ...............: 0.893201489929038 +/- 0.254538664146136 [8.8994933189452e-15,infty[ ph/cm2/s/MeV (free,scale=8.8994933189452e-05,gradient)\n",
      "  Energy3 ..................: 3503777.83227556 [0.000350377783227556,infty[ MeV (fixed,scale=3503777.83227556)\n",
      "  Intensity3 ...............: 1.83413334062776 +/- 0.565731083200602 [2.80627451173057e-15,infty[ ph/cm2/s/MeV (free,scale=2.80627451173057e-05,gradient)\n",
      "  Energy4 ..................: 5993530.69893743 [0.000599353069893743,infty[ MeV (fixed,scale=5993530.69893743)\n",
      "  Intensity4 ...............: 0.571800794898963 +/- 0.366838258238896 [8.84901685180661e-16,infty[ ph/cm2/s/MeV (free,scale=8.84901685180661e-06,gradient)\n",
      "  Energy5 ..................: 10252479.454662 [0.0010252479454662,infty[ MeV (fixed,scale=10252479.454662)\n",
      "  Intensity5 ...............: 0.62649563385912 +/- 0.46651063822524 [2.79035778275547e-16,infty[ ph/cm2/s/MeV (free,scale=2.79035778275547e-06,gradient)\n",
      "  Energy6 ..................: 17537798.7113509 [0.00175377987113509,infty[ MeV (fixed,scale=17537798.7113509)\n",
      "  Intensity6 ...............: 0.857737848623005 +/- 1.15659312387608 [8.79882667891458e-17,infty[ ph/cm2/s/MeV (free,scale=8.79882667891458e-07,gradient)\n",
      "  Energy7 ..................: 30000000 [0.003,infty[ MeV (fixed,scale=30000000)\n",
      "  Intensity7 ...............: 2.77453133085778e-17 +/- 1.03346007435353e-13 [2.77453133085778e-17,infty[ ph/cm2/s/MeV (free,scale=2.77453133085778e-07,gradient)\n",
      " Number of temporal par's ..: 1\n",
      "  Normalization ............: 1 (relative value) (fixed,scale=1,gradient)\n",
      "=== GCTAModelBackground ===\n",
      " Name ......................: Background_023559\n",
      " Instruments ...............: HESSOnOff\n",
      " Instrument scale factors ..: unity\n",
      " Observation identifiers ...: 023559\n",
      " Model type ................: CTABackground\n",
      " Model components ..........: \"Multiplicative\" * \"NodeFunction\" * \"Constant\"\n",
      " Number of parameters ......: 20\n",
      " Number of spatial par's ...: 3\n",
      "  1:Sigma ..................: 4.32704862685447 +/- 0 [7.71728e-08,infty[ deg2 (free,scale=1,gradient)\n",
      "  2:Grad_DETX ..............: 0.018772378083067 +/- 0 deg^-1 (free,scale=1,gradient)\n",
      "  2:Grad_DETY ..............: -0.126627961668458 +/- 0 deg^-1 (free,scale=1,gradient)\n",
      " Number of spectral par's ..: 16\n",
      "  Energy0 ..................: 700000 [7e-05,infty[ MeV (fixed,scale=700000)\n",
      "  Intensity0 ...............: 0.757173735279648 +/- 0.187355807353755 [7.43957604504927e-14,infty[ ph/cm2/s/MeV (free,scale=0.000743957604504927,gradient)\n",
      "  Energy1 ..................: 1197413.67463685 [0.000119741367463685,infty[ MeV (fixed,scale=1197413.67463685)\n",
      "  Intensity1 ...............: 0.992800622039355 +/- 0.143678736890171 [2.35277778278335e-14,infty[ ph/cm2/s/MeV (free,scale=0.000235277778278335,gradient)\n",
      "  Energy2 ..................: 2048285.01172474 [0.000204828501172474,infty[ MeV (fixed,scale=2048285.01172474)\n",
      "  Intensity2 ...............: 0.664958003857457 +/- 0.128953953265276 [7.44069724086306e-15,infty[ ph/cm2/s/MeV (free,scale=7.44069724086306e-05,gradient)\n",
      "  Energy3 ..................: 3503777.83227556 [0.000350377783227556,infty[ MeV (fixed,scale=3503777.83227556)\n",
      "  Intensity3 ...............: 0.682387513847986 +/- 0.167361006113386 [2.35313236274662e-15,infty[ ph/cm2/s/MeV (free,scale=2.35313236274662e-05,gradient)\n",
      "  Energy4 ..................: 5993530.69893743 [0.000599353069893743,infty[ MeV (fixed,scale=5993530.69893743)\n",
      "  Intensity4 ...............: 0.751672679738737 +/- 0.241713879491289 [7.44181860564889e-16,infty[ ph/cm2/s/MeV (free,scale=7.44181860564889e-06,gradient)\n",
      "  Energy5 ..................: 10252479.454662 [0.0010252479454662,infty[ MeV (fixed,scale=10252479.454662)\n",
      "  Intensity5 ...............: 0.939976629575607 +/- 0.328282876782342 [2.35348699614757e-16,infty[ ph/cm2/s/MeV (free,scale=2.35348699614757e-06,gradient)\n",
      "  Energy6 ..................: 17537798.7113509 [0.00175377987113509,infty[ MeV (fixed,scale=17537798.7113509)\n",
      "  Intensity6 ...............: 0.531943334387871 +/- 0.343952743403133 [7.44294013943215e-17,infty[ ph/cm2/s/MeV (free,scale=7.44294013943215e-07,gradient)\n",
      "  Energy7 ..................: 30000000 [0.003,infty[ MeV (fixed,scale=30000000)\n",
      "  Intensity7 ...............: 2.06281428407745 +/- 2.03514703037055 [2.35384168299424e-17,infty[ ph/cm2/s/MeV (free,scale=2.35384168299424e-07,gradient)\n",
      " Number of temporal par's ..: 1\n",
      "  Normalization ............: 1 (relative value) (fixed,scale=1,gradient)\n",
      "=== GCTAModelBackground ===\n",
      " Name ......................: Background_023592\n",
      " Instruments ...............: HESSOnOff\n",
      " Instrument scale factors ..: unity\n",
      " Observation identifiers ...: 023592\n",
      " Model type ................: CTABackground\n",
      " Model components ..........: \"Multiplicative\" * \"NodeFunction\" * \"Constant\"\n",
      " Number of parameters ......: 20\n",
      " Number of spatial par's ...: 3\n",
      "  1:Sigma ..................: 3.6479543205698 +/- 0 [7.71728e-08,infty[ deg2 (free,scale=1,gradient)\n",
      "  2:Grad_DETX ..............: 0.0290086310507671 +/- 0 deg^-1 (free,scale=1,gradient)\n",
      "  2:Grad_DETY ..............: 0.165462911909218 +/- 0 deg^-1 (free,scale=1,gradient)\n",
      " Number of spectral par's ..: 16\n",
      "  Energy0 ..................: 700000 [7e-05,infty[ MeV (fixed,scale=700000)\n",
      "  Intensity0 ...............: 0.965750113875299 +/- 0.80266265248186 [8.6655214667889e-14,infty[ ph/cm2/s/MeV (free,scale=0.00086655214667889,gradient)\n",
      "  Energy1 ..................: 1197413.67463685 [0.000119741367463685,infty[ MeV (fixed,scale=1197413.67463685)\n",
      "  Intensity1 ...............: 0.889097525111968 +/- 0.14970319068479 [2.81551973223247e-14,infty[ ph/cm2/s/MeV (free,scale=0.000281551973223247,gradient)\n",
      "  Energy2 ..................: 2048285.01172474 [0.000204828501172474,infty[ MeV (fixed,scale=2048285.01172474)\n",
      "  Intensity2 ...............: 0.872536989808119 +/- 0.138406358731289 [9.1479219028787e-15,infty[ ph/cm2/s/MeV (free,scale=9.1479219028787e-05,gradient)\n",
      "  Energy3 ..................: 3503777.83227556 [0.000350377783227556,infty[ MeV (fixed,scale=3503777.83227556)\n",
      "  Intensity3 ...............: 0.684627906473248 +/- 0.145938508994264 [2.97225674475431e-15,infty[ ph/cm2/s/MeV (free,scale=2.97225674475431e-05,gradient)\n",
      "  Energy4 ..................: 5993530.69893743 [0.000599353069893743,infty[ MeV (fixed,scale=5993530.69893743)\n",
      "  Intensity4 ...............: 0.680996660069886 +/- 0.19088050097399 [9.65717706221071e-16,infty[ ph/cm2/s/MeV (free,scale=9.65717706221071e-06,gradient)\n",
      "  Energy5 ..................: 10252479.454662 [0.0010252479454662,infty[ MeV (fixed,scale=10252479.454662)\n",
      "  Intensity5 ...............: 1.1070598171547 +/- 0.365040327560081 [3.1377191413724e-16,infty[ ph/cm2/s/MeV (free,scale=3.1377191413724e-06,gradient)\n",
      "  Energy6 ..................: 17537798.7113509 [0.00175377987113509,infty[ MeV (fixed,scale=17537798.7113509)\n",
      "  Intensity6 ...............: 1.4545346432686 +/- 0.602439342106369 [1.01947819188903e-16,infty[ ph/cm2/s/MeV (free,scale=1.01947819188903e-06,gradient)\n",
      "  Energy7 ..................: 30000000 [0.003,infty[ MeV (fixed,scale=30000000)\n",
      "  Intensity7 ...............: 1.29971717485403 +/- 0.94974530042111 [3.31239265501224e-17,infty[ ph/cm2/s/MeV (free,scale=3.31239265501224e-07,gradient)\n",
      " Number of temporal par's ..: 1\n",
      "  Normalization ............: 1 (relative value) (fixed,scale=1,gradient)\n"
     ]
    }
   ],
   "source": [
    "like = ctools.ctlike(phagen.obs())\n",
    "\n",
    "like.run()\n",
    "\n",
    "print(like.opt())\n",
    "print(like.obs().models())"
   ]
  },
  {
   "cell_type": "markdown",
   "metadata": {},
   "source": [
    "Results for the spectrum of the Crab nebula are once again consistent with those obtained before. Note how the spatial parameters of the background model, although formally free, have not been optimised (their errors are 0), since we are running a spectral analysis only.\n",
    "\n",
    "Since we have provided a background model to csphagen the statistic was set by default to `CSTAT`, i.e. the background model was also used in the fit. You may also specify as statistic in ctlike `WSTAT`. In this case the spectral model for the background would be derived from the data during the fit, and the impact of the model used above would extend only to the computation of the background normalisation factor between On and Off regions. Using an a-priori background model on the other hand can be advantageous to avoid intrinsic biases of WSTAT when the counting statistics are limited.\n",
    "\n",
    "Let's check the residuals for the first of the 4 observations."
   ]
  },
  {
   "cell_type": "code",
   "execution_count": 14,
   "metadata": {},
   "outputs": [
    {
     "data": {
      "image/png": "[encoded data removed]",
      "text/plain": [
       "<matplotlib.figure.Figure at 0x12730cf60>"
      ]
     },
     "metadata": {},
     "output_type": "display_data"
    }
   ],
   "source": [
    "residuals = 'residuals_classical_bkgmod.fits'\n",
    "res = cscripts.csresspec(like.obs())\n",
    "\n",
    "res['components'] = True\n",
    "res['algorithm'] = 'SIGNIFICANCE'\n",
    "res['outfile'] = residuals\n",
    "\n",
    "res.execute()\n",
    "\n",
    "from show_residuals import plot_residuals\n",
    "plot_residuals(residuals,'',0)"
   ]
  },
  {
   "cell_type": "markdown",
   "metadata": {},
   "source": [
    "As expected the spectral residuals are not as good as in the first analysis in which the model was derived from the data during the fit itself, but the models still satisfactorily reproduces the data. Of course the total background coincides with the background model of the specific observation considered."
   ]
  }
 ],
 "metadata": {
  "kernelspec": {
   "display_name": "Python 3",
   "language": "python",
   "name": "python3"
  },
  "language_info": {
   "codemirror_mode": {
    "name": "ipython",
    "version": 3
   },
   "file_extension": ".py",
   "mimetype": "text/x-python",
   "name": "python",
   "nbconvert_exporter": "python",
   "pygments_lexer": "ipython3",
   "version": "3.5.4"
  }
 },
 "nbformat": 4,
 "nbformat_minor": 2
}
