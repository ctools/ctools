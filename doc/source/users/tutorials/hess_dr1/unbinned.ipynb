{
 "cells": [
  {
   "cell_type": "markdown",
   "metadata": {},
   "source": [
    "# Performing an unbinned analysis"
   ]
  },
  {
   "cell_type": "raw",
   "metadata": {},
   "source": [
    "<div align=\"right\"><a href=\"../../../_downloads/unbinned.ipynb\" download=\"unbinned.ipynb\"><img src=\"../../../_static/download-notebook.jpg\" alt=\"Download Notebook\" height=\"40\"></a></div>"
   ]
  },
  {
   "cell_type": "markdown",
   "metadata": {},
   "source": [
    "**In this tutorial you will learn to fit a parametric model to the event data (unbinned fit) and how to inspect the fit residuals**\n",
    "\n",
    "Now you are ready to fit the models for the source and the background to the data.\n",
    "\n",
    "We start by importing gammalib, ctools, and cscripts."
   ]
  },
  {
   "cell_type": "code",
   "execution_count": 1,
   "metadata": {},
   "outputs": [],
   "source": [
    "import gammalib\n",
    "import ctools\n",
    "import cscripts"
   ]
  },
  {
   "cell_type": "markdown",
   "metadata": {},
   "source": [
    "We will also use matplotlib to display the results."
   ]
  },
  {
   "cell_type": "code",
   "execution_count": 2,
   "metadata": {},
   "outputs": [],
   "source": [
    "%matplotlib inline\n",
    "import matplotlib.pyplot as plt"
   ]
  },
  {
   "cell_type": "markdown",
   "metadata": {},
   "source": [
    "Finally we add to our path the directory containing the example plotting scripts provided with the ctools installation."
   ]
  },
  {
   "cell_type": "code",
   "execution_count": 3,
   "metadata": {},
   "outputs": [],
   "source": [
    "import sys\n",
    "import os\n",
    "sys.path.append(os.environ['CTOOLS']+'/share/examples/python/')"
   ]
  },
  {
   "cell_type": "markdown",
   "metadata": {},
   "source": [
    "## Preparing the model\n",
    "\n",
    "First, we will merge the two models we derived in the previous tutorials for source and background."
   ]
  },
  {
   "cell_type": "code",
   "execution_count": 4,
   "metadata": {},
   "outputs": [
    {
     "name": "stdout",
     "output_type": "stream",
     "text": [
      "=== GModels ===\n",
      " Number of models ..........: 5\n",
      " Number of parameters ......: 86\n",
      "=== GModelSky ===\n",
      " Name ......................: Src001\n",
      " Instruments ...............: all\n",
      " Instrument scale factors ..: unity\n",
      " Observation identifiers ...: all\n",
      " Model type ................: PointSource\n",
      " Model components ..........: \"PointSource\" * \"PowerLaw\" * \"Constant\"\n",
      " Number of parameters ......: 6\n",
      " Number of spatial par's ...: 2\n",
      "  RA .......................: 83.6192131308071 +/- 0 deg (free,scale=1)\n",
      "  DEC ......................: 22.0199996472185 +/- 0 deg (free,scale=1)\n",
      " Number of spectral par's ..: 3\n",
      "  Prefactor ................: 5.7e-18 +/- 0 [0,infty[ ph/cm2/s/MeV (free,scale=5.7e-18,gradient)\n",
      "  Index ....................: -2.48 +/- 0 [10,-10]  (free,scale=-2.48,gradient)\n",
      "  PivotEnergy ..............: 300000 MeV (fixed,scale=300000,gradient)\n",
      " Number of temporal par's ..: 1\n",
      "  Normalization ............: 1 (relative value) (fixed,scale=1,gradient)\n",
      "=== GCTAModelBackground ===\n",
      " Name ......................: Background_023523\n",
      " Instruments ...............: HESS\n",
      " Instrument scale factors ..: unity\n",
      " Observation identifiers ...: 023523\n",
      " Model type ................: CTABackground\n",
      " Model components ..........: \"Multiplicative\" * \"NodeFunction\" * \"Constant\"\n",
      " Number of parameters ......: 20\n",
      " Number of spatial par's ...: 3\n",
      "  1:Normalization ..........: 1 [0.001,1000]  (fixed,scale=1,gradient)\n",
      "  2:Grad_DETX ..............: 0.0881748792818854 +/- 0.0222611841905954 deg^-1 (free,scale=1,gradient)\n",
      "  2:Grad_DETY ..............: -0.000701218995455618 +/- 0.0227202811076142 deg^-1 (free,scale=1,gradient)\n",
      " Number of spectral par's ..: 16\n",
      "  Energy0 ..................: 700000 [7e-05,infty[ MeV (fixed,scale=700000)\n",
      "  Intensity0 ...............: 0.00167503068442416 +/- 0.000204995398027476 [1.00182541969977e-13,infty[ ph/cm2/s/MeV (free,scale=0.00100182541969977,gradient)\n",
      "  Energy1 ..................: 1197413.67463685 [0.000119741367463685,infty[ MeV (fixed,scale=1197413.67463685)\n",
      "  Intensity1 ...............: 0.000275120588592054 +/- 1.41610992132859e-05 [3.21240099713853e-14,infty[ ph/cm2/s/MeV (free,scale=0.000321240099713853,gradient)\n",
      "  Energy2 ..................: 2048285.01172474 [0.000204828501172474,infty[ MeV (fixed,scale=2048285.01172474)\n",
      "  Intensity2 ...............: 0.000102369982797547 +/- 5.87189405970882e-06 [1.03007170346199e-14,infty[ ph/cm2/s/MeV (free,scale=0.000103007170346199,gradient)\n",
      "  Energy3 ..................: 3503777.83227556 [0.000350377783227556,infty[ MeV (fixed,scale=3503777.83227556)\n",
      "  Intensity3 ...............: 3.43310169853447e-05 +/- 2.52595458342912e-06 [3.30297405342054e-15,infty[ ph/cm2/s/MeV (free,scale=3.30297405342054e-05,gradient)\n",
      "  Energy4 ..................: 5993530.69893743 [0.000599353069893743,infty[ MeV (fixed,scale=5993530.69893743)\n",
      "  Intensity4 ...............: 1.04184963555313e-05 +/- 1.01064863096553e-06 [1.05911438600856e-15,infty[ ph/cm2/s/MeV (free,scale=1.05911438600856e-05,gradient)\n",
      "  Energy5 ..................: 10252479.454662 [0.0010252479454662,infty[ MeV (fixed,scale=10252479.454662)\n",
      "  Intensity5 ...............: 4.1837003769505e-06 +/- 5.25942224806527e-07 [3.39610080039421e-16,infty[ ph/cm2/s/MeV (free,scale=3.39610080039421e-06,gradient)\n",
      "  Energy6 ..................: 17537798.7113509 [0.00175377987113509,infty[ MeV (fixed,scale=17537798.7113509)\n",
      "  Intensity6 ...............: 8.6658971981008e-07 +/- 1.76584928413557e-07 [1.08897592165697e-16,infty[ ph/cm2/s/MeV (free,scale=1.08897592165697e-06,gradient)\n",
      "  Energy7 ..................: 30000000 [0.003,infty[ MeV (fixed,scale=30000000)\n",
      "  Intensity7 ...............: 3.41087754372141e-07 +/- 1.23894301613722e-07 [3.49185323889972e-17,infty[ ph/cm2/s/MeV (free,scale=3.49185323889972e-07,gradient)\n",
      " Number of temporal par's ..: 1\n",
      "  Normalization ............: 1 (relative value) (fixed,scale=1,gradient)\n",
      "=== GCTAModelBackground ===\n",
      " Name ......................: Background_023526\n",
      " Instruments ...............: HESS\n",
      " Instrument scale factors ..: unity\n",
      " Observation identifiers ...: 023526\n",
      " Model type ................: CTABackground\n",
      " Model components ..........: \"Multiplicative\" * \"NodeFunction\" * \"Constant\"\n",
      " Number of parameters ......: 20\n",
      " Number of spatial par's ...: 3\n",
      "  1:Normalization ..........: 1 [0.001,1000]  (fixed,scale=1,gradient)\n",
      "  2:Grad_DETX ..............: 0.0153166143265463 +/- 0.0215144304488992 deg^-1 (free,scale=1,gradient)\n",
      "  2:Grad_DETY ..............: -0.00908019181469828 +/- 0.0213167666197536 deg^-1 (free,scale=1,gradient)\n",
      " Number of spectral par's ..: 16\n",
      "  Energy0 ..................: 700000 [7e-05,infty[ MeV (fixed,scale=700000)\n",
      "  Intensity0 ...............: 0.00126074399446221 +/- 6.18948752992e-05 [9.62519069451052e-14,infty[ ph/cm2/s/MeV (free,scale=0.000962519069451052,gradient)\n",
      "  Energy1 ..................: 1197413.67463685 [0.000119741367463685,infty[ MeV (fixed,scale=1197413.67463685)\n",
      "  Intensity1 ...............: 0.000220109488746193 +/- 1.10099106908638e-05 [2.95441986174209e-14,infty[ ph/cm2/s/MeV (free,scale=0.000295441986174209,gradient)\n",
      "  Energy2 ..................: 2048285.01172474 [0.000204828501172474,infty[ MeV (fixed,scale=2048285.01172474)\n",
      "  Intensity2 ...............: 0.000104377151461511 +/- 6.26567390995899e-06 [9.068492247571e-15,infty[ ph/cm2/s/MeV (free,scale=9.068492247571e-05,gradient)\n",
      "  Energy3 ..................: 3503777.83227556 [0.000350377783227556,infty[ MeV (fixed,scale=3503777.83227556)\n",
      "  Intensity3 ...............: 2.68164289254463e-05 +/- 2.2601490434718e-06 [2.78354314866283e-15,infty[ ph/cm2/s/MeV (free,scale=2.78354314866283e-05,gradient)\n",
      "  Energy4 ..................: 5993530.69893743 [0.000599353069893743,infty[ MeV (fixed,scale=5993530.69893743)\n",
      "  Intensity4 ...............: 8.96128027251196e-06 +/- 9.61601396204211e-07 [8.54399193266454e-16,infty[ ph/cm2/s/MeV (free,scale=8.54399193266454e-06,gradient)\n",
      "  Energy5 ..................: 10252479.454662 [0.0010252479454662,infty[ MeV (fixed,scale=10252479.454662)\n",
      "  Intensity5 ...............: 3.14829249162658e-06 +/- 4.37081753413707e-07 [2.62254954375342e-16,infty[ ph/cm2/s/MeV (free,scale=2.62254954375342e-06,gradient)\n",
      "  Energy6 ..................: 17537798.7113509 [0.00175377987113509,infty[ MeV (fixed,scale=17537798.7113509)\n",
      "  Intensity6 ...............: 6.09624701513041e-07 +/- 1.43872314987655e-07 [8.04982748537824e-17,infty[ ph/cm2/s/MeV (free,scale=8.04982748537824e-07,gradient)\n",
      "  Energy7 ..................: 30000000 [0.003,infty[ MeV (fixed,scale=30000000)\n",
      "  Intensity7 ...............: 3.44982419809933e-07 +/- 1.26076763285202e-07 [2.4708674312253e-17,infty[ ph/cm2/s/MeV (free,scale=2.4708674312253e-07,gradient)\n",
      " Number of temporal par's ..: 1\n",
      "  Normalization ............: 1 (relative value) (fixed,scale=1,gradient)\n",
      "=== GCTAModelBackground ===\n",
      " Name ......................: Background_023559\n",
      " Instruments ...............: HESS\n",
      " Instrument scale factors ..: unity\n",
      " Observation identifiers ...: 023559\n",
      " Model type ................: CTABackground\n",
      " Model components ..........: \"Multiplicative\" * \"NodeFunction\" * \"Constant\"\n",
      " Number of parameters ......: 20\n",
      " Number of spatial par's ...: 3\n",
      "  1:Normalization ..........: 1 [0.001,1000]  (fixed,scale=1,gradient)\n",
      "  2:Grad_DETX ..............: 0.018749400342 +/- 0.0217067733288596 deg^-1 (free,scale=1,gradient)\n",
      "  2:Grad_DETY ..............: -0.126640342510319 +/- 0.020455126417247 deg^-1 (free,scale=1,gradient)\n",
      " Number of spectral par's ..: 16\n",
      "  Energy0 ..................: 700000 [7e-05,infty[ MeV (fixed,scale=700000)\n",
      "  Intensity0 ...............: 0.00109294743570479 +/- 5.37668986080239e-05 [8.7418891142236e-14,infty[ ph/cm2/s/MeV (free,scale=0.00087418891142236,gradient)\n",
      "  Energy1 ..................: 1197413.67463685 [0.000119741367463685,infty[ MeV (fixed,scale=1197413.67463685)\n",
      "  Intensity1 ...............: 0.000220103906688583 +/- 1.10283166290448e-05 [2.69181956755491e-14,infty[ ph/cm2/s/MeV (free,scale=0.000269181956755491,gradient)\n",
      "  Energy2 ..................: 2048285.01172474 [0.000204828501172474,infty[ MeV (fixed,scale=2048285.01172474)\n",
      "  Intensity2 ...............: 8.06623852687504e-05 +/- 5.23872750218462e-06 [8.28870337932099e-15,infty[ ph/cm2/s/MeV (free,scale=8.28870337932099e-05,gradient)\n",
      "  Energy3 ..................: 3503777.83227556 [0.000350377783227556,infty[ MeV (fixed,scale=3503777.83227556)\n",
      "  Intensity3 ...............: 2.85428972580395e-05 +/- 2.37266748207121e-06 [2.55227373106486e-15,infty[ ph/cm2/s/MeV (free,scale=2.55227373106486e-05,gradient)\n",
      "  Energy4 ..................: 5993530.69893743 [0.000599353069893743,infty[ MeV (fixed,scale=5993530.69893743)\n",
      "  Intensity4 ...............: 6.46456658892385e-06 +/- 7.36558401693409e-07 [7.85901111449516e-16,infty[ ph/cm2/s/MeV (free,scale=7.85901111449516e-06,gradient)\n",
      "  Energy5 ..................: 10252479.454662 [0.0010252479454662,infty[ MeV (fixed,scale=10252479.454662)\n",
      "  Intensity5 ...............: 3.20506991372933e-06 +/- 4.41036712274814e-07 [2.4199620497598e-16,infty[ ph/cm2/s/MeV (free,scale=2.4199620497598e-06,gradient)\n",
      "  Energy6 ..................: 17537798.7113509 [0.00175377987113509,infty[ MeV (fixed,scale=17537798.7113509)\n",
      "  Intensity6 ...............: 9.17351299053318e-07 +/- 2.02856047440946e-07 [7.45159440158635e-17,infty[ ph/cm2/s/MeV (free,scale=7.45159440158635e-07,gradient)\n",
      "  Energy7 ..................: 30000000 [0.003,infty[ MeV (fixed,scale=30000000)\n",
      "  Intensity7 ...............: 1.93348643577948e-07 +/- 9.48901838749967e-08 [2.29450949990163e-17,infty[ ph/cm2/s/MeV (free,scale=2.29450949990163e-07,gradient)\n",
      " Number of temporal par's ..: 1\n",
      "  Normalization ............: 1 (relative value) (fixed,scale=1,gradient)\n",
      "=== GCTAModelBackground ===\n",
      " Name ......................: Background_023592\n",
      " Instruments ...............: HESS\n",
      " Instrument scale factors ..: unity\n",
      " Observation identifiers ...: 023592\n",
      " Model type ................: CTABackground\n",
      " Model components ..........: \"Multiplicative\" * \"NodeFunction\" * \"Constant\"\n",
      " Number of parameters ......: 20\n",
      " Number of spatial par's ...: 3\n",
      "  1:Normalization ..........: 1 [0.001,1000]  (fixed,scale=1,gradient)\n",
      "  2:Grad_DETX ..............: 0.0290076925442388 +/- 0.0231627042594752 deg^-1 (free,scale=1,gradient)\n",
      "  2:Grad_DETY ..............: 0.165459453396994 +/- 0.0212165299830029 deg^-1 (free,scale=1,gradient)\n",
      " Number of spectral par's ..: 16\n",
      "  Energy0 ..................: 700000 [7e-05,infty[ MeV (fixed,scale=700000)\n",
      "  Intensity0 ...............: 0.00173543806725313 +/- 0.000221842434989178 [9.64800822522881e-14,infty[ ph/cm2/s/MeV (free,scale=0.000964800822522881,gradient)\n",
      "  Energy1 ..................: 1197413.67463685 [0.000119741367463685,infty[ MeV (fixed,scale=1197413.67463685)\n",
      "  Intensity1 ...............: 0.000247432426542881 +/- 1.35075275068334e-05 [3.05783271724063e-14,infty[ ph/cm2/s/MeV (free,scale=0.000305783271724063,gradient)\n",
      "  Energy2 ..................: 2048285.01172474 [0.000204828501172474,infty[ MeV (fixed,scale=2048285.01172474)\n",
      "  Intensity2 ...............: 0.000102349095137416 +/- 6.00669028431716e-06 [9.6914727976462e-15,infty[ ph/cm2/s/MeV (free,scale=9.6914727976462e-05,gradient)\n",
      "  Energy3 ..................: 3503777.83227556 [0.000350377783227556,infty[ MeV (fixed,scale=3503777.83227556)\n",
      "  Intensity3 ...............: 3.39523135381865e-05 +/- 2.54888013407308e-06 [3.07160834724385e-15,infty[ ph/cm2/s/MeV (free,scale=3.07160834724385e-05,gradient)\n",
      "  Energy4 ..................: 5993530.69893743 [0.000599353069893743,infty[ MeV (fixed,scale=5993530.69893743)\n",
      "  Intensity4 ...............: 9.09839000917866e-06 +/- 9.25509371718351e-07 [9.735133179293e-16,infty[ ph/cm2/s/MeV (free,scale=9.735133179293e-06,gradient)\n",
      "  Energy5 ..................: 10252479.454662 [0.0010252479454662,infty[ MeV (fixed,scale=10252479.454662)\n",
      "  Intensity5 ...............: 3.01613230297962e-06 +/- 4.11382625961797e-07 [3.08544603688196e-16,infty[ ph/cm2/s/MeV (free,scale=3.08544603688196e-06,gradient)\n",
      "  Energy6 ..................: 17537798.7113509 [0.00175377987113509,infty[ MeV (fixed,scale=17537798.7113509)\n",
      "  Intensity6 ...............: 9.30049222211062e-07 +/- 1.86843120695054e-07 [9.77899025229569e-17,infty[ ph/cm2/s/MeV (free,scale=9.77899025229569e-07,gradient)\n",
      "  Energy7 ..................: 30000000 [0.003,infty[ MeV (fixed,scale=30000000)\n",
      "  Intensity7 ...............: 3.98006363733031e-07 +/- 1.41569683967725e-07 [3.09934606573553e-17,infty[ ph/cm2/s/MeV (free,scale=3.09934606573553e-07,gradient)\n",
      " Number of temporal par's ..: 1\n",
      "  Normalization ............: 1 (relative value) (fixed,scale=1,gradient)\n"
     ]
    }
   ],
   "source": [
    "srcmodel = 'crab.xml'\n",
    "bkgmodel = 'bkgmodel.xml'\n",
    "models   = gammalib.GModels()\n",
    "for inmodels in [srcmodel,bkgmodel]:\n",
    "    for model in gammalib.GModels(inmodels):\n",
    "        models.append(model)\n",
    "print(models)"
   ]
  },
  {
   "cell_type": "markdown",
   "metadata": {},
   "source": [
    "Note how the source found by cssrcdetect was named *Src001*. We will call it *Crab* instead. Also, spectral parameters are set to default values, but you should make sure they are appropriate so that the model fit runs seamlessly. In this case it is best to set the value of the pivot energy for the Crab within our energy range (> 0.66 TeV). We will set it to 1 TeV."
   ]
  },
  {
   "cell_type": "code",
   "execution_count": 5,
   "metadata": {},
   "outputs": [],
   "source": [
    "models['Src001'].name('Crab')\n",
    "models['Crab']['PivotEnergy'].value(1.e6)"
   ]
  },
  {
   "cell_type": "markdown",
   "metadata": {},
   "source": [
    "We will save this model to disk for later use."
   ]
  },
  {
   "cell_type": "code",
   "execution_count": 6,
   "metadata": {},
   "outputs": [],
   "source": [
    "modelfile = 'crab_models.xml'\n",
    "models.save(modelfile)"
   ]
  },
  {
   "cell_type": "markdown",
   "metadata": {},
   "source": [
    "## Fitting the model to the data\n",
    "\n",
    "The model fit is performed by ctlike. We will use the previously selected events."
   ]
  },
  {
   "cell_type": "code",
   "execution_count": 7,
   "metadata": {},
   "outputs": [],
   "source": [
    "obsfile = 'obs_crab_selected.xml'\n",
    "like    = ctools.ctlike()\n",
    "like['inobs']   = obsfile\n",
    "like['inmodel'] = modelfile\n",
    "like.run()"
   ]
  },
  {
   "cell_type": "markdown",
   "metadata": {},
   "source": [
    "We can now look at the results from the optimisation and the fitted model."
   ]
  },
  {
   "cell_type": "code",
   "execution_count": 8,
   "metadata": {},
   "outputs": [
    {
     "name": "stdout",
     "output_type": "stream",
     "text": [
      "=== GOptimizerLM ===\n",
      " Optimized function value ..: 98167.993\n",
      " Absolute precision ........: 0.005\n",
      " Acceptable value decrease .: 2\n",
      " Optimization status .......: converged\n",
      " Number of parameters ......: 86\n",
      " Number of free parameters .: 44\n",
      " Number of iterations ......: 28\n",
      " Lambda ....................: 0.1\n",
      "=== GModelSky ===\n",
      " Name ......................: Crab\n",
      " Instruments ...............: all\n",
      " Instrument scale factors ..: unity\n",
      " Observation identifiers ...: all\n",
      " Model type ................: PointSource\n",
      " Model components ..........: \"PointSource\" * \"PowerLaw\" * \"Constant\"\n",
      " Number of parameters ......: 6\n",
      " Number of spatial par's ...: 2\n",
      "  RA .......................: 83.6231161425766 +/- 0.00240718177620446 deg (free,scale=1)\n",
      "  DEC ......................: 22.0247773403131 +/- 0.00218186675985154 deg (free,scale=1)\n",
      " Number of spectral par's ..: 3\n",
      "  Prefactor ................: 4.80653958161532e-17 +/- 2.64950884427518e-18 [0,infty[ ph/cm2/s/MeV (free,scale=5.7e-18,gradient)\n",
      "  Index ....................: -2.68230589724908 +/- 0.0650730512302727 [10,-10]  (free,scale=-2.48,gradient)\n",
      "  PivotEnergy ..............: 999999.999999999 MeV (fixed,scale=300000,gradient)\n",
      " Number of temporal par's ..: 1\n",
      "  Normalization ............: 1 (relative value) (fixed,scale=1,gradient)\n"
     ]
    }
   ],
   "source": [
    "print(like.opt())\n",
    "print(like.obs().models()['Crab'])"
   ]
  },
  {
   "cell_type": "markdown",
   "metadata": {},
   "source": [
    "The statistical 1-sigma positional uncertainty corresponds to 0.12 arcmin. Systematic uncertainties are not computed. The fitted position can be compared to the values of 83.629±0.005 degrees in Right Ascension and 22.012±0.001 degrees in Declination reported in [Holler et al. (2017)](https://arxiv.org/pdf/1707.04196.pdf).\n",
    "\n",
    "According to [SIMBAD](http://cdsportal.u-strasbg.fr/?target=Crab%20nebula), the Crab nebula is situated at a Right Ascension of 83.633 degrees and a Declination of 22.015 degrees, which is 0.013 degrees (0.82 arcmin) away from the fitted position.\n",
    "\n",
    "The intensity at 1 TeV of the Crab was fitted to (4.89±0.27)×10−11 photons cm−2 s−1 TeV−1 the spectral index of the power law is −2.70±0.07. This can be compared to the values of (3.45±0.05)×10−11 photons cm−2 s−1 TeV−1 and −2.63±0.01 reported in [Aharonian et al. (2006), A&A, 457, 899](https://www.aanda.org/articles/aa/abs/2006/39/aa5351-06/aa5351-06.html) (note that the datasets, calibrations etc. used in our analysis are not the same as in that paper).\n",
    "\n",
    "In the ctlike run above the energy dispersion, which relates the true photon energies to the energies of the reconstructed events, was not taken into account. By default **energy dispersion usage is disabled** since it involves an extra dimension in the data analysis which slows down the computations. We can run accounting for energy dispersion to compare the results."
   ]
  },
  {
   "cell_type": "code",
   "execution_count": 9,
   "metadata": {},
   "outputs": [],
   "source": [
    "like['edisp'] = True\n",
    "like.run()"
   ]
  },
  {
   "cell_type": "code",
   "execution_count": 10,
   "metadata": {},
   "outputs": [
    {
     "name": "stdout",
     "output_type": "stream",
     "text": [
      "=== GOptimizerLM ===\n",
      " Optimized function value ..: 98168.820\n",
      " Absolute precision ........: 0.005\n",
      " Acceptable value decrease .: 2\n",
      " Optimization status .......: converged\n",
      " Number of parameters ......: 86\n",
      " Number of free parameters .: 44\n",
      " Number of iterations ......: 13\n",
      " Lambda ....................: 1\n",
      "=== GModelSky ===\n",
      " Name ......................: Crab\n",
      " Instruments ...............: all\n",
      " Instrument scale factors ..: unity\n",
      " Observation identifiers ...: all\n",
      " Model type ................: PointSource\n",
      " Model components ..........: \"PointSource\" * \"PowerLaw\" * \"Constant\"\n",
      " Number of parameters ......: 6\n",
      " Number of spatial par's ...: 2\n",
      "  RA .......................: 83.6217013908939 +/- 0.00262422672788241 deg (free,scale=1)\n",
      "  DEC ......................: 22.0244582493434 +/- 0.00238660922515514 deg (free,scale=1)\n",
      " Number of spectral par's ..: 3\n",
      "  Prefactor ................: 4.56725958702027e-17 +/- 2.41200684919881e-18 [0,infty[ ph/cm2/s/MeV (free,scale=5.7e-18,gradient)\n",
      "  Index ....................: -2.66140151299329 +/- 0.0671763204868478 [10,-10]  (free,scale=-2.48,gradient)\n",
      "  PivotEnergy ..............: 999999.999999999 MeV (fixed,scale=300000,gradient)\n",
      " Number of temporal par's ..: 1\n",
      "  Normalization ............: 1 (relative value) (fixed,scale=1,gradient)\n"
     ]
    }
   ],
   "source": [
    "print(like.opt())\n",
    "print(like.obs().models()['Crab'])"
   ]
  },
  {
   "cell_type": "markdown",
   "metadata": {},
   "source": [
    "You can verify that the results are broadly consistents with those obtained ignoring the energy dispersion.\n",
    "\n",
    "## Inspecting the fit residuals\n",
    "\n",
    "Following a model fit, you should always inspect the fit residuals. First let’s inspect the spectral residuals. You can do this using the csresspec script."
   ]
  },
  {
   "cell_type": "code",
   "execution_count": 11,
   "metadata": {},
   "outputs": [
    {
     "data": {
      "image/png": "[encoded data removed]",
      "text/plain": [
       "<matplotlib.figure.Figure at 0x11ab0eef0>"
      ]
     },
     "metadata": {
      "needs_background": "light"
     },
     "output_type": "display_data"
    }
   ],
   "source": [
    "residuals = 'residuals.fits'\n",
    "resspec   = cscripts.csresspec(like.obs())\n",
    "resspec['stack']       = True\n",
    "resspec['components']  = True\n",
    "resspec['ebinalg']     = 'LOG'\n",
    "resspec['emin']        = 0.66\n",
    "resspec['emax']        = 100.\n",
    "resspec['enumbins']    = 20\n",
    "resspec['proj']        = 'CAR'\n",
    "resspec['coordsys']    = 'CEL'\n",
    "resspec['xref']        = 83.63\n",
    "resspec['yref']        = 22.01\n",
    "resspec['binsz']       = 0.02\n",
    "resspec['nxpix']       = 200\n",
    "resspec['nypix']       = 200\n",
    "resspec['algorithm']   = 'SIGNIFICANCE'\n",
    "resspec['outfile']     = residuals\n",
    "resspec.execute()\n",
    "from show_residuals import plot_residuals\n",
    "plot_residuals(residuals,'',0)"
   ]
  },
  {
   "cell_type": "markdown",
   "metadata": {},
   "source": [
    "The spectral fit looks satisfactory. Finally you should also inspect the spatial residuals. You do this using the csresmap script."
   ]
  },
  {
   "cell_type": "code",
   "execution_count": 12,
   "metadata": {},
   "outputs": [],
   "source": [
    "resmap = cscripts.csresmap(like.obs())\n",
    "resmap['emin']      = 0.66\n",
    "resmap['emax']      = 100.0\n",
    "resmap['proj']      = 'CAR'\n",
    "resmap['coordsys']  = 'CEL'\n",
    "resmap['xref']      = 83.63\n",
    "resmap['yref']      = 22.01\n",
    "resmap['binsz']     = 0.02\n",
    "resmap['nxpix']     = 200\n",
    "resmap['nypix']     = 200\n",
    "resmap['algorithm'] = 'SUBDIV'\n",
    "resmap.run()"
   ]
  },
  {
   "cell_type": "markdown",
   "metadata": {},
   "source": [
    "We will inspect the residual map with a slight smoothing to suppress statistical fluctuations."
   ]
  },
  {
   "cell_type": "code",
   "execution_count": 13,
   "metadata": {
    "code_folding": []
   },
   "outputs": [
    {
     "data": {
      "image/png": "[encoded data removed]",
      "text/plain": [
       "<matplotlib.figure.Figure at 0x11ba7b470>"
      ]
     },
     "metadata": {
      "needs_background": "light"
     },
     "output_type": "display_data"
    }
   ],
   "source": [
    "resmap._resmap.smooth('GAUSSIAN',0.1)\n",
    "ax  = plt.subplot()\n",
    "plt.imshow(resmap._resmap.array(),origin='lower',\n",
    "            cmap='bwr',vmin=-1,vmax=1,\n",
    "            extent=[83.63+0.02*200,83.63-0.02*200,22.01-0.02*200,22.01+0.02*200])\n",
    "            # Boundaries of the coord grid\n",
    "ax.set_xlabel('R.A. (deg)')\n",
    "ax.set_ylabel('Dec (deg)')\n",
    "cbar = plt.colorbar()\n",
    "cbar.set_label('Residuals/Total Counts')"
   ]
  },
  {
   "cell_type": "markdown",
   "metadata": {},
   "source": [
    "The residuals look flat across the field analysed."
   ]
  },
  {
   "cell_type": "code",
   "execution_count": null,
   "metadata": {},
   "outputs": [],
   "source": []
  }
 ],
 "metadata": {
  "kernelspec": {
   "display_name": "Python 3",
   "language": "python",
   "name": "python3"
  },
  "language_info": {
   "codemirror_mode": {
    "name": "ipython",
    "version": 3
   },
   "file_extension": ".py",
   "mimetype": "text/x-python",
   "name": "python",
   "nbconvert_exporter": "python",
   "pygments_lexer": "ipython3",
   "version": "3.6.8"
  }
 },
 "nbformat": 4,
 "nbformat_minor": 2
}
