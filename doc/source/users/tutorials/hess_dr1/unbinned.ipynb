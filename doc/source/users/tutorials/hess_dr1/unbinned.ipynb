{
 "cells": [
  {
   "cell_type": "markdown",
   "metadata": {},
   "source": [
    "# Performing an unbinned analysis"
   ]
  },
  {
   "cell_type": "raw",
   "metadata": {},
   "source": [
    "<div align=\"right\"><a href=\"../../../_downloads/unbinned.ipynb\" download=\"unbinned.ipynb\"><img src=\"../../../_static/download-notebook.jpg\" alt=\"Download Notebook\" height=\"40\"></a></div>"
   ]
  },
  {
   "cell_type": "markdown",
   "metadata": {},
   "source": [
    "**In this tutorial you will learn to fit a parametric model to the event data (unbinned fit) and how to inspect the fit residuals**\n",
    "\n",
    "Now you are ready to fit the models for the source and the background to the data.\n",
    "\n",
    "We start by importing gammalib, ctools, and cscripts."
   ]
  },
  {
   "cell_type": "code",
   "execution_count": 1,
   "metadata": {},
   "outputs": [],
   "source": [
    "import gammalib\n",
    "import ctools\n",
    "import cscripts"
   ]
  },
  {
   "cell_type": "markdown",
   "metadata": {},
   "source": [
    "We will also use matplotlib to display the results."
   ]
  },
  {
   "cell_type": "code",
   "execution_count": 2,
   "metadata": {},
   "outputs": [],
   "source": [
    "%matplotlib inline\n",
    "import matplotlib.pyplot as plt"
   ]
  },
  {
   "cell_type": "markdown",
   "metadata": {},
   "source": [
    "Finally we add to our path the directory containing the example plotting scripts provided with the ctools installation."
   ]
  },
  {
   "cell_type": "code",
   "execution_count": 3,
   "metadata": {},
   "outputs": [],
   "source": [
    "import sys\n",
    "import os\n",
    "sys.path.append(os.environ['CTOOLS']+'/share/examples/python/')"
   ]
  },
  {
   "cell_type": "markdown",
   "metadata": {},
   "source": [
    "## Preparing the model\n",
    "\n",
    "First, we will merge the two models we derived in the previous tutorials for source and background."
   ]
  },
  {
   "cell_type": "code",
   "execution_count": 4,
   "metadata": {},
   "outputs": [
    {
     "name": "stdout",
     "output_type": "stream",
     "text": [
      "=== GModels ===\n",
      " Number of models ..........: 5\n",
      " Number of parameters ......: 86\n",
      "=== GModelSky ===\n",
      " Name ......................: Src001\n",
      " Instruments ...............: all\n",
      " Instrument scale factors ..: unity\n",
      " Observation identifiers ...: all\n",
      " Model type ................: PointSource\n",
      " Model components ..........: \"PointSource\" * \"PowerLaw\" * \"Constant\"\n",
      " Number of parameters ......: 6\n",
      " Number of spatial par's ...: 2\n",
      "  RA .......................: 83.6192131308071 +/- 0 deg (free,scale=1)\n",
      "  DEC ......................: 22.0199996472185 +/- 0 deg (free,scale=1)\n",
      " Number of spectral par's ..: 3\n",
      "  Prefactor ................: 5.7e-18 +/- 0 [0,infty[ ph/cm2/s/MeV (free,scale=5.7e-18,gradient)\n",
      "  Index ....................: -2.48 +/- 0 [10,-10]  (free,scale=-2.48,gradient)\n",
      "  PivotEnergy ..............: 300000 MeV (fixed,scale=300000,gradient)\n",
      " Number of temporal par's ..: 1\n",
      "  Normalization ............: 1 (relative value) (fixed,scale=1,gradient)\n",
      "=== GCTAModelBackground ===\n",
      " Name ......................: Background_023523\n",
      " Instruments ...............: HESS\n",
      " Instrument scale factors ..: unity\n",
      " Observation identifiers ...: 023523\n",
      " Model type ................: CTABackground\n",
      " Model components ..........: \"Multiplicative\" * \"NodeFunction\" * \"Constant\"\n",
      " Number of parameters ......: 20\n",
      " Number of spatial par's ...: 3\n",
      "  1:Sigma ..................: 3.19679080604377 +/- 0.148784168613255 [7.71728e-08,infty[ deg2 (free,scale=1,gradient)\n",
      "  2:Grad_DETX ..............: 0.0882131417987659 +/- 0.0223563994341903 deg^-1 (free,scale=1,gradient)\n",
      "  2:Grad_DETY ..............: -0.000692474001567828 +/- 0.0227254580377688 deg^-1 (free,scale=1,gradient)\n",
      " Number of spectral par's ..: 16\n",
      "  Energy0 ..................: 700000 [7e-05,infty[ MeV (fixed,scale=700000)\n",
      "  Intensity0 ...............: 0.00140372802004064 +/- 0.000174205101284546 [8.87696769787525e-14,infty[ ph/cm2/s/MeV (free,scale=0.000887696769787525,gradient)\n",
      "  Energy1 ..................: 1197413.67463685 [0.000119741367463685,infty[ MeV (fixed,scale=1197413.67463685)\n",
      "  Intensity1 ...............: 0.000257864797984792 +/- 1.41022572545599e-05 [2.91749105398033e-14,infty[ ph/cm2/s/MeV (free,scale=0.000291749105398033,gradient)\n",
      "  Energy2 ..................: 2048285.01172474 [0.000204828501172474,infty[ MeV (fixed,scale=2048285.01172474)\n",
      "  Intensity2 ...............: 9.08473780602549e-05 +/- 5.49730339459174e-06 [9.58858288072014e-15,infty[ ph/cm2/s/MeV (free,scale=9.58858288072014e-05,gradient)\n",
      "  Energy3 ..................: 3503777.83227556 [0.000350377783227556,infty[ MeV (fixed,scale=3503777.83227556)\n",
      "  Intensity3 ...............: 3.21049333853292e-05 +/- 2.44980628805133e-06 [3.15136944584645e-15,infty[ ph/cm2/s/MeV (free,scale=3.15136944584645e-05,gradient)\n",
      "  Energy4 ..................: 5993530.69893743 [0.000599353069893743,infty[ MeV (fixed,scale=5993530.69893743)\n",
      "  Intensity4 ...............: 1.13774407454204e-05 +/- 1.12484264580111e-06 [1.03572441389469e-15,infty[ ph/cm2/s/MeV (free,scale=1.03572441389469e-05,gradient)\n",
      "  Energy5 ..................: 10252479.454662 [0.0010252479454662,infty[ MeV (fixed,scale=10252479.454662)\n",
      "  Intensity5 ...............: 4.50082783670747e-06 +/- 5.75883736185608e-07 [3.40399651634425e-16,infty[ ph/cm2/s/MeV (free,scale=3.40399651634425e-06,gradient)\n",
      "  Energy6 ..................: 17537798.7113509 [0.00175377987113509,infty[ MeV (fixed,scale=17537798.7113509)\n",
      "  Intensity6 ...............: 8.01232298563249e-07 +/- 1.64363032163644e-07 [1.11875245266372e-16,infty[ ph/cm2/s/MeV (free,scale=1.11875245266372e-06,gradient)\n",
      "  Energy7 ..................: 30000000 [0.003,infty[ MeV (fixed,scale=30000000)\n",
      "  Intensity7 ...............: 2.63561241594543e-07 +/- 9.61055896032478e-08 [3.67687523865408e-17,infty[ ph/cm2/s/MeV (free,scale=3.67687523865408e-07,gradient)\n",
      " Number of temporal par's ..: 1\n",
      "  Normalization ............: 1 (relative value) (fixed,scale=1,gradient)\n",
      "=== GCTAModelBackground ===\n",
      " Name ......................: Background_023526\n",
      " Instruments ...............: HESS\n",
      " Instrument scale factors ..: unity\n",
      " Observation identifiers ...: 023526\n",
      " Model type ................: CTABackground\n",
      " Model components ..........: \"Multiplicative\" * \"NodeFunction\" * \"Constant\"\n",
      " Number of parameters ......: 20\n",
      " Number of spatial par's ...: 3\n",
      "  1:Sigma ..................: 3.30082209234815 +/- 0.156912961568416 [7.71728e-08,infty[ deg2 (free,scale=1,gradient)\n",
      "  2:Grad_DETX ..............: 0.0153115021206004 +/- 0.0215680817043072 deg^-1 (free,scale=1,gradient)\n",
      "  2:Grad_DETY ..............: -0.00906905504246978 +/- 0.0213184758960865 deg^-1 (free,scale=1,gradient)\n",
      " Number of spectral par's ..: 16\n",
      "  Energy0 ..................: 700000 [7e-05,infty[ MeV (fixed,scale=700000)\n",
      "  Intensity0 ...............: 0.00107656542145505 +/- 5.71767004891641e-05 [8.36211165467046e-14,infty[ ph/cm2/s/MeV (free,scale=0.000836211165467046,gradient)\n",
      "  Energy1 ..................: 1197413.67463685 [0.000119741367463685,infty[ MeV (fixed,scale=1197413.67463685)\n",
      "  Intensity1 ...............: 0.00020191222774409 +/- 1.06852037575173e-05 [2.63699934530969e-14,infty[ ph/cm2/s/MeV (free,scale=0.000263699934530969,gradient)\n",
      "  Energy2 ..................: 2048285.01172474 [0.000204828501172474,infty[ MeV (fixed,scale=2048285.01172474)\n",
      "  Intensity2 ...............: 9.16681754173992e-05 +/- 5.73982387509952e-06 [8.31580088180217e-15,infty[ ph/cm2/s/MeV (free,scale=8.31580088180217e-05,gradient)\n",
      "  Energy3 ..................: 3503777.83227556 [0.000350377783227556,infty[ MeV (fixed,scale=3503777.83227556)\n",
      "  Intensity3 ...............: 2.4697825754506e-05 +/- 2.13035134581624e-06 [2.62239520190935e-15,infty[ ph/cm2/s/MeV (free,scale=2.62239520190935e-05,gradient)\n",
      "  Energy4 ..................: 5993530.69893743 [0.000599353069893743,infty[ MeV (fixed,scale=5993530.69893743)\n",
      "  Intensity4 ...............: 9.65793108295259e-06 +/- 1.0580848901101e-06 [8.26974658573933e-16,infty[ ph/cm2/s/MeV (free,scale=8.26974658573933e-06,gradient)\n",
      "  Energy5 ..................: 10252479.454662 [0.0010252479454662,infty[ MeV (fixed,scale=10252479.454662)\n",
      "  Intensity5 ...............: 3.34440698323729e-06 +/- 4.70710485211692e-07 [2.60787193869763e-16,infty[ ph/cm2/s/MeV (free,scale=2.60787193869763e-06,gradient)\n",
      "  Energy6 ..................: 17537798.7113509 [0.00175377987113509,infty[ MeV (fixed,scale=17537798.7113509)\n",
      "  Intensity6 ...............: 5.56094646218329e-07 +/- 1.31992669655457e-07 [8.22394734607041e-17,infty[ ph/cm2/s/MeV (free,scale=8.22394734607041e-07,gradient)\n",
      "  Energy7 ..................: 30000000 [0.003,infty[ MeV (fixed,scale=30000000)\n",
      "  Intensity7 ...............: 2.63249520342286e-07 +/- 9.70349092695409e-08 [2.59342910774655e-17,infty[ ph/cm2/s/MeV (free,scale=2.59342910774655e-07,gradient)\n",
      " Number of temporal par's ..: 1\n",
      "  Normalization ............: 1 (relative value) (fixed,scale=1,gradient)\n",
      "=== GCTAModelBackground ===\n",
      " Name ......................: Background_023559\n",
      " Instruments ...............: HESS\n",
      " Instrument scale factors ..: unity\n",
      " Observation identifiers ...: 023559\n",
      " Model type ................: CTABackground\n",
      " Model components ..........: \"Multiplicative\" * \"NodeFunction\" * \"Constant\"\n",
      " Number of parameters ......: 20\n",
      " Number of spatial par's ...: 3\n",
      "  1:Sigma ..................: 4.32704664084324 +/- 0.368684845846136 [7.71728e-08,infty[ deg2 (free,scale=1,gradient)\n",
      "  2:Grad_DETX ..............: 0.0187722831939023 +/- 0.0217106880517745 deg^-1 (free,scale=1,gradient)\n",
      "  2:Grad_DETY ..............: -0.126627824474372 +/- 0.0204738099128812 deg^-1 (free,scale=1,gradient)\n",
      " Number of spectral par's ..: 16\n",
      "  Energy0 ..................: 700000 [7e-05,infty[ MeV (fixed,scale=700000)\n",
      "  Intensity0 ...............: 0.000857178811233776 +/- 4.58638205127566e-05 [6.96233895968756e-14,infty[ ph/cm2/s/MeV (free,scale=0.000696233895968756,gradient)\n",
      "  Energy1 ..................: 1197413.67463685 [0.000119741367463685,infty[ MeV (fixed,scale=1197413.67463685)\n",
      "  Intensity1 ...............: 0.000184768403022439 +/- 1.008650496985e-05 [2.20204639078551e-14,infty[ ph/cm2/s/MeV (free,scale=0.000220204639078551,gradient)\n",
      "  Energy2 ..................: 2048285.01172474 [0.000204828501172474,infty[ MeV (fixed,scale=2048285.01172474)\n",
      "  Intensity2 ...............: 6.49318372405173e-05 +/- 4.46952677363829e-06 [6.96462544447719e-15,infty[ ph/cm2/s/MeV (free,scale=6.96462544447719e-05,gradient)\n",
      "  Energy3 ..................: 3503777.83227556 [0.000350377783227556,infty[ MeV (fixed,scale=3503777.83227556)\n",
      "  Intensity3 ...............: 2.41177375305046e-05 +/- 2.06051735828825e-06 [2.20276955948036e-15,infty[ ph/cm2/s/MeV (free,scale=2.20276955948036e-05,gradient)\n",
      "  Energy4 ..................: 5993530.69893743 [0.000599353069893743,infty[ MeV (fixed,scale=5993530.69893743)\n",
      "  Intensity4 ...............: 6.388150904145e-06 +/- 7.36345188624795e-07 [6.96691268016576e-16,infty[ ph/cm2/s/MeV (free,scale=6.96691268016576e-06,gradient)\n",
      "  Energy5 ..................: 10252479.454662 [0.0010252479454662,infty[ MeV (fixed,scale=10252479.454662)\n",
      "  Intensity5 ...............: 3.11624385438516e-06 +/- 4.38829996211514e-07 [2.20349296566929e-16,infty[ ph/cm2/s/MeV (free,scale=2.20349296566929e-06,gradient)\n",
      "  Energy6 ..................: 17537798.7113509 [0.00175377987113509,infty[ MeV (fixed,scale=17537798.7113509)\n",
      "  Intensity6 ...............: 7.66998023710854e-07 +/- 1.70693323247103e-07 [6.9692006669998e-17,infty[ ph/cm2/s/MeV (free,scale=6.9692006669998e-07,gradient)\n",
      "  Energy7 ..................: 30000000 [0.003,infty[ MeV (fixed,scale=30000000)\n",
      "  Intensity7 ...............: 1.35218346687107e-07 +/- 6.64294080047906e-08 [2.20421660943029e-17,infty[ ph/cm2/s/MeV (free,scale=2.20421660943029e-07,gradient)\n",
      " Number of temporal par's ..: 1\n",
      "  Normalization ............: 1 (relative value) (fixed,scale=1,gradient)\n",
      "=== GCTAModelBackground ===\n",
      " Name ......................: Background_023592\n",
      " Instruments ...............: HESS\n",
      " Instrument scale factors ..: unity\n",
      " Observation identifiers ...: 023592\n",
      " Model type ................: CTABackground\n",
      " Model components ..........: \"Multiplicative\" * \"NodeFunction\" * \"Constant\"\n",
      " Number of parameters ......: 20\n",
      " Number of spatial par's ...: 3\n",
      "  1:Sigma ..................: 3.64795431824073 +/- 0.238749562945919 [7.71728e-08,infty[ deg2 (free,scale=1,gradient)\n",
      "  2:Grad_DETX ..............: 0.0290086296998991 +/- 0.0231654281500121 deg^-1 (free,scale=1,gradient)\n",
      "  2:Grad_DETY ..............: 0.165462915333049 +/- 0.021293268413236 deg^-1 (free,scale=1,gradient)\n",
      " Number of spectral par's ..: 16\n",
      "  Energy0 ..................: 700000 [7e-05,infty[ MeV (fixed,scale=700000)\n",
      "  Intensity0 ...............: 0.00138280405680456 +/- 0.000179785336701836 [8.127607193775e-14,infty[ ph/cm2/s/MeV (free,scale=0.0008127607193775,gradient)\n",
      "  Energy1 ..................: 1197413.67463685 [0.000119741367463685,infty[ MeV (fixed,scale=1197413.67463685)\n",
      "  Intensity1 ...............: 0.000220636852715846 +/- 1.29050674731524e-05 [2.64069813465664e-14,infty[ ph/cm2/s/MeV (free,scale=0.000264069813465664,gradient)\n",
      "  Energy2 ..................: 2048285.01172474 [0.000204828501172474,infty[ MeV (fixed,scale=2048285.01172474)\n",
      "  Intensity2 ...............: 8.63433571877371e-05 +/- 5.40186394640027e-06 [8.57975351431837e-15,infty[ ph/cm2/s/MeV (free,scale=8.57975351431837e-05,gradient)\n",
      "  Energy3 ..................: 3503777.83227556 [0.000350377783227556,infty[ MeV (fixed,scale=3503777.83227556)\n",
      "  Intensity3 ...............: 3.02018682595367e-05 +/- 2.37672480959384e-06 [2.78760261918503e-15,infty[ ph/cm2/s/MeV (free,scale=2.78760261918503e-05,gradient)\n",
      "  Energy4 ..................: 5993530.69893743 [0.000599353069893743,infty[ MeV (fixed,scale=5993530.69893743)\n",
      "  Intensity4 ...............: 9.44460701196062e-06 +/- 9.82873290475423e-07 [9.05705315370543e-16,infty[ ph/cm2/s/MeV (free,scale=9.05705315370543e-06,gradient)\n",
      "  Energy5 ..................: 10252479.454662 [0.0010252479454662,infty[ MeV (fixed,scale=10252479.454662)\n",
      "  Intensity5 ...............: 3.08894388117525e-06 +/- 4.2969727730712e-07 [2.94267953633316e-16,infty[ ph/cm2/s/MeV (free,scale=2.94267953633316e-06,gradient)\n",
      "  Energy6 ..................: 17537798.7113509 [0.00175377987113509,infty[ MeV (fixed,scale=17537798.7113509)\n",
      "  Intensity6 ...............: 8.17521009765721e-07 +/- 1.65391550069682e-07 [9.5609054143745e-17,infty[ ph/cm2/s/MeV (free,scale=9.5609054143745e-07,gradient)\n",
      "  Energy7 ..................: 30000000 [0.003,infty[ MeV (fixed,scale=30000000)\n",
      "  Intensity7 ...............: 2.92681614932954e-07 +/- 1.0444872894399e-07 [3.10638352610158e-17,infty[ ph/cm2/s/MeV (free,scale=3.10638352610158e-07,gradient)\n",
      " Number of temporal par's ..: 1\n",
      "  Normalization ............: 1 (relative value) (fixed,scale=1,gradient)\n"
     ]
    }
   ],
   "source": [
    "srcmodel = 'crab.xml'\n",
    "bkgmodel = 'bkgmodel.xml'\n",
    "\n",
    "models = gammalib.GModels()\n",
    "for inmodels in [srcmodel,bkgmodel]:\n",
    "    for model in gammalib.GModels(inmodels):\n",
    "        models.append(model)\n",
    "        \n",
    "print(models)"
   ]
  },
  {
   "cell_type": "markdown",
   "metadata": {},
   "source": [
    "Note how the source found by cssrcdetect was named *Src001*. We will call it *Crab* instead. Also, spectral parameters are set to default values, but you should make sure they are appropriate so that the model fit runs seamlessly. In this case it is best to set the value of the pivot energy for the Crab within our energy range (> 0.66 TeV). We will set it to 1 TeV."
   ]
  },
  {
   "cell_type": "code",
   "execution_count": 5,
   "metadata": {},
   "outputs": [],
   "source": [
    "models['Src001'].name('Crab')\n",
    "models['Crab']['PivotEnergy'].value(1.e6)"
   ]
  },
  {
   "cell_type": "markdown",
   "metadata": {},
   "source": [
    "We will save this model to disk for later use."
   ]
  },
  {
   "cell_type": "code",
   "execution_count": 6,
   "metadata": {},
   "outputs": [],
   "source": [
    "modelfile = 'crab_models.xml'\n",
    "models.save(modelfile)"
   ]
  },
  {
   "cell_type": "markdown",
   "metadata": {},
   "source": [
    "## Fitting the model to the data\n",
    "\n",
    "The model fit is performed by ctlike. We will use the previously selected events."
   ]
  },
  {
   "cell_type": "code",
   "execution_count": 7,
   "metadata": {},
   "outputs": [],
   "source": [
    "obsfile = \"obs_crab_selected.xml\"\n",
    "\n",
    "like = ctools.ctlike()\n",
    "like['inobs'] = obsfile\n",
    "like['inmodel'] = modelfile\n",
    "\n",
    "like.run()"
   ]
  },
  {
   "cell_type": "markdown",
   "metadata": {},
   "source": [
    "We can now look at the results from the optimisation and the fitted model."
   ]
  },
  {
   "cell_type": "code",
   "execution_count": 8,
   "metadata": {},
   "outputs": [
    {
     "name": "stdout",
     "output_type": "stream",
     "text": [
      "=== GOptimizerLM ===\n",
      " Optimized function value ..: 98200.140\n",
      " Absolute precision ........: 0.005\n",
      " Acceptable value decrease .: 2\n",
      " Optimization status .......: converged\n",
      " Number of parameters ......: 86\n",
      " Number of free parameters .: 48\n",
      " Number of iterations ......: 28\n",
      " Lambda ....................: 0.1\n",
      "=== GModelSky ===\n",
      " Name ......................: Crab\n",
      " Instruments ...............: all\n",
      " Instrument scale factors ..: unity\n",
      " Observation identifiers ...: all\n",
      " Model type ................: PointSource\n",
      " Model components ..........: \"PointSource\" * \"PowerLaw\" * \"Constant\"\n",
      " Number of parameters ......: 6\n",
      " Number of spatial par's ...: 2\n",
      "  RA .......................: 83.6230529061662 +/- 0.00239926887672786 deg (free,scale=1)\n",
      "  DEC ......................: 22.0247811570052 +/- 0.00218925167816472 deg (free,scale=1)\n",
      " Number of spectral par's ..: 3\n",
      "  Prefactor ................: 4.8925181519509e-17 +/- 2.67898412185662e-18 [0,infty[ ph/cm2/s/MeV (free,scale=5.7e-18,gradient)\n",
      "  Index ....................: -2.70266618180016 +/- 0.0657789826195137 [10,-10]  (free,scale=-2.48,gradient)\n",
      "  PivotEnergy ..............: 999999.999999999 MeV (fixed,scale=300000,gradient)\n",
      " Number of temporal par's ..: 1\n",
      "  Normalization ............: 1 (relative value) (fixed,scale=1,gradient)\n"
     ]
    }
   ],
   "source": [
    "print(like.opt())\n",
    "print(like.obs().models()['Crab'])"
   ]
  },
  {
   "cell_type": "markdown",
   "metadata": {},
   "source": [
    "The statistical 1-sigma positional uncertainty corresponds to 0.12 arcmin. Systematic uncertainties are not computed. The fitted position can be compared to the values of 83.629±0.005 degrees in Right Ascension and 22.012±0.001 degrees in Declination reported in [Holler et al. (2017)](https://arxiv.org/pdf/1707.04196.pdf).\n",
    "\n",
    "According to [SIMBAD](http://cdsportal.u-strasbg.fr/?target=Crab%20nebula), the Crab nebula is situated at a Right Ascension of 83.633 degrees and a Declination of 22.015 degrees, which is 0.013 degrees (0.82 arcmin) away from the fitted position.\n",
    "\n",
    "The intensity at 1 TeV of the Crab was fitted to (4.89±0.27)×10−11 photons cm−2 s−1 TeV−1 the spectral index of the power law is −2.70±0.07. This can be compared to the values of (3.45±0.05)×10−11 photons cm−2 s−1 TeV−1 and −2.63±0.01 reported in [Aharonian et al. (2006), A&A, 457, 899](https://www.aanda.org/articles/aa/abs/2006/39/aa5351-06/aa5351-06.html) (note that the datasets, calibrations etc. used in our analysis are not the same as in that paper).\n",
    "\n",
    "In the ctlike run above the energy dispersion, which relates the true photon energies to the energies of the reconstructed events, was not taken into account. By default **energy dispersion usage is disabled** since it involves an extra dimension in the data analysis which slows down the computations. We can run accounting for energy dispersion to compare the results."
   ]
  },
  {
   "cell_type": "code",
   "execution_count": 9,
   "metadata": {},
   "outputs": [],
   "source": [
    "like['edisp'] = True\n",
    "\n",
    "like.run()"
   ]
  },
  {
   "cell_type": "code",
   "execution_count": 10,
   "metadata": {},
   "outputs": [
    {
     "name": "stdout",
     "output_type": "stream",
     "text": [
      "=== GOptimizerLM ===\n",
      " Optimized function value ..: 98201.032\n",
      " Absolute precision ........: 0.005\n",
      " Acceptable value decrease .: 2\n",
      " Optimization status .......: converged\n",
      " Number of parameters ......: 86\n",
      " Number of free parameters .: 48\n",
      " Number of iterations ......: 3\n",
      " Lambda ....................: 1e-06\n",
      "=== GModelSky ===\n",
      " Name ......................: Crab\n",
      " Instruments ...............: all\n",
      " Instrument scale factors ..: unity\n",
      " Observation identifiers ...: all\n",
      " Model type ................: PointSource\n",
      " Model components ..........: \"PointSource\" * \"PowerLaw\" * \"Constant\"\n",
      " Number of parameters ......: 6\n",
      " Number of spatial par's ...: 2\n",
      "  RA .......................: 83.6217041522328 +/- 0.00261598773627659 deg (free,scale=1)\n",
      "  DEC ......................: 22.0245022862116 +/- 0.00239693484099142 deg (free,scale=1)\n",
      " Number of spectral par's ..: 3\n",
      "  Prefactor ................: 4.64521936275237e-17 +/- 2.43165266024221e-18 [0,infty[ ph/cm2/s/MeV (free,scale=5.7e-18,gradient)\n",
      "  Index ....................: -2.68313444140762 +/- 0.0679406521827419 [10,-10]  (free,scale=-2.48,gradient)\n",
      "  PivotEnergy ..............: 999999.999999999 MeV (fixed,scale=300000,gradient)\n",
      " Number of temporal par's ..: 1\n",
      "  Normalization ............: 1 (relative value) (fixed,scale=1,gradient)\n"
     ]
    }
   ],
   "source": [
    "print(like.opt())\n",
    "print(like.obs().models()['Crab'])"
   ]
  },
  {
   "cell_type": "markdown",
   "metadata": {},
   "source": [
    "You can verify that the results are broadly consistents with those obtained ignoring the energy dispersion.\n",
    "\n",
    "## Inspecting the fit residuals\n",
    "\n",
    "Following a model fit, you should always inspect the fit residuals. First let’s inspect the spectral residuals. You can do this using the csresspec script."
   ]
  },
  {
   "cell_type": "code",
   "execution_count": 11,
   "metadata": {},
   "outputs": [
    {
     "data": {
      "image/png": "[encoded data removed]",
      "text/plain": [
       "<matplotlib.figure.Figure at 0x1105ee240>"
      ]
     },
     "metadata": {},
     "output_type": "display_data"
    }
   ],
   "source": [
    "residuals = 'residuals.fits'\n",
    "\n",
    "resspec = cscripts.csresspec(like.obs())\n",
    "resspec['stack']       = True\n",
    "resspec['components']  = True\n",
    "resspec['ebinalg']     = 'LOG'\n",
    "resspec['emin']        = 0.66\n",
    "resspec['emax']        = 100.\n",
    "resspec['enumbins']    = 20\n",
    "resspec['proj']        = 'CAR'\n",
    "resspec['coordsys']    = 'CEL'\n",
    "resspec['xref']        = 83.63\n",
    "resspec['yref']        = 22.01\n",
    "resspec['binsz']       = 0.02\n",
    "resspec['nxpix']       = 200\n",
    "resspec['nypix']       = 200\n",
    "resspec['algorithm']   = 'SIGNIFICANCE'\n",
    "resspec['outfile']     = residuals\n",
    "\n",
    "resspec.execute()\n",
    "\n",
    "from show_residuals import plot_residuals\n",
    "plot_residuals(residuals,'',0)"
   ]
  },
  {
   "cell_type": "markdown",
   "metadata": {},
   "source": [
    "The spectral fit looks satisfactory. Finally you should also inspect the spatial residuals. You do this using the csresmap script."
   ]
  },
  {
   "cell_type": "code",
   "execution_count": 12,
   "metadata": {},
   "outputs": [],
   "source": [
    "resmap = cscripts.csresmap(like.obs())\n",
    "resmap['emin']        = 0.66\n",
    "resmap['emax']        = 100.\n",
    "resmap['proj']        = 'CAR'\n",
    "resmap['coordsys']    = 'CEL'\n",
    "resmap['xref']        = 83.63\n",
    "resmap['yref']        = 22.01\n",
    "resmap['binsz']       = 0.02\n",
    "resmap['nxpix']       = 200\n",
    "resmap['nypix']       = 200\n",
    "resmap['algorithm']   = 'SUBDIV'\n",
    "\n",
    "resmap.run()"
   ]
  },
  {
   "cell_type": "markdown",
   "metadata": {},
   "source": [
    "We will inspect the residual map with a slight smoothing to suppress statistical fluctuations."
   ]
  },
  {
   "cell_type": "code",
   "execution_count": 13,
   "metadata": {
    "code_folding": []
   },
   "outputs": [
    {
     "data": {
      "image/png": "[encoded data removed]",
      "text/plain": [
       "<matplotlib.figure.Figure at 0x118483f60>"
      ]
     },
     "metadata": {},
     "output_type": "display_data"
    }
   ],
   "source": [
    "resmap._resmap.smooth('GAUSSIAN',0.1)\n",
    "\n",
    "ax  = plt.subplot()\n",
    "plt.imshow(resmap._resmap.array(),origin='lower',\n",
    "            cmap='bwr',vmin=-1,vmax=1,\n",
    "            extent=[83.63+0.02*200,83.63-0.02*200,22.01-0.02*200,22.01+0.02*200])\n",
    "            # Boundaries of the coord grid\n",
    "ax.set_xlabel('R.A. (deg)')\n",
    "ax.set_ylabel('Dec (deg)')\n",
    "cbar = plt.colorbar()\n",
    "cbar.set_label('Residuals/Total Counts')"
   ]
  },
  {
   "cell_type": "markdown",
   "metadata": {},
   "source": [
    "The residuals look flat across the field analysed."
   ]
  }
 ],
 "metadata": {
  "kernelspec": {
   "display_name": "Python 3",
   "language": "python",
   "name": "python3"
  },
  "language_info": {
   "codemirror_mode": {
    "name": "ipython",
    "version": 3
   },
   "file_extension": ".py",
   "mimetype": "text/x-python",
   "name": "python",
   "nbconvert_exporter": "python",
   "pygments_lexer": "ipython3",
   "version": "3.5.4"
  }
 },
 "nbformat": 4,
 "nbformat_minor": 2
}
