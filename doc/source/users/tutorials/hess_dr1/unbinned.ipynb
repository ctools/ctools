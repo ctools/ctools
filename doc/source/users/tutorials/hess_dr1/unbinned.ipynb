{
 "cells": [
  {
   "cell_type": "markdown",
   "metadata": {},
   "source": [
    "# Performing an unbinned analysis"
   ]
  },
  {
   "cell_type": "raw",
   "metadata": {},
   "source": [
    "<div align=\"right\"><a href=\"../../../_downloads/unbinned.ipynb\" download=\"unbinned.ipynb\"><img src=\"../../../_static/download-notebook.jpg\" alt=\"Download Notebook\" height=\"40\"></a></div>"
   ]
  },
  {
   "cell_type": "markdown",
   "metadata": {},
   "source": [
    "**In this tutorial you will learn to fit a parametric model to the event data (unbinned fit) and how to inspect the fit residuals**\n",
    "\n",
    "Now you are ready to fit the models for the source and the background to the data.\n",
    "\n",
    "We start by importing gammalib, ctools, and cscripts."
   ]
  },
  {
   "cell_type": "code",
   "execution_count": 1,
   "metadata": {},
   "outputs": [],
   "source": [
    "import gammalib\n",
    "import ctools\n",
    "import cscripts"
   ]
  },
  {
   "cell_type": "markdown",
   "metadata": {},
   "source": [
    "We will also use matplotlib to display the results."
   ]
  },
  {
   "cell_type": "code",
   "execution_count": 2,
   "metadata": {},
   "outputs": [],
   "source": [
    "%matplotlib inline\n",
    "import matplotlib.pyplot as plt"
   ]
  },
  {
   "cell_type": "markdown",
   "metadata": {},
   "source": [
    "Finally we add to our path the directory containing the example plotting scripts provided with the ctools installation."
   ]
  },
  {
   "cell_type": "code",
   "execution_count": 3,
   "metadata": {},
   "outputs": [],
   "source": [
    "import sys\n",
    "import os\n",
    "sys.path.append(os.environ['CTOOLS']+'/share/examples/python/')"
   ]
  },
  {
   "cell_type": "markdown",
   "metadata": {},
   "source": [
    "## Preparing the model\n",
    "\n",
    "First, we will merge the two models we derived in the previous tutorials for source and background."
   ]
  },
  {
   "cell_type": "code",
   "execution_count": 4,
   "metadata": {},
   "outputs": [
    {
     "name": "stdout",
     "output_type": "stream",
     "text": [
      "=== GModels ===\n",
      " Number of models ..........: 5\n",
      " Number of parameters ......: 86\n",
      "=== GModelSky ===\n",
      " Name ......................: Src001\n",
      " Instruments ...............: all\n",
      " Instrument scale factors ..: unity\n",
      " Observation identifiers ...: all\n",
      " Model type ................: PointSource\n",
      " Model components ..........: \"PointSource\" * \"PowerLaw\" * \"Constant\"\n",
      " Number of parameters ......: 6\n",
      " Number of spatial par's ...: 2\n",
      "  RA .......................: 83.6192131308071 +/- 0 deg (free,scale=1)\n",
      "  DEC ......................: 22.0199996472185 +/- 0 deg (free,scale=1)\n",
      " Number of spectral par's ..: 3\n",
      "  Prefactor ................: 5.7e-18 +/- 0 [0,infty[ ph/cm2/s/MeV (free,scale=5.7e-18,gradient)\n",
      "  Index ....................: -2.48 +/- 0 [10,-10]  (free,scale=-2.48,gradient)\n",
      "  PivotEnergy ..............: 300000 MeV (fixed,scale=300000,gradient)\n",
      " Number of temporal par's ..: 1\n",
      "  Normalization ............: 1 (relative value) (fixed,scale=1,gradient)\n",
      "=== GCTAModelBackground ===\n",
      " Name ......................: Background_023523\n",
      " Instruments ...............: HESS\n",
      " Instrument scale factors ..: unity\n",
      " Observation identifiers ...: 023523\n",
      " Model type ................: CTABackground\n",
      " Model components ..........: \"Multiplicative\" * \"NodeFunction\" * \"Constant\"\n",
      " Number of parameters ......: 20\n",
      " Number of spatial par's ...: 3\n",
      "  1:Sigma ..................: 3.19679118852325 +/- 0.148784221714502 [7.71728e-08,infty[ deg2 (free,scale=1,gradient)\n",
      "  2:Grad_DETX ..............: 0.0882131070561384 +/- 0.0223563997131535 deg^-1 (free,scale=1,gradient)\n",
      "  2:Grad_DETY ..............: -0.000692481271743188 +/- 0.0227254581791992 deg^-1 (free,scale=1,gradient)\n",
      " Number of spectral par's ..: 16\n",
      "  Energy0 ..................: 700000 [7e-05,infty[ MeV (fixed,scale=700000)\n",
      "  Intensity0 ...............: 0.00149714476600658 +/- 0.000185798282794166 [9.46696076103918e-14,infty[ ph/cm2/s/MeV (free,scale=0.000946696076103918,gradient)\n",
      "  Energy1 ..................: 1197413.67463685 [0.000119741367463685,infty[ MeV (fixed,scale=1197413.67463685)\n",
      "  Intensity1 ...............: 0.000275025454049597 +/- 1.50407490107521e-05 [3.11144874586726e-14,infty[ ph/cm2/s/MeV (free,scale=0.000311144874586726,gradient)\n",
      "  Energy2 ..................: 2048285.01172474 [0.000204828501172474,infty[ MeV (fixed,scale=2048285.01172474)\n",
      "  Intensity2 ...............: 9.68931866899334e-05 +/- 5.86314382972939e-06 [1.02262104412654e-14,infty[ ph/cm2/s/MeV (free,scale=0.000102262104412654,gradient)\n",
      "  Energy3 ..................: 3503777.83227556 [0.000350377783227556,infty[ MeV (fixed,scale=3503777.83227556)\n",
      "  Intensity3 ...............: 3.42414862721453e-05 +/- 2.61283857499118e-06 [3.36098674702412e-15,infty[ ph/cm2/s/MeV (free,scale=3.36098674702412e-05,gradient)\n",
      "  Energy4 ..................: 5993530.69893743 [0.000599353069893743,infty[ MeV (fixed,scale=5993530.69893743)\n",
      "  Intensity4 ...............: 1.2134598847599e-05 +/- 1.19969987797427e-06 [1.10463518999066e-15,infty[ ph/cm2/s/MeV (free,scale=1.10463518999066e-05,gradient)\n",
      "  Energy5 ..................: 10252479.454662 [0.0010252479454662,infty[ MeV (fixed,scale=10252479.454662)\n",
      "  Intensity5 ...............: 4.80035386464156e-06 +/- 6.14208278785316e-07 [3.63053768077518e-16,infty[ ph/cm2/s/MeV (free,scale=3.63053768077518e-06,gradient)\n",
      "  Energy6 ..................: 17537798.7113509 [0.00175377987113509,infty[ MeV (fixed,scale=17537798.7113509)\n",
      "  Intensity6 ...............: 8.5455367005893e-07 +/- 1.75301261074233e-07 [1.19322686539072e-16,infty[ ph/cm2/s/MeV (free,scale=1.19322686539072e-06,gradient)\n",
      "  Energy7 ..................: 30000000 [0.003,infty[ MeV (fixed,scale=30000000)\n",
      "  Intensity7 ...............: 2.8110106615004e-07 +/- 1.02501352381156e-07 [3.92170658310361e-17,infty[ ph/cm2/s/MeV (free,scale=3.92170658310361e-07,gradient)\n",
      " Number of temporal par's ..: 1\n",
      "  Normalization ............: 1 (relative value) (fixed,scale=1,gradient)\n",
      "=== GCTAModelBackground ===\n",
      " Name ......................: Background_023526\n",
      " Instruments ...............: HESS\n",
      " Instrument scale factors ..: unity\n",
      " Observation identifiers ...: 023526\n",
      " Model type ................: CTABackground\n",
      " Model components ..........: \"Multiplicative\" * \"NodeFunction\" * \"Constant\"\n",
      " Number of parameters ......: 20\n",
      " Number of spatial par's ...: 3\n",
      "  1:Sigma ..................: 3.30082205953218 +/- 0.156912956620767 [7.71728e-08,infty[ deg2 (free,scale=1,gradient)\n",
      "  2:Grad_DETX ..............: 0.0153115422362867 +/- 0.0215680816698383 deg^-1 (free,scale=1,gradient)\n",
      "  2:Grad_DETY ..............: -0.00906905077562078 +/- 0.0213184759257543 deg^-1 (free,scale=1,gradient)\n",
      " Number of spectral par's ..: 16\n",
      "  Energy0 ..................: 700000 [7e-05,infty[ MeV (fixed,scale=700000)\n",
      "  Intensity0 ...............: 0.00115207913907334 +/- 6.11872558313686e-05 [8.950257713407e-14,infty[ ph/cm2/s/MeV (free,scale=0.0008950257713407,gradient)\n",
      "  Energy1 ..................: 1197413.67463685 [0.000119741367463685,infty[ MeV (fixed,scale=1197413.67463685)\n",
      "  Intensity1 ...............: 0.000216074985117796 +/- 1.14346974881101e-05 [2.82228203274059e-14,infty[ ph/cm2/s/MeV (free,scale=0.000282228203274059,gradient)\n",
      "  Energy2 ..................: 2048285.01172474 [0.000204828501172474,infty[ MeV (fixed,scale=2048285.01172474)\n",
      "  Intensity2 ...............: 9.80980717622882e-05 +/- 6.14243331439364e-06 [8.8994933189452e-15,infty[ ph/cm2/s/MeV (free,scale=8.8994933189452e-05,gradient)\n",
      "  Energy3 ..................: 3503777.83227556 [0.000350377783227556,infty[ MeV (fixed,scale=3503777.83227556)\n",
      "  Intensity3 ...............: 2.64302082334315e-05 +/- 2.27978082923659e-06 [2.80627451173057e-15,infty[ ph/cm2/s/MeV (free,scale=2.80627451173057e-05,gradient)\n",
      "  Energy4 ..................: 5993530.69893743 [0.000599353069893743,infty[ MeV (fixed,scale=5993530.69893743)\n",
      "  Intensity4 ...............: 1.03353701064884e-05 +/- 1.13230244143927e-06 [8.84901685180661e-16,infty[ ph/cm2/s/MeV (free,scale=8.84901685180661e-06,gradient)\n",
      "  Energy5 ..................: 10252479.454662 [0.0010252479454662,infty[ MeV (fixed,scale=10252479.454662)\n",
      "  Intensity5 ...............: 3.57899467682822e-06 +/- 5.03727665165389e-07 [2.79035778275547e-16,infty[ ph/cm2/s/MeV (free,scale=2.79035778275547e-06,gradient)\n",
      "  Energy6 ..................: 17537798.7113509 [0.00175377987113509,infty[ MeV (fixed,scale=17537798.7113509)\n",
      "  Intensity6 ...............: 5.95101204005172e-07 +/- 1.41251129058325e-07 [8.79882667891458e-17,infty[ ph/cm2/s/MeV (free,scale=8.79882667891458e-07,gradient)\n",
      "  Energy7 ..................: 30000000 [0.003,infty[ MeV (fixed,scale=30000000)\n",
      "  Intensity7 ...............: 2.81714577113613e-07 +/- 1.0384120888285e-07 [2.77453133085778e-17,infty[ ph/cm2/s/MeV (free,scale=2.77453133085778e-07,gradient)\n",
      " Number of temporal par's ..: 1\n",
      "  Normalization ............: 1 (relative value) (fixed,scale=1,gradient)\n",
      "=== GCTAModelBackground ===\n",
      " Name ......................: Background_023559\n",
      " Instruments ...............: HESS\n",
      " Instrument scale factors ..: unity\n",
      " Observation identifiers ...: 023559\n",
      " Model type ................: CTABackground\n",
      " Model components ..........: \"Multiplicative\" * \"NodeFunction\" * \"Constant\"\n",
      " Number of parameters ......: 20\n",
      " Number of spatial par's ...: 3\n",
      "  1:Sigma ..................: 4.32704862685447 +/- 0.368685355107103 [7.71728e-08,infty[ deg2 (free,scale=1,gradient)\n",
      "  2:Grad_DETX ..............: 0.018772378083067 +/- 0.0217106872366865 deg^-1 (free,scale=1,gradient)\n",
      "  2:Grad_DETY ..............: -0.126627961668458 +/- 0.0204738085196433 deg^-1 (free,scale=1,gradient)\n",
      " Number of spectral par's ..: 16\n",
      "  Energy0 ..................: 700000 [7e-05,infty[ MeV (fixed,scale=700000)\n",
      "  Intensity0 ...............: 0.000915773345685034 +/- 4.89989530347851e-05 [7.43957604504927e-14,infty[ ph/cm2/s/MeV (free,scale=0.000743957604504927,gradient)\n",
      "  Energy1 ..................: 1197413.67463685 [0.000119741367463685,infty[ MeV (fixed,scale=1197413.67463685)\n",
      "  Intensity1 ...............: 0.000197398656687683 +/- 1.07759903733823e-05 [2.35277778278335e-14,infty[ ph/cm2/s/MeV (free,scale=0.000235277778278335,gradient)\n",
      "  Energy2 ..................: 2048285.01172474 [0.000204828501172474,infty[ MeV (fixed,scale=2048285.01172474)\n",
      "  Intensity2 ...............: 6.93704083542102e-05 +/- 4.77505196699795e-06 [7.44069724086306e-15,infty[ ph/cm2/s/MeV (free,scale=7.44069724086306e-05,gradient)\n",
      "  Energy3 ..................: 3503777.83227556 [0.000350377783227556,infty[ MeV (fixed,scale=3503777.83227556)\n",
      "  Intensity3 ...............: 2.57663537500693e-05 +/- 2.20136814658691e-06 [2.35313236274662e-15,infty[ ph/cm2/s/MeV (free,scale=2.35313236274662e-05,gradient)\n",
      "  Energy4 ..................: 5993530.69893743 [0.000599353069893743,infty[ MeV (fixed,scale=5993530.69893743)\n",
      "  Intensity4 ...............: 6.82483279973139e-06 +/- 7.86680350899204e-07 [7.44181860564889e-16,infty[ ph/cm2/s/MeV (free,scale=7.44181860564889e-06,gradient)\n",
      "  Energy5 ..................: 10252479.454662 [0.0010252479454662,infty[ MeV (fixed,scale=10252479.454662)\n",
      "  Intensity5 ...............: 3.3292540797357e-06 +/- 4.68826132796518e-07 [2.35348699614757e-16,infty[ ph/cm2/s/MeV (free,scale=2.35348699614757e-06,gradient)\n",
      "  Energy6 ..................: 17537798.7113509 [0.00175377987113509,infty[ MeV (fixed,scale=17537798.7113509)\n",
      "  Intensity6 ...............: 8.19437245391855e-07 +/- 1.82363529352901e-07 [7.44294013943215e-17,infty[ ph/cm2/s/MeV (free,scale=7.44294013943215e-07,gradient)\n",
      "  Energy7 ..................: 30000000 [0.003,infty[ MeV (fixed,scale=30000000)\n",
      "  Intensity7 ...............: 1.44457348642334e-07 +/- 7.0968299684809e-08 [2.35384168299424e-17,infty[ ph/cm2/s/MeV (free,scale=2.35384168299424e-07,gradient)\n",
      " Number of temporal par's ..: 1\n",
      "  Normalization ............: 1 (relative value) (fixed,scale=1,gradient)\n",
      "=== GCTAModelBackground ===\n",
      " Name ......................: Background_023592\n",
      " Instruments ...............: HESS\n",
      " Instrument scale factors ..: unity\n",
      " Observation identifiers ...: 023592\n",
      " Model type ................: CTABackground\n",
      " Model components ..........: \"Multiplicative\" * \"NodeFunction\" * \"Constant\"\n",
      " Number of parameters ......: 20\n",
      " Number of spatial par's ...: 3\n",
      "  1:Sigma ..................: 3.6479543205698 +/- 0.238749563358304 [7.71728e-08,infty[ deg2 (free,scale=1,gradient)\n",
      "  2:Grad_DETX ..............: 0.0290086310507671 +/- 0.0231654281693484 deg^-1 (free,scale=1,gradient)\n",
      "  2:Grad_DETY ..............: 0.165462911909218 +/- 0.0212932684624286 deg^-1 (free,scale=1,gradient)\n",
      " Number of spectral par's ..: 16\n",
      "  Energy0 ..................: 700000 [7e-05,infty[ MeV (fixed,scale=700000)\n",
      "  Intensity0 ...............: 0.00147439433272687 +/- 0.000191693450881709 [8.6655214667889e-14,infty[ ph/cm2/s/MeV (free,scale=0.00086655214667889,gradient)\n",
      "  Energy1 ..................: 1197413.67463685 [0.000119741367463685,infty[ MeV (fixed,scale=1197413.67463685)\n",
      "  Intensity1 ...............: 0.000235250773930648 +/- 1.37598369145017e-05 [2.81551973223247e-14,infty[ ph/cm2/s/MeV (free,scale=0.000281551973223247,gradient)\n",
      "  Energy2 ..................: 2048285.01172474 [0.000204828501172474,infty[ MeV (fixed,scale=2048285.01172474)\n",
      "  Intensity2 ...............: 9.20623251759662e-05 +/- 5.75965738880592e-06 [9.1479219028787e-15,infty[ ph/cm2/s/MeV (free,scale=9.1479219028787e-05,gradient)\n",
      "  Energy3 ..................: 3503777.83227556 [0.000350377783227556,infty[ MeV (fixed,scale=3503777.83227556)\n",
      "  Intensity3 ...............: 3.22022945215284e-05 +/- 2.53414761162924e-06 [2.97225674475431e-15,infty[ ph/cm2/s/MeV (free,scale=2.97225674475431e-05,gradient)\n",
      "  Energy4 ..................: 5993530.69893743 [0.000599353069893743,infty[ MeV (fixed,scale=5993530.69893743)\n",
      "  Intensity4 ...............: 1.00701723302328e-05 +/- 1.04797408736245e-06 [9.65717706221071e-16,infty[ ph/cm2/s/MeV (free,scale=9.65717706221071e-06,gradient)\n",
      "  Energy5 ..................: 10252479.454662 [0.0010252479454662,infty[ MeV (fixed,scale=10252479.454662)\n",
      "  Intensity5 ...............: 3.29354066928594e-06 +/- 4.58158358563221e-07 [3.1377191413724e-16,infty[ ph/cm2/s/MeV (free,scale=3.1377191413724e-06,gradient)\n",
      "  Energy6 ..................: 17537798.7113509 [0.00175377987113509,infty[ MeV (fixed,scale=17537798.7113509)\n",
      "  Intensity6 ...............: 8.71669675678694e-07 +/- 1.76346292129154e-07 [1.01947819188903e-16,infty[ ph/cm2/s/MeV (free,scale=1.01947819188903e-06,gradient)\n",
      "  Energy7 ..................: 30000000 [0.003,infty[ MeV (fixed,scale=30000000)\n",
      "  Intensity7 ...............: 3.12067435753287e-07 +/- 1.11366909796179e-07 [3.31239265501224e-17,infty[ ph/cm2/s/MeV (free,scale=3.31239265501224e-07,gradient)\n",
      " Number of temporal par's ..: 1\n",
      "  Normalization ............: 1 (relative value) (fixed,scale=1,gradient)\n"
     ]
    }
   ],
   "source": [
    "srcmodel = 'crab.xml'\n",
    "bkgmodel = 'bkgmodel.xml'\n",
    "\n",
    "models = gammalib.GModels()\n",
    "for inmodels in [srcmodel,bkgmodel]:\n",
    "    for model in gammalib.GModels(inmodels):\n",
    "        models.append(model)\n",
    "        \n",
    "print(models)"
   ]
  },
  {
   "cell_type": "markdown",
   "metadata": {},
   "source": [
    "Note how the source found by cssrcdetect was named *Src001*. We will call it *Crab* instead. Also, spectral parameters are set to default values, but you should make sure they are appropriate so that the model fit runs seamlessly. In this case it is best to set the value of the pivot energy for the Crab within our energy range (> 0.66 TeV). We will set it to 1 TeV."
   ]
  },
  {
   "cell_type": "code",
   "execution_count": 5,
   "metadata": {},
   "outputs": [],
   "source": [
    "models['Src001'].name('Crab')\n",
    "models['Crab']['PivotEnergy'].value(1.e6)"
   ]
  },
  {
   "cell_type": "markdown",
   "metadata": {},
   "source": [
    "We will save this model to disk for later use."
   ]
  },
  {
   "cell_type": "code",
   "execution_count": 6,
   "metadata": {},
   "outputs": [],
   "source": [
    "modelfile = 'crab_models.xml'\n",
    "models.save(modelfile)"
   ]
  },
  {
   "cell_type": "markdown",
   "metadata": {},
   "source": [
    "## Fitting the model to the data\n",
    "\n",
    "The model fit is performed by ctlike. We will use the previously selected events."
   ]
  },
  {
   "cell_type": "code",
   "execution_count": 7,
   "metadata": {},
   "outputs": [],
   "source": [
    "obsfile = \"obs_crab_selected.xml\"\n",
    "\n",
    "like = ctools.ctlike()\n",
    "like['inobs'] = obsfile\n",
    "like['inmodel'] = modelfile\n",
    "\n",
    "like.run()"
   ]
  },
  {
   "cell_type": "markdown",
   "metadata": {},
   "source": [
    "We can now look at the results from the optimisation and the fitted model."
   ]
  },
  {
   "cell_type": "code",
   "execution_count": 8,
   "metadata": {},
   "outputs": [
    {
     "name": "stdout",
     "output_type": "stream",
     "text": [
      "=== GOptimizerLM ===\n",
      " Optimized function value ..: 98200.140\n",
      " Absolute precision ........: 0.005\n",
      " Acceptable value decrease .: 2\n",
      " Optimization status .......: converged\n",
      " Number of parameters ......: 86\n",
      " Number of free parameters .: 48\n",
      " Number of iterations ......: 28\n",
      " Lambda ....................: 0.1\n",
      "=== GModelSky ===\n",
      " Name ......................: Crab\n",
      " Instruments ...............: all\n",
      " Instrument scale factors ..: unity\n",
      " Observation identifiers ...: all\n",
      " Model type ................: PointSource\n",
      " Model components ..........: \"PointSource\" * \"PowerLaw\" * \"Constant\"\n",
      " Number of parameters ......: 6\n",
      " Number of spatial par's ...: 2\n",
      "  RA .......................: 83.6230528971337 +/- 0.00239926913139826 deg (free,scale=1)\n",
      "  DEC ......................: 22.0247811584824 +/- 0.0021892515628272 deg (free,scale=1)\n",
      " Number of spectral par's ..: 3\n",
      "  Prefactor ................: 4.89251809524732e-17 +/- 2.67898412101055e-18 [0,infty[ ph/cm2/s/MeV (free,scale=5.7e-18,gradient)\n",
      "  Index ....................: -2.70266617269294 +/- 0.0657789822882349 [10,-10]  (free,scale=-2.48,gradient)\n",
      "  PivotEnergy ..............: 999999.999999999 MeV (fixed,scale=300000,gradient)\n",
      " Number of temporal par's ..: 1\n",
      "  Normalization ............: 1 (relative value) (fixed,scale=1,gradient)\n"
     ]
    }
   ],
   "source": [
    "print(like.opt())\n",
    "print(like.obs().models()['Crab'])"
   ]
  },
  {
   "cell_type": "markdown",
   "metadata": {},
   "source": [
    "The statistical 1-sigma positional uncertainty corresponds to 0.12 arcmin. Systematic uncertainties are not computed. The fitted position can be compared to the values of 83.629±0.005 degrees in Right Ascension and 22.012±0.001 degrees in Declination reported in [Holler et al. (2017)](https://arxiv.org/pdf/1707.04196.pdf).\n",
    "\n",
    "According to [SIMBAD](http://cdsportal.u-strasbg.fr/?target=Crab%20nebula), the Crab nebula is situated at a Right Ascension of 83.633 degrees and a Declination of 22.015 degrees, which is 0.013 degrees (0.82 arcmin) away from the fitted position.\n",
    "\n",
    "The intensity at 1 TeV of the Crab was fitted to (4.89±0.27)×10−11 photons cm−2 s−1 TeV−1 the spectral index of the power law is −2.70±0.07. This can be compared to the values of (3.45±0.05)×10−11 photons cm−2 s−1 TeV−1 and −2.63±0.01 reported in [Aharonian et al. (2006), A&A, 457, 899](https://www.aanda.org/articles/aa/abs/2006/39/aa5351-06/aa5351-06.html) (note that the datasets, calibrations etc. used in our analysis are not the same as in that paper).\n",
    "\n",
    "In the ctlike run above the energy dispersion, which relates the true photon energies to the energies of the reconstructed events, was not taken into account. By default **energy dispersion usage is disabled** since it involves an extra dimension in the data analysis which slows down the computations. We can run accounting for energy dispersion to compare the results."
   ]
  },
  {
   "cell_type": "code",
   "execution_count": 9,
   "metadata": {},
   "outputs": [],
   "source": [
    "like['edisp'] = True\n",
    "\n",
    "like.run()"
   ]
  },
  {
   "cell_type": "code",
   "execution_count": 10,
   "metadata": {},
   "outputs": [
    {
     "name": "stdout",
     "output_type": "stream",
     "text": [
      "=== GOptimizerLM ===\n",
      " Optimized function value ..: 98197.286\n",
      " Absolute precision ........: 0.005\n",
      " Acceptable value decrease .: 2\n",
      " Optimization status .......: converged\n",
      " Number of parameters ......: 86\n",
      " Number of free parameters .: 48\n",
      " Number of iterations ......: 3\n",
      " Lambda ....................: 1e-06\n",
      "=== GModelSky ===\n",
      " Name ......................: Crab\n",
      " Instruments ...............: all\n",
      " Instrument scale factors ..: unity\n",
      " Observation identifiers ...: all\n",
      " Model type ................: PointSource\n",
      " Model components ..........: \"PointSource\" * \"PowerLaw\" * \"Constant\"\n",
      " Number of parameters ......: 6\n",
      " Number of spatial par's ...: 2\n",
      "  RA .......................: 83.6216748574258 +/- 0.00272066304506809 deg (free,scale=1)\n",
      "  DEC ......................: 22.0244889319664 +/- 0.0024860621013803 deg (free,scale=1)\n",
      " Number of spectral par's ..: 3\n",
      "  Prefactor ................: 4.14814740728779e-17 +/- 2.00490449017781e-18 [0,infty[ ph/cm2/s/MeV (free,scale=5.7e-18,gradient)\n",
      "  Index ....................: -2.73454025222651 +/- 0.0699765314511747 [10,-10]  (free,scale=-2.48,gradient)\n",
      "  PivotEnergy ..............: 999999.999999999 MeV (fixed,scale=300000,gradient)\n",
      " Number of temporal par's ..: 1\n",
      "  Normalization ............: 1 (relative value) (fixed,scale=1,gradient)\n"
     ]
    }
   ],
   "source": [
    "print(like.opt())\n",
    "print(like.obs().models()['Crab'])"
   ]
  },
  {
   "cell_type": "markdown",
   "metadata": {},
   "source": [
    "You can verify that the results are broadly consistents with those obtained ignoring the energy dispersion.\n",
    "\n",
    "## Inspecting the fit residuals\n",
    "\n",
    "Following a model fit, you should always inspect the fit residuals. First let’s inspect the spectral residuals. You can do this using the csresspec script."
   ]
  },
  {
   "cell_type": "code",
   "execution_count": 11,
   "metadata": {},
   "outputs": [
    {
     "data": {
      "image/png": "[encoded data removed]",
      "text/plain": [
       "<matplotlib.figure.Figure at 0x10fee3c88>"
      ]
     },
     "metadata": {},
     "output_type": "display_data"
    }
   ],
   "source": [
    "residuals = 'residuals.fits'\n",
    "\n",
    "resspec = cscripts.csresspec(like.obs())\n",
    "resspec['stack']       = True\n",
    "resspec['components']  = True\n",
    "resspec['ebinalg']     = 'LOG'\n",
    "resspec['emin']        = 0.66\n",
    "resspec['emax']        = 100.\n",
    "resspec['enumbins']    = 20\n",
    "resspec['proj']        = 'CAR'\n",
    "resspec['coordsys']    = 'CEL'\n",
    "resspec['xref']        = 83.63\n",
    "resspec['yref']        = 22.01\n",
    "resspec['binsz']       = 0.02\n",
    "resspec['nxpix']       = 200\n",
    "resspec['nypix']       = 200\n",
    "resspec['algorithm']   = 'SIGNIFICANCE'\n",
    "resspec['outfile']     = residuals\n",
    "\n",
    "resspec.execute()\n",
    "\n",
    "from show_residuals import plot_residuals\n",
    "plot_residuals(residuals,'',0)"
   ]
  },
  {
   "cell_type": "markdown",
   "metadata": {},
   "source": [
    "The spectral fit looks satisfactory. Finally you should also inspect the spatial residuals. You do this using the csresmap script."
   ]
  },
  {
   "cell_type": "code",
   "execution_count": 12,
   "metadata": {},
   "outputs": [],
   "source": [
    "resmap = cscripts.csresmap(like.obs())\n",
    "resmap['emin']        = 0.66\n",
    "resmap['emax']        = 100.\n",
    "resmap['proj']        = 'CAR'\n",
    "resmap['coordsys']    = 'CEL'\n",
    "resmap['xref']        = 83.63\n",
    "resmap['yref']        = 22.01\n",
    "resmap['binsz']       = 0.02\n",
    "resmap['nxpix']       = 200\n",
    "resmap['nypix']       = 200\n",
    "resmap['algorithm']   = 'SUBDIV'\n",
    "\n",
    "resmap.run()"
   ]
  },
  {
   "cell_type": "markdown",
   "metadata": {},
   "source": [
    "We will inspect the residual map with a slight smoothing to suppress statistical fluctuations."
   ]
  },
  {
   "cell_type": "code",
   "execution_count": 13,
   "metadata": {
    "code_folding": []
   },
   "outputs": [
    {
     "data": {
      "image/png": "[encoded data removed]",
      "text/plain": [
       "<matplotlib.figure.Figure at 0x103e6f978>"
      ]
     },
     "metadata": {},
     "output_type": "display_data"
    }
   ],
   "source": [
    "resmap._resmap.smooth('GAUSSIAN',0.1)\n",
    "\n",
    "ax  = plt.subplot()\n",
    "plt.imshow(resmap._resmap.array(),origin='lower',\n",
    "            cmap='bwr',vmin=-1,vmax=1,\n",
    "            extent=[83.63+0.02*200,83.63-0.02*200,22.01-0.02*200,22.01+0.02*200])\n",
    "            # Boundaries of the coord grid\n",
    "ax.set_xlabel('R.A. (deg)')\n",
    "ax.set_ylabel('Dec (deg)')\n",
    "cbar = plt.colorbar()\n",
    "cbar.set_label('Residuals/Total Counts')"
   ]
  },
  {
   "cell_type": "markdown",
   "metadata": {},
   "source": [
    "The residuals look flat across the field analysed."
   ]
  }
 ],
 "metadata": {
  "kernelspec": {
   "display_name": "Python 3",
   "language": "python",
   "name": "python3"
  },
  "language_info": {
   "codemirror_mode": {
    "name": "ipython",
    "version": 3
   },
   "file_extension": ".py",
   "mimetype": "text/x-python",
   "name": "python",
   "nbconvert_exporter": "python",
   "pygments_lexer": "ipython3",
   "version": "3.5.4"
  }
 },
 "nbformat": 4,
 "nbformat_minor": 2
}
